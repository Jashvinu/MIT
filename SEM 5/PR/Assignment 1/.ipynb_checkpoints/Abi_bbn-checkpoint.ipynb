{
 "cells": [
  {
   "cell_type": "code",
   "execution_count": 28,
   "metadata": {
    "pycharm": {
     "name": "#%%\n"
    }
   },
   "outputs": [],
   "source": [
    "from pybbn.graph.dag import Bbn\n",
    "from pybbn.graph.node import BbnNode\n",
    "from pybbn.graph.variable import Variable\n",
    "from pybbn.graph.edge import Edge, EdgeType\n",
    "from pybbn.pptc.inferencecontroller import InferenceController\n",
    "from pybbn.graph.jointree import EvidenceBuilder"
   ]
  },
  {
   "cell_type": "code",
   "execution_count": 29,
   "metadata": {
    "pycharm": {
     "name": "#%%\n"
    }
   },
   "outputs": [],
   "source": [
    "burglary = BbnNode(Variable(0, 'Burglary', ['Yes', 'No']), [0.001, 0.999])\n",
    "\n",
    "fire = BbnNode(Variable(1, 'Fire', ['Yes','No']), [0.002, 0.998])"
   ]
  },
  {
   "cell_type": "code",
   "execution_count": 30,
   "metadata": {
    "pycharm": {
     "name": "#%%\n"
    }
   },
   "outputs": [],
   "source": [
    "alarm = BbnNode(Variable(2, 'Alarm', ['Yes', 'No']), [0.95, 0.05, 0.94, 0.06, 0.29, 0.71, 0.001, 0.999])"
   ]
  },
  {
   "cell_type": "code",
   "execution_count": 31,
   "metadata": {
    "pycharm": {
     "name": "#%%\n"
    }
   },
   "outputs": [],
   "source": [
    "alice = BbnNode(Variable(3, 'Alice', ['Yes', 'No']), [0.95, 0.05, 0.05, 0.95])\n",
    "\n",
    "bob = BbnNode(Variable(4, 'Bob', ['Yes', 'No']), [0.80, 0.20, 0.01, 0.99])"
   ]
  },
  {
   "cell_type": "code",
   "execution_count": 32,
   "metadata": {
    "pycharm": {
     "name": "#%%\n"
    }
   },
   "outputs": [],
   "source": [
    "bbn = Bbn()\\\n",
    "    .add_node(burglary)\\\n",
    "    .add_node(fire)\\\n",
    "    .add_node(alarm)\\\n",
    "    .add_node(alice)\\\n",
    "    .add_node(bob)\\\n",
    "    .add_edge(Edge(burglary, alarm, EdgeType.DIRECTED))\\\n",
    "    .add_edge(Edge(fire,alarm, EdgeType.DIRECTED))\\\n",
    "    .add_edge(Edge(alarm, alice, EdgeType.DIRECTED))\\\n",
    "    .add_edge(Edge(alarm, bob, EdgeType.DIRECTED))"
   ]
  },
  {
   "cell_type": "code",
   "execution_count": 33,
   "metadata": {
    "pycharm": {
     "name": "#%%\n"
    }
   },
   "outputs": [
    {
     "name": "stdout",
     "output_type": "stream",
     "text": [
      "Alarm : Yes=0.00252, No=0.99748\n",
      "Alice : Yes=0.05226, No=0.94774\n",
      "Bob : Yes=0.01199, No=0.98801\n",
      "Fire : Yes=0.00200, No=0.99800\n",
      "Burglary : Yes=0.00100, No=0.99900\n"
     ]
    }
   ],
   "source": [
    "join_tree = InferenceController.apply(bbn)\n",
    "for node, posteriors in join_tree.get_posteriors().items():\n",
    "    p = ', '.join([f'{val}={prob:.5f}' for val, prob in posteriors.items()])\n",
    "    print(f'{node} : {p}')"
   ]
  },
  {
   "cell_type": "code",
   "execution_count": 34,
   "metadata": {
    "pycharm": {
     "name": "#%%\n"
    }
   },
   "outputs": [],
   "source": [
    "orignal = join_tree.__copy__()"
   ]
  },
  {
   "cell_type": "code",
   "execution_count": 35,
   "metadata": {
    "pycharm": {
     "name": "#%%\n"
    }
   },
   "outputs": [
    {
     "name": "stdout",
     "output_type": "stream",
     "text": [
      "Node: 2|Alarm|Yes,No\n",
      "Values:\n",
      "2=Yes|0.00252\n",
      "2=No|0.99748\n",
      "----------------\n",
      "Node: 3|Alice|Yes,No\n",
      "Values:\n",
      "3=Yes|0.05226\n",
      "3=No|0.94774\n",
      "----------------\n",
      "Node: 4|Bob|Yes,No\n",
      "Values:\n",
      "4=Yes|0.01199\n",
      "4=No|0.98801\n",
      "----------------\n",
      "Node: 1|Fire|Yes,No\n",
      "Values:\n",
      "1=Yes|0.00200\n",
      "1=No|0.99800\n",
      "----------------\n",
      "Node: 0|Burglary|Yes,No\n",
      "Values:\n",
      "0=Yes|0.00100\n",
      "0=No|0.99900\n",
      "----------------\n"
     ]
    }
   ],
   "source": [
    "# Define a function for printing marginal probabilities\n",
    "def print_probs():\n",
    "    for node in join_tree.get_bbn_nodes():\n",
    "        potential = join_tree.get_bbn_potential(node)\n",
    "        print(\"Node:\", node)\n",
    "        print(\"Values:\")\n",
    "        print(potential)\n",
    "        print('----------------')\n",
    "\n",
    "# Use the above function to print marginal probabilities\n",
    "print_probs()"
   ]
  },
  {
   "cell_type": "code",
   "execution_count": 36,
   "metadata": {
    "pycharm": {
     "name": "#%%\n"
    }
   },
   "outputs": [],
   "source": [
    "# To add evidence of events that happened so probability distribution can be recalculated\n",
    "def evidence(ev, nod, cat, val):\n",
    "    ev = EvidenceBuilder().with_node(join_tree.get_bbn_node_by_name(nod)).with_evidence(cat, val).build()\n",
    "    join_tree.set_observation(ev)"
   ]
  },
  {
   "cell_type": "markdown",
   "metadata": {
    "pycharm": {
     "name": "#%% md\n"
    }
   },
   "source": [
    "p(alarm) = p(alarm| burglary, fire) * p(burglary) * p(fire) + p(alarm| burglary, ~fire) * p(burglary) * p(~fire) + p(alarm| ~burglary, fire) * p(~burglary) * p(fire) + p(alarm| ~burglary, ~fire) * p(~fire) * p(~fire)\n",
    "\n",
    "\n",
    "p(alice) = p(alice| alarm) * p(alarm) + p(alice| ~alarm) * p(~alarm)"
   ]
  },
  {
   "cell_type": "code",
   "execution_count": 37,
   "metadata": {
    "pycharm": {
     "name": "#%%\n"
    }
   },
   "outputs": [],
   "source": [
    "val = join_tree.get_bbn_potential(alarm).entries[0].value"
   ]
  },
  {
   "cell_type": "code",
   "execution_count": 44,
   "metadata": {
    "pycharm": {
     "name": "#%%\n"
    }
   },
   "outputs": [],
   "source": [
    "p_burglary_yes = join_tree.get_bbn_potential(burglary).entries[0].value\n",
    "p_burglary_no = join_tree.get_bbn_potential(burglary).entries[1].value\n",
    "\n",
    "p_fire_yes = join_tree.get_bbn_potential(fire).entries[0].value\n",
    "p_fire_no = join_tree.get_bbn_potential(fire).entries[1].value"
   ]
  },
  {
   "cell_type": "code",
   "execution_count": 45,
   "metadata": {
    "pycharm": {
     "name": "#%%\n"
    }
   },
   "outputs": [
    {
     "data": {
      "text/plain": [
       "<pybbn.graph.jointree.JoinTree at 0x7f38fa1d59a0>"
      ]
     },
     "execution_count": 45,
     "metadata": {},
     "output_type": "execute_result"
    }
   ],
   "source": [
    "# p(alarm| burglary, fire)\n",
    "evidence('ev1', 'Burglary', 'Yes', 1.0)\n",
    "evidence('ev2', 'Fire', 'Yes', 1.0)\n",
    "p_alarm_yes_burglary_yes_fire_yes = join_tree.get_bbn_potential(alarm).entries[0].value\n",
    "join_tree.unobserve([burglary, fire])\n",
    "\n",
    "# p(alarm| burglary, ~fire)\n",
    "evidence('ev1', 'Burglary', 'Yes', 1.0)\n",
    "evidence('ev2', 'Fire', 'No', 1.0)\n",
    "p_alarm_yes_burglary_yes_fire_no = join_tree.get_bbn_potential(alarm).entries[0].value\n",
    "join_tree.unobserve([burglary, fire])\n",
    "\n",
    "# p(alarm| ~burglary, fire)\n",
    "evidence('ev1', 'Burglary', 'No', 1.0)\n",
    "evidence('ev2', 'Fire', 'Yes', 1.0)\n",
    "p_alarm_yes_burglary_no_fire_yes = join_tree.get_bbn_potential(alarm).entries[0].value\n",
    "join_tree.unobserve([burglary, fire])\n",
    "\n",
    "# p(alarm| ~burglary, ~fire)\n",
    "evidence('ev1', 'Burglary', 'No', 1.0)\n",
    "evidence('ev2', 'Fire', 'No', 1.0)\n",
    "p_alarm_yes_burglary_no_fire_no = join_tree.get_bbn_potential(alarm).entries[0].value\n",
    "join_tree.unobserve([burglary, fire])"
   ]
  },
  {
   "cell_type": "code",
   "execution_count": 46,
   "metadata": {
    "pycharm": {
     "name": "#%%\n"
    }
   },
   "outputs": [],
   "source": [
    "p_alarm_yes = p_alarm_yes_burglary_yes_fire_yes * p_burglary_yes * p_fire_yes + p_alarm_yes_burglary_yes_fire_no * p_burglary_yes * p_fire_no + p_alarm_yes_burglary_no_fire_yes * p_burglary_no * p_fire_yes + p_alarm_yes_burglary_no_fire_no * p_burglary_no * p_fire_no"
   ]
  },
  {
   "cell_type": "code",
   "execution_count": 47,
   "metadata": {
    "pycharm": {
     "name": "#%%\n"
    }
   },
   "outputs": [
    {
     "name": "stdout",
     "output_type": "stream",
     "text": [
      "0.9500000000000001 0.001 0.002\n"
     ]
    }
   ],
   "source": [
    "print(p_alarm_yes_burglary_yes_fire_yes, p_burglary_yes, p_fire_yes)"
   ]
  },
  {
   "cell_type": "code",
   "execution_count": 48,
   "metadata": {
    "pycharm": {
     "name": "#%%\n"
    }
   },
   "outputs": [
    {
     "data": {
      "text/plain": [
       "0.002516442"
      ]
     },
     "execution_count": 48,
     "metadata": {},
     "output_type": "execute_result"
    }
   ],
   "source": [
    "p_alarm_yes"
   ]
  },
  {
   "cell_type": "code",
   "execution_count": 49,
   "metadata": {
    "pycharm": {
     "name": "#%%\n"
    }
   },
   "outputs": [],
   "source": [
    "p_alarm_no = 1 - p_alarm_yes"
   ]
  },
  {
   "cell_type": "code",
   "execution_count": 50,
   "metadata": {
    "pycharm": {
     "name": "#%%\n"
    }
   },
   "outputs": [
    {
     "data": {
      "text/plain": [
       "0.997483558"
      ]
     },
     "execution_count": 50,
     "metadata": {},
     "output_type": "execute_result"
    }
   ],
   "source": [
    "p_alarm_no"
   ]
  },
  {
   "cell_type": "code",
   "execution_count": 51,
   "metadata": {
    "pycharm": {
     "name": "#%%\n"
    }
   },
   "outputs": [
    {
     "data": {
      "text/plain": [
       "<pybbn.graph.jointree.JoinTree at 0x7f38fa1d59a0>"
      ]
     },
     "execution_count": 51,
     "metadata": {},
     "output_type": "execute_result"
    }
   ],
   "source": [
    "#p(alice| alarm)\n",
    "evidence('ev1', 'Alarm', 'Yes', 1.0)\n",
    "p_alice_yes_alarm_yes = join_tree.get_bbn_potential(alice).entries[0].value\n",
    "join_tree.unobserve([alarm])\n",
    "\n",
    "#p(alice| ~alarm)\n",
    "evidence('ev1', 'Alarm', 'No', 1.0)\n",
    "p_alice_yes_alarm_no = join_tree.get_bbn_potential(alice).entries[0].value\n",
    "join_tree.unobserve([alarm])"
   ]
  },
  {
   "cell_type": "code",
   "execution_count": 52,
   "metadata": {
    "pycharm": {
     "name": "#%%\n"
    }
   },
   "outputs": [],
   "source": [
    "p_alice_yes = p_alice_yes_alarm_yes * p_alarm_yes + p_alice_yes_alarm_no * p_alarm_no"
   ]
  },
  {
   "cell_type": "code",
   "execution_count": 53,
   "metadata": {
    "pycharm": {
     "name": "#%%\n"
    }
   },
   "outputs": [
    {
     "data": {
      "text/plain": [
       "0.052264797800000005"
      ]
     },
     "execution_count": 53,
     "metadata": {},
     "output_type": "execute_result"
    }
   ],
   "source": [
    "p_alice_yes"
   ]
  },
  {
   "cell_type": "code",
   "execution_count": 54,
   "metadata": {
    "pycharm": {
     "name": "#%%\n"
    }
   },
   "outputs": [],
   "source": [
    "p_alice_no = 1 - p_alice_yes"
   ]
  },
  {
   "cell_type": "code",
   "execution_count": 55,
   "metadata": {
    "pycharm": {
     "name": "#%%\n"
    }
   },
   "outputs": [
    {
     "data": {
      "text/plain": [
       "0.997483558"
      ]
     },
     "execution_count": 55,
     "metadata": {},
     "output_type": "execute_result"
    }
   ],
   "source": [
    "p_alarm_no"
   ]
  },
  {
   "cell_type": "code",
   "execution_count": null,
   "metadata": {
    "pycharm": {
     "name": "#%%\n"
    }
   },
   "outputs": [],
   "source": []
  }
 ],
 "metadata": {
  "kernelspec": {
   "display_name": "Python 3 (ipykernel)",
   "language": "python",
   "name": "python3"
  },
  "language_info": {
   "codemirror_mode": {
    "name": "ipython",
    "version": 3
   },
   "file_extension": ".py",
   "mimetype": "text/x-python",
   "name": "python",
   "nbconvert_exporter": "python",
   "pygments_lexer": "ipython3",
   "version": "3.9.6"
  }
 },
 "nbformat": 4,
 "nbformat_minor": 1
}
