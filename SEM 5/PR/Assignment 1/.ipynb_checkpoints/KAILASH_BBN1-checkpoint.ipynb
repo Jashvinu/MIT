{
 "cells": [
  {
   "cell_type": "markdown",
   "metadata": {
    "id": "l4MnOYlDDzon"
   },
   "source": [
    "**<h1>Aim: </h1>**\n",
    "The aim of this notebook is to perform BBN on the given MonkeyPox Dataset"
   ]
  },
  {
   "cell_type": "markdown",
   "metadata": {
    "id": "jIT0fxElEMlb"
   },
   "source": [
    "**Importing modules required for this project:**"
   ]
  },
  {
   "cell_type": "code",
   "execution_count": 116,
   "metadata": {
    "id": "ryCRmNM-AIxI"
   },
   "outputs": [],
   "source": [
    "import pandas as pd # for data manipulation \n",
    "import networkx as nx # for drawing graphs\n",
    "import matplotlib.pyplot as plt # for drawing graphs\n",
    "import io"
   ]
  },
  {
   "cell_type": "code",
   "execution_count": 117,
   "metadata": {
    "colab": {
     "base_uri": "https://localhost:8080/"
    },
    "id": "832TlDm9AMWr",
    "outputId": "20a2527a-fb55-415c-86c2-2edcc9c15e0e"
   },
   "outputs": [
    {
     "name": "stdout",
     "output_type": "stream",
     "text": [
      "Looking in indexes: https://pypi.org/simple, https://us-python.pkg.dev/colab-wheels/public/simple/\n",
      "Requirement already satisfied: pybbn in /usr/local/lib/python3.7/dist-packages (3.2.1)\n",
      "Requirement already satisfied: networkx in /usr/local/lib/python3.7/dist-packages (from pybbn) (2.6.3)\n",
      "Requirement already satisfied: pandas in /usr/local/lib/python3.7/dist-packages (from pybbn) (1.3.5)\n",
      "Requirement already satisfied: numpy in /usr/local/lib/python3.7/dist-packages (from pybbn) (1.21.6)\n",
      "Requirement already satisfied: scipy in /usr/local/lib/python3.7/dist-packages (from pybbn) (1.7.3)\n",
      "Requirement already satisfied: pytz>=2017.3 in /usr/local/lib/python3.7/dist-packages (from pandas->pybbn) (2022.5)\n",
      "Requirement already satisfied: python-dateutil>=2.7.3 in /usr/local/lib/python3.7/dist-packages (from pandas->pybbn) (2.8.2)\n",
      "Requirement already satisfied: six>=1.5 in /usr/local/lib/python3.7/dist-packages (from python-dateutil>=2.7.3->pandas->pybbn) (1.15.0)\n"
     ]
    }
   ],
   "source": [
    "pip install pybbn"
   ]
  },
  {
   "cell_type": "code",
   "execution_count": 118,
   "metadata": {
    "id": "4jCcnIS_ASiD"
   },
   "outputs": [],
   "source": [
    "# for creating Bayesian Belief Networks (BBN)\n",
    "from pybbn.graph.dag import Bbn\n",
    "from pybbn.graph.edge import Edge, EdgeType\n",
    "from pybbn.graph.jointree import EvidenceBuilder\n",
    "from pybbn.graph.node import BbnNode\n",
    "from pybbn.graph.variable import Variable\n",
    "from pybbn.pptc.inferencecontroller import InferenceController"
   ]
  },
  {
   "cell_type": "code",
   "execution_count": 119,
   "metadata": {
    "colab": {
     "base_uri": "https://localhost:8080/",
     "height": 74
    },
    "id": "VynBhKYcAuMP",
    "outputId": "b7bc6847-38c7-46d2-e7b2-8085bcb16060"
   },
   "outputs": [
    {
     "data": {
      "text/html": [
       "\n",
       "     <input type=\"file\" id=\"files-d10b7d1a-f34f-48a7-986e-eb38c3bcd920\" name=\"files[]\" multiple disabled\n",
       "        style=\"border:none\" />\n",
       "     <output id=\"result-d10b7d1a-f34f-48a7-986e-eb38c3bcd920\">\n",
       "      Upload widget is only available when the cell has been executed in the\n",
       "      current browser session. Please rerun this cell to enable.\n",
       "      </output>\n",
       "      <script>// Copyright 2017 Google LLC\n",
       "//\n",
       "// Licensed under the Apache License, Version 2.0 (the \"License\");\n",
       "// you may not use this file except in compliance with the License.\n",
       "// You may obtain a copy of the License at\n",
       "//\n",
       "//      http://www.apache.org/licenses/LICENSE-2.0\n",
       "//\n",
       "// Unless required by applicable law or agreed to in writing, software\n",
       "// distributed under the License is distributed on an \"AS IS\" BASIS,\n",
       "// WITHOUT WARRANTIES OR CONDITIONS OF ANY KIND, either express or implied.\n",
       "// See the License for the specific language governing permissions and\n",
       "// limitations under the License.\n",
       "\n",
       "/**\n",
       " * @fileoverview Helpers for google.colab Python module.\n",
       " */\n",
       "(function(scope) {\n",
       "function span(text, styleAttributes = {}) {\n",
       "  const element = document.createElement('span');\n",
       "  element.textContent = text;\n",
       "  for (const key of Object.keys(styleAttributes)) {\n",
       "    element.style[key] = styleAttributes[key];\n",
       "  }\n",
       "  return element;\n",
       "}\n",
       "\n",
       "// Max number of bytes which will be uploaded at a time.\n",
       "const MAX_PAYLOAD_SIZE = 100 * 1024;\n",
       "\n",
       "function _uploadFiles(inputId, outputId) {\n",
       "  const steps = uploadFilesStep(inputId, outputId);\n",
       "  const outputElement = document.getElementById(outputId);\n",
       "  // Cache steps on the outputElement to make it available for the next call\n",
       "  // to uploadFilesContinue from Python.\n",
       "  outputElement.steps = steps;\n",
       "\n",
       "  return _uploadFilesContinue(outputId);\n",
       "}\n",
       "\n",
       "// This is roughly an async generator (not supported in the browser yet),\n",
       "// where there are multiple asynchronous steps and the Python side is going\n",
       "// to poll for completion of each step.\n",
       "// This uses a Promise to block the python side on completion of each step,\n",
       "// then passes the result of the previous step as the input to the next step.\n",
       "function _uploadFilesContinue(outputId) {\n",
       "  const outputElement = document.getElementById(outputId);\n",
       "  const steps = outputElement.steps;\n",
       "\n",
       "  const next = steps.next(outputElement.lastPromiseValue);\n",
       "  return Promise.resolve(next.value.promise).then((value) => {\n",
       "    // Cache the last promise value to make it available to the next\n",
       "    // step of the generator.\n",
       "    outputElement.lastPromiseValue = value;\n",
       "    return next.value.response;\n",
       "  });\n",
       "}\n",
       "\n",
       "/**\n",
       " * Generator function which is called between each async step of the upload\n",
       " * process.\n",
       " * @param {string} inputId Element ID of the input file picker element.\n",
       " * @param {string} outputId Element ID of the output display.\n",
       " * @return {!Iterable<!Object>} Iterable of next steps.\n",
       " */\n",
       "function* uploadFilesStep(inputId, outputId) {\n",
       "  const inputElement = document.getElementById(inputId);\n",
       "  inputElement.disabled = false;\n",
       "\n",
       "  const outputElement = document.getElementById(outputId);\n",
       "  outputElement.innerHTML = '';\n",
       "\n",
       "  const pickedPromise = new Promise((resolve) => {\n",
       "    inputElement.addEventListener('change', (e) => {\n",
       "      resolve(e.target.files);\n",
       "    });\n",
       "  });\n",
       "\n",
       "  const cancel = document.createElement('button');\n",
       "  inputElement.parentElement.appendChild(cancel);\n",
       "  cancel.textContent = 'Cancel upload';\n",
       "  const cancelPromise = new Promise((resolve) => {\n",
       "    cancel.onclick = () => {\n",
       "      resolve(null);\n",
       "    };\n",
       "  });\n",
       "\n",
       "  // Wait for the user to pick the files.\n",
       "  const files = yield {\n",
       "    promise: Promise.race([pickedPromise, cancelPromise]),\n",
       "    response: {\n",
       "      action: 'starting',\n",
       "    }\n",
       "  };\n",
       "\n",
       "  cancel.remove();\n",
       "\n",
       "  // Disable the input element since further picks are not allowed.\n",
       "  inputElement.disabled = true;\n",
       "\n",
       "  if (!files) {\n",
       "    return {\n",
       "      response: {\n",
       "        action: 'complete',\n",
       "      }\n",
       "    };\n",
       "  }\n",
       "\n",
       "  for (const file of files) {\n",
       "    const li = document.createElement('li');\n",
       "    li.append(span(file.name, {fontWeight: 'bold'}));\n",
       "    li.append(span(\n",
       "        `(${file.type || 'n/a'}) - ${file.size} bytes, ` +\n",
       "        `last modified: ${\n",
       "            file.lastModifiedDate ? file.lastModifiedDate.toLocaleDateString() :\n",
       "                                    'n/a'} - `));\n",
       "    const percent = span('0% done');\n",
       "    li.appendChild(percent);\n",
       "\n",
       "    outputElement.appendChild(li);\n",
       "\n",
       "    const fileDataPromise = new Promise((resolve) => {\n",
       "      const reader = new FileReader();\n",
       "      reader.onload = (e) => {\n",
       "        resolve(e.target.result);\n",
       "      };\n",
       "      reader.readAsArrayBuffer(file);\n",
       "    });\n",
       "    // Wait for the data to be ready.\n",
       "    let fileData = yield {\n",
       "      promise: fileDataPromise,\n",
       "      response: {\n",
       "        action: 'continue',\n",
       "      }\n",
       "    };\n",
       "\n",
       "    // Use a chunked sending to avoid message size limits. See b/62115660.\n",
       "    let position = 0;\n",
       "    do {\n",
       "      const length = Math.min(fileData.byteLength - position, MAX_PAYLOAD_SIZE);\n",
       "      const chunk = new Uint8Array(fileData, position, length);\n",
       "      position += length;\n",
       "\n",
       "      const base64 = btoa(String.fromCharCode.apply(null, chunk));\n",
       "      yield {\n",
       "        response: {\n",
       "          action: 'append',\n",
       "          file: file.name,\n",
       "          data: base64,\n",
       "        },\n",
       "      };\n",
       "\n",
       "      let percentDone = fileData.byteLength === 0 ?\n",
       "          100 :\n",
       "          Math.round((position / fileData.byteLength) * 100);\n",
       "      percent.textContent = `${percentDone}% done`;\n",
       "\n",
       "    } while (position < fileData.byteLength);\n",
       "  }\n",
       "\n",
       "  // All done.\n",
       "  yield {\n",
       "    response: {\n",
       "      action: 'complete',\n",
       "    }\n",
       "  };\n",
       "}\n",
       "\n",
       "scope.google = scope.google || {};\n",
       "scope.google.colab = scope.google.colab || {};\n",
       "scope.google.colab._files = {\n",
       "  _uploadFiles,\n",
       "  _uploadFilesContinue,\n",
       "};\n",
       "})(self);\n",
       "</script> "
      ],
      "text/plain": [
       "<IPython.core.display.HTML object>"
      ]
     },
     "metadata": {},
     "output_type": "display_data"
    },
    {
     "name": "stdout",
     "output_type": "stream",
     "text": [
      "Saving DATA.csv to DATA (3).csv\n"
     ]
    }
   ],
   "source": [
    "from google.colab import files\n",
    "uploaded = files.upload()"
   ]
  },
  {
   "cell_type": "markdown",
   "metadata": {
    "id": "7HJdAGyOEfQB"
   },
   "source": [
    "Reading the data into Pandas Dataframe: "
   ]
  },
  {
   "cell_type": "code",
   "execution_count": 120,
   "metadata": {
    "id": "8QuZAWiKA46J"
   },
   "outputs": [],
   "source": [
    "dataset = pd.read_csv(io.BytesIO(uploaded[\"DATA.csv\"]))"
   ]
  },
  {
   "cell_type": "markdown",
   "metadata": {
    "id": "uSjdWjKWEmKW"
   },
   "source": [
    "<h1>Overview of the dataset: </h1>"
   ]
  },
  {
   "cell_type": "code",
   "execution_count": 121,
   "metadata": {
    "colab": {
     "base_uri": "https://localhost:8080/",
     "height": 537
    },
    "id": "zGRLicU5BH0V",
    "outputId": "b066160f-58e4-42d6-f6d6-e8a5a89b2213"
   },
   "outputs": [
    {
     "data": {
      "text/html": [
       "\n",
       "  <div id=\"df-bdd7a1ad-06a4-4413-8fd8-4ca98e517c57\">\n",
       "    <div class=\"colab-df-container\">\n",
       "      <div>\n",
       "<style scoped>\n",
       "    .dataframe tbody tr th:only-of-type {\n",
       "        vertical-align: middle;\n",
       "    }\n",
       "\n",
       "    .dataframe tbody tr th {\n",
       "        vertical-align: top;\n",
       "    }\n",
       "\n",
       "    .dataframe thead th {\n",
       "        text-align: right;\n",
       "    }\n",
       "</style>\n",
       "<table border=\"1\" class=\"dataframe\">\n",
       "  <thead>\n",
       "    <tr style=\"text-align: right;\">\n",
       "      <th></th>\n",
       "      <th>Patient_ID</th>\n",
       "      <th>Systemic Illness</th>\n",
       "      <th>Rectal Pain</th>\n",
       "      <th>Sore Throat</th>\n",
       "      <th>Penile Oedema</th>\n",
       "      <th>Oral Lesions</th>\n",
       "      <th>Solitary Lesion</th>\n",
       "      <th>Swollen Tonsils</th>\n",
       "      <th>HIV Infection</th>\n",
       "      <th>Sexually Transmitted Infection</th>\n",
       "      <th>MonkeyPox</th>\n",
       "    </tr>\n",
       "  </thead>\n",
       "  <tbody>\n",
       "    <tr>\n",
       "      <th>0</th>\n",
       "      <td>P0</td>\n",
       "      <td>None</td>\n",
       "      <td>False</td>\n",
       "      <td>True</td>\n",
       "      <td>True</td>\n",
       "      <td>True</td>\n",
       "      <td>False</td>\n",
       "      <td>True</td>\n",
       "      <td>False</td>\n",
       "      <td>False</td>\n",
       "      <td>Negative</td>\n",
       "    </tr>\n",
       "    <tr>\n",
       "      <th>1</th>\n",
       "      <td>P1</td>\n",
       "      <td>Fever</td>\n",
       "      <td>True</td>\n",
       "      <td>False</td>\n",
       "      <td>True</td>\n",
       "      <td>True</td>\n",
       "      <td>False</td>\n",
       "      <td>False</td>\n",
       "      <td>True</td>\n",
       "      <td>False</td>\n",
       "      <td>Positive</td>\n",
       "    </tr>\n",
       "    <tr>\n",
       "      <th>2</th>\n",
       "      <td>P2</td>\n",
       "      <td>Fever</td>\n",
       "      <td>False</td>\n",
       "      <td>True</td>\n",
       "      <td>True</td>\n",
       "      <td>False</td>\n",
       "      <td>False</td>\n",
       "      <td>False</td>\n",
       "      <td>True</td>\n",
       "      <td>False</td>\n",
       "      <td>Positive</td>\n",
       "    </tr>\n",
       "    <tr>\n",
       "      <th>3</th>\n",
       "      <td>P3</td>\n",
       "      <td>None</td>\n",
       "      <td>True</td>\n",
       "      <td>False</td>\n",
       "      <td>False</td>\n",
       "      <td>False</td>\n",
       "      <td>True</td>\n",
       "      <td>True</td>\n",
       "      <td>True</td>\n",
       "      <td>False</td>\n",
       "      <td>Positive</td>\n",
       "    </tr>\n",
       "    <tr>\n",
       "      <th>4</th>\n",
       "      <td>P4</td>\n",
       "      <td>Swollen Lymph Nodes</td>\n",
       "      <td>True</td>\n",
       "      <td>True</td>\n",
       "      <td>True</td>\n",
       "      <td>False</td>\n",
       "      <td>False</td>\n",
       "      <td>True</td>\n",
       "      <td>True</td>\n",
       "      <td>False</td>\n",
       "      <td>Positive</td>\n",
       "    </tr>\n",
       "    <tr>\n",
       "      <th>...</th>\n",
       "      <td>...</td>\n",
       "      <td>...</td>\n",
       "      <td>...</td>\n",
       "      <td>...</td>\n",
       "      <td>...</td>\n",
       "      <td>...</td>\n",
       "      <td>...</td>\n",
       "      <td>...</td>\n",
       "      <td>...</td>\n",
       "      <td>...</td>\n",
       "      <td>...</td>\n",
       "    </tr>\n",
       "    <tr>\n",
       "      <th>24995</th>\n",
       "      <td>P24995</td>\n",
       "      <td>None</td>\n",
       "      <td>True</td>\n",
       "      <td>True</td>\n",
       "      <td>False</td>\n",
       "      <td>True</td>\n",
       "      <td>True</td>\n",
       "      <td>False</td>\n",
       "      <td>False</td>\n",
       "      <td>True</td>\n",
       "      <td>Positive</td>\n",
       "    </tr>\n",
       "    <tr>\n",
       "      <th>24996</th>\n",
       "      <td>P24996</td>\n",
       "      <td>Fever</td>\n",
       "      <td>False</td>\n",
       "      <td>True</td>\n",
       "      <td>True</td>\n",
       "      <td>False</td>\n",
       "      <td>True</td>\n",
       "      <td>True</td>\n",
       "      <td>True</td>\n",
       "      <td>True</td>\n",
       "      <td>Positive</td>\n",
       "    </tr>\n",
       "    <tr>\n",
       "      <th>24997</th>\n",
       "      <td>P24997</td>\n",
       "      <td>None</td>\n",
       "      <td>True</td>\n",
       "      <td>True</td>\n",
       "      <td>False</td>\n",
       "      <td>False</td>\n",
       "      <td>True</td>\n",
       "      <td>True</td>\n",
       "      <td>False</td>\n",
       "      <td>False</td>\n",
       "      <td>Positive</td>\n",
       "    </tr>\n",
       "    <tr>\n",
       "      <th>24998</th>\n",
       "      <td>P24998</td>\n",
       "      <td>Swollen Lymph Nodes</td>\n",
       "      <td>False</td>\n",
       "      <td>True</td>\n",
       "      <td>False</td>\n",
       "      <td>True</td>\n",
       "      <td>True</td>\n",
       "      <td>True</td>\n",
       "      <td>False</td>\n",
       "      <td>False</td>\n",
       "      <td>Negative</td>\n",
       "    </tr>\n",
       "    <tr>\n",
       "      <th>24999</th>\n",
       "      <td>P24999</td>\n",
       "      <td>Swollen Lymph Nodes</td>\n",
       "      <td>False</td>\n",
       "      <td>False</td>\n",
       "      <td>True</td>\n",
       "      <td>False</td>\n",
       "      <td>False</td>\n",
       "      <td>True</td>\n",
       "      <td>True</td>\n",
       "      <td>False</td>\n",
       "      <td>Positive</td>\n",
       "    </tr>\n",
       "  </tbody>\n",
       "</table>\n",
       "<p>25000 rows × 11 columns</p>\n",
       "</div>\n",
       "      <button class=\"colab-df-convert\" onclick=\"convertToInteractive('df-bdd7a1ad-06a4-4413-8fd8-4ca98e517c57')\"\n",
       "              title=\"Convert this dataframe to an interactive table.\"\n",
       "              style=\"display:none;\">\n",
       "        \n",
       "  <svg xmlns=\"http://www.w3.org/2000/svg\" height=\"24px\"viewBox=\"0 0 24 24\"\n",
       "       width=\"24px\">\n",
       "    <path d=\"M0 0h24v24H0V0z\" fill=\"none\"/>\n",
       "    <path d=\"M18.56 5.44l.94 2.06.94-2.06 2.06-.94-2.06-.94-.94-2.06-.94 2.06-2.06.94zm-11 1L8.5 8.5l.94-2.06 2.06-.94-2.06-.94L8.5 2.5l-.94 2.06-2.06.94zm10 10l.94 2.06.94-2.06 2.06-.94-2.06-.94-.94-2.06-.94 2.06-2.06.94z\"/><path d=\"M17.41 7.96l-1.37-1.37c-.4-.4-.92-.59-1.43-.59-.52 0-1.04.2-1.43.59L10.3 9.45l-7.72 7.72c-.78.78-.78 2.05 0 2.83L4 21.41c.39.39.9.59 1.41.59.51 0 1.02-.2 1.41-.59l7.78-7.78 2.81-2.81c.8-.78.8-2.07 0-2.86zM5.41 20L4 18.59l7.72-7.72 1.47 1.35L5.41 20z\"/>\n",
       "  </svg>\n",
       "      </button>\n",
       "      \n",
       "  <style>\n",
       "    .colab-df-container {\n",
       "      display:flex;\n",
       "      flex-wrap:wrap;\n",
       "      gap: 12px;\n",
       "    }\n",
       "\n",
       "    .colab-df-convert {\n",
       "      background-color: #E8F0FE;\n",
       "      border: none;\n",
       "      border-radius: 50%;\n",
       "      cursor: pointer;\n",
       "      display: none;\n",
       "      fill: #1967D2;\n",
       "      height: 32px;\n",
       "      padding: 0 0 0 0;\n",
       "      width: 32px;\n",
       "    }\n",
       "\n",
       "    .colab-df-convert:hover {\n",
       "      background-color: #E2EBFA;\n",
       "      box-shadow: 0px 1px 2px rgba(60, 64, 67, 0.3), 0px 1px 3px 1px rgba(60, 64, 67, 0.15);\n",
       "      fill: #174EA6;\n",
       "    }\n",
       "\n",
       "    [theme=dark] .colab-df-convert {\n",
       "      background-color: #3B4455;\n",
       "      fill: #D2E3FC;\n",
       "    }\n",
       "\n",
       "    [theme=dark] .colab-df-convert:hover {\n",
       "      background-color: #434B5C;\n",
       "      box-shadow: 0px 1px 3px 1px rgba(0, 0, 0, 0.15);\n",
       "      filter: drop-shadow(0px 1px 2px rgba(0, 0, 0, 0.3));\n",
       "      fill: #FFFFFF;\n",
       "    }\n",
       "  </style>\n",
       "\n",
       "      <script>\n",
       "        const buttonEl =\n",
       "          document.querySelector('#df-bdd7a1ad-06a4-4413-8fd8-4ca98e517c57 button.colab-df-convert');\n",
       "        buttonEl.style.display =\n",
       "          google.colab.kernel.accessAllowed ? 'block' : 'none';\n",
       "\n",
       "        async function convertToInteractive(key) {\n",
       "          const element = document.querySelector('#df-bdd7a1ad-06a4-4413-8fd8-4ca98e517c57');\n",
       "          const dataTable =\n",
       "            await google.colab.kernel.invokeFunction('convertToInteractive',\n",
       "                                                     [key], {});\n",
       "          if (!dataTable) return;\n",
       "\n",
       "          const docLinkHtml = 'Like what you see? Visit the ' +\n",
       "            '<a target=\"_blank\" href=https://colab.research.google.com/notebooks/data_table.ipynb>data table notebook</a>'\n",
       "            + ' to learn more about interactive tables.';\n",
       "          element.innerHTML = '';\n",
       "          dataTable['output_type'] = 'display_data';\n",
       "          await google.colab.output.renderOutput(dataTable, element);\n",
       "          const docLink = document.createElement('div');\n",
       "          docLink.innerHTML = docLinkHtml;\n",
       "          element.appendChild(docLink);\n",
       "        }\n",
       "      </script>\n",
       "    </div>\n",
       "  </div>\n",
       "  "
      ],
      "text/plain": [
       "      Patient_ID     Systemic Illness  Rectal Pain  Sore Throat  \\\n",
       "0             P0                 None        False         True   \n",
       "1             P1                Fever         True        False   \n",
       "2             P2                Fever        False         True   \n",
       "3             P3                 None         True        False   \n",
       "4             P4  Swollen Lymph Nodes         True         True   \n",
       "...          ...                  ...          ...          ...   \n",
       "24995     P24995                 None         True         True   \n",
       "24996     P24996                Fever        False         True   \n",
       "24997     P24997                 None         True         True   \n",
       "24998     P24998  Swollen Lymph Nodes        False         True   \n",
       "24999     P24999  Swollen Lymph Nodes        False        False   \n",
       "\n",
       "       Penile Oedema  Oral Lesions  Solitary Lesion  Swollen Tonsils  \\\n",
       "0               True          True            False             True   \n",
       "1               True          True            False            False   \n",
       "2               True         False            False            False   \n",
       "3              False         False             True             True   \n",
       "4               True         False            False             True   \n",
       "...              ...           ...              ...              ...   \n",
       "24995          False          True             True            False   \n",
       "24996           True         False             True             True   \n",
       "24997          False         False             True             True   \n",
       "24998          False          True             True             True   \n",
       "24999           True         False            False             True   \n",
       "\n",
       "       HIV Infection  Sexually Transmitted Infection MonkeyPox  \n",
       "0              False                           False  Negative  \n",
       "1               True                           False  Positive  \n",
       "2               True                           False  Positive  \n",
       "3               True                           False  Positive  \n",
       "4               True                           False  Positive  \n",
       "...              ...                             ...       ...  \n",
       "24995          False                            True  Positive  \n",
       "24996           True                            True  Positive  \n",
       "24997          False                           False  Positive  \n",
       "24998          False                           False  Negative  \n",
       "24999           True                           False  Positive  \n",
       "\n",
       "[25000 rows x 11 columns]"
      ]
     },
     "execution_count": 121,
     "metadata": {},
     "output_type": "execute_result"
    }
   ],
   "source": [
    "dataset"
   ]
  },
  {
   "cell_type": "code",
   "execution_count": 122,
   "metadata": {
    "colab": {
     "base_uri": "https://localhost:8080/"
    },
    "id": "P9hknv6mEuVX",
    "outputId": "8a011c0f-cc66-4732-c3ce-58e753a286cb"
   },
   "outputs": [
    {
     "name": "stdout",
     "output_type": "stream",
     "text": [
      "<class 'pandas.core.frame.DataFrame'>\n",
      "RangeIndex: 25000 entries, 0 to 24999\n",
      "Data columns (total 11 columns):\n",
      " #   Column                          Non-Null Count  Dtype \n",
      "---  ------                          --------------  ----- \n",
      " 0   Patient_ID                      25000 non-null  object\n",
      " 1   Systemic Illness                25000 non-null  object\n",
      " 2   Rectal Pain                     25000 non-null  bool  \n",
      " 3   Sore Throat                     25000 non-null  bool  \n",
      " 4   Penile Oedema                   25000 non-null  bool  \n",
      " 5   Oral Lesions                    25000 non-null  bool  \n",
      " 6   Solitary Lesion                 25000 non-null  bool  \n",
      " 7   Swollen Tonsils                 25000 non-null  bool  \n",
      " 8   HIV Infection                   25000 non-null  bool  \n",
      " 9   Sexually Transmitted Infection  25000 non-null  bool  \n",
      " 10  MonkeyPox                       25000 non-null  object\n",
      "dtypes: bool(8), object(3)\n",
      "memory usage: 781.4+ KB\n"
     ]
    }
   ],
   "source": [
    "dataset.info()"
   ]
  },
  {
   "cell_type": "markdown",
   "metadata": {
    "id": "UEOL4l1fFDAg"
   },
   "source": [
    "Function for calculating the Probablities: "
   ]
  },
  {
   "cell_type": "code",
   "execution_count": 123,
   "metadata": {
    "id": "fRbrYvphBJiK"
   },
   "outputs": [],
   "source": [
    "def probs(data, child, parent1=None, parent2=None):\n",
    "    if parent1==None:\n",
    "        # Calculate probabilities\n",
    "        prob=pd.crosstab(data[child], 'Empty', margins=False, normalize='columns').sort_index().to_numpy().reshape(-1).tolist()\n",
    "    elif parent1!=None:\n",
    "            # Check if child node has 1 parent or 2 parents\n",
    "            if parent2==None:\n",
    "                # Caclucate probabilities\n",
    "                prob=pd.crosstab(data[parent1],data[child], margins=False, normalize='index').sort_index().to_numpy().reshape(-1).tolist()\n",
    "            else:    \n",
    "                # Caclucate probabilities\n",
    "                prob=pd.crosstab([data[parent1],data[parent2]],data[child], margins=False, normalize='index').sort_index().to_numpy().reshape(-1).tolist()\n",
    "    else: print(\"Error in Probability Frequency Calculations\")\n",
    "    return prob  "
   ]
  },
  {
   "cell_type": "code",
   "execution_count": 124,
   "metadata": {
    "id": "wNRhI5cIBal1"
   },
   "outputs": [],
   "source": [
    "HIV = BbnNode(Variable(0, 'HIV', ['False', 'True']), probs(dataset, child='HIV Infection'))\n",
    "Rectal = BbnNode(Variable(1, 'Rectal', ['False', 'True']), probs(dataset, child='Rectal Pain', parent1='HIV Infection'))\n",
    "Systemic = BbnNode(Variable(2, 'Systemic', ['None', 'Fever', 'Swollen Lymph Nodes', 'Muscle Aches and Pain' ]), probs(dataset, child='Systemic Illness'))\n",
    "D = BbnNode(Variable(3, 'D', ['Negative', 'Positive']), probs(dataset, child='MonkeyPox', parent1='Rectal Pain', parent2='Systemic Illness'))\n",
    "\n",
    "# Create Network\n",
    "bbn = Bbn() \\\n",
    "    .add_node(HIV) \\\n",
    "    .add_node(Rectal) \\\n",
    "    .add_node(Systemic) \\\n",
    "    .add_node(D) \\\n",
    "    .add_edge(Edge(HIV, Rectal, EdgeType.DIRECTED)) \\\n",
    "    .add_edge(Edge(Rectal, D, EdgeType.DIRECTED)) \\\n",
    "    .add_edge(Edge(Systemic, D, EdgeType.DIRECTED))\n",
    "\n",
    "# Convert the BBN to a join tree\n",
    "join_tree = InferenceController.apply(bbn)\n"
   ]
  },
  {
   "cell_type": "markdown",
   "metadata": {
    "id": "0y-LFKm1FO9q"
   },
   "source": [
    "<h1>Printing a visual view of the DAG: </h1>"
   ]
  },
  {
   "cell_type": "code",
   "execution_count": 125,
   "metadata": {
    "colab": {
     "base_uri": "https://localhost:8080/",
     "height": 319
    },
    "id": "PdWwPBbvCSgh",
    "outputId": "652b49f4-2abb-406a-db70-30b5f8aa3dff"
   },
   "outputs": [
    {
     "data": {
      "image/png": "[encoded data removed]",
      "text/plain": [
       "<Figure size 432x288 with 1 Axes>"
      ]
     },
     "metadata": {},
     "output_type": "display_data"
    }
   ],
   "source": [
    "# Set node positions\n",
    "pos = {0: (-1, 2), 1: (-1, 0.5), 2: (1, 0.5), 3: (0, -1)}\n",
    "\n",
    "# Set options for graph looks\n",
    "options = {\n",
    "    \"font_size\": 16,\n",
    "    \"node_size\": 4000,\n",
    "    \"node_color\": \"white\",\n",
    "    \"edgecolors\": \"black\",\n",
    "    \"edge_color\": \"red\",\n",
    "    \"linewidths\": 5,\n",
    "    \"width\": 5,}\n",
    "    \n",
    "# Generate graph\n",
    "n, d = bbn.to_nx_graph()\n",
    "nx.draw(n, with_labels=True, labels=d, pos=pos, **options)\n",
    "\n",
    "# Update margins and print the graph\n",
    "ax = plt.gca()\n",
    "ax.margins(0.10)\n",
    "plt.axis(\"off\")\n",
    "plt.show()"
   ]
  },
  {
   "cell_type": "markdown",
   "metadata": {
    "id": "z_1_ehkHFZO8"
   },
   "source": [
    "Printing Marginal Probablities"
   ]
  },
  {
   "cell_type": "code",
   "execution_count": 126,
   "metadata": {
    "colab": {
     "base_uri": "https://localhost:8080/"
    },
    "id": "8dKeOf9fCVZa",
    "outputId": "6c63e2bf-a8d4-4bab-bc5d-e127524ced30"
   },
   "outputs": [
    {
     "name": "stdout",
     "output_type": "stream",
     "text": [
      "Node:  1|Rectal|False,True\n",
      "Values:\n",
      "1=False|0.50620\n",
      "1=True|0.49380\n",
      "----------------\n",
      "Node:  0|HIV|False,True\n",
      "Values:\n",
      "0=False|0.49664\n",
      "0=True|0.50336\n",
      "----------------\n",
      "Node:  2|Systemic|None,Fever,Swollen Lymph Nodes,Muscle Aches and Pain\n",
      "Values:\n",
      "2=None|0.25528\n",
      "2=Fever|0.24600\n",
      "2=Swollen Lymph Nodes|0.24864\n",
      "2=Muscle Aches and Pain|0.25008\n",
      "----------------\n",
      "Node:  3|D|Negative,Positive\n",
      "Values:\n",
      "3=Negative|0.36348\n",
      "3=Positive|0.63652\n",
      "----------------\n"
     ]
    }
   ],
   "source": [
    "def print_probs():\n",
    "    for node in join_tree.get_bbn_nodes():\n",
    "        potential = join_tree.get_bbn_potential(node)\n",
    "        print(\"Node: \", node)\n",
    "        print(\"Values:\")\n",
    "        print(potential)\n",
    "        print('----------------')\n",
    "        \n",
    "# Use the above function to print marginal probabilities\n",
    "print_probs()"
   ]
  },
  {
   "cell_type": "markdown",
   "metadata": {
    "id": "2icB77ctFkdZ"
   },
   "source": [
    "To add evidence of events so that Probablity Distribution can be recalculated: "
   ]
  },
  {
   "cell_type": "code",
   "execution_count": 127,
   "metadata": {
    "id": "3nzNqS0FCZp_"
   },
   "outputs": [],
   "source": [
    "def evidence(ev, nod, cat, val):\n",
    "    ev = EvidenceBuilder().with_node(join_tree.get_bbn_node_by_name(nod)).with_evidence(cat, val).build()\n",
    "    join_tree.set_observation(ev)\n",
    "    \n",
    "# Use above function to add evidence\n",
    "#evidence('ev1', 'HIV', True, 1.0)\n",
    "\n",
    "# Print marginal probabilities\n",
    "#print_probs()"
   ]
  },
  {
   "cell_type": "code",
   "execution_count": 128,
   "metadata": {
    "id": "XqM3lAvFNjXH"
   },
   "outputs": [],
   "source": [
    "p_systemic_none= join_tree.get_bbn_potential(Systemic).entries[0].value\n",
    "p_systemic_fever= join_tree.get_bbn_potential(Systemic).entries[1].value\n",
    "p_systemic_swollen= join_tree.get_bbn_potential(Systemic).entries[2].value\n",
    "p_systemic_muscle= join_tree.get_bbn_potential(Systemic).entries[3].value"
   ]
  },
  {
   "cell_type": "code",
   "execution_count": 129,
   "metadata": {
    "colab": {
     "base_uri": "https://localhost:8080/"
    },
    "id": "Fa366mnfT53x",
    "outputId": "97d42acc-5b5b-4b30-c59f-82d70fde0540"
   },
   "outputs": [
    {
     "name": "stdout",
     "output_type": "stream",
     "text": [
      "2=None|0.25528\n",
      "2=Fever|0.24600\n",
      "2=Swollen Lymph Nodes|0.24864\n",
      "2=Muscle Aches and Pain|0.25008\n"
     ]
    }
   ],
   "source": [
    "print(join_tree.get_bbn_potential(Systemic))"
   ]
  },
  {
   "cell_type": "code",
   "execution_count": 130,
   "metadata": {
    "colab": {
     "base_uri": "https://localhost:8080/"
    },
    "id": "GnLMYK6FY0wJ",
    "outputId": "b416827a-f32b-48bc-a7a7-19ff6fc76206"
   },
   "outputs": [
    {
     "data": {
      "text/plain": [
       "<pybbn.graph.jointree.JoinTree at 0x7fa1244c7610>"
      ]
     },
     "execution_count": 130,
     "metadata": {},
     "output_type": "execute_result"
    }
   ],
   "source": [
    "# p(disease | rectal, none)\n",
    "evidence('ev1', 'Rectal', 'True', 1.0)\n",
    "evidence('ev2', 'Systemic', 'None', 1.0)\n",
    "p_rectal_yes_systemic_none = join_tree.get_bbn_potential(D).entries[1].value\n",
    "join_tree.unobserve([Rectal, Systemic])\n",
    "\n",
    "# p(disease | rectal, fever)\n",
    "evidence('ev1', 'Rectal', 'True', 1.0)\n",
    "evidence('ev2', 'Systemic', 'Fever', 1.0)\n",
    "p_rectal_yes_systemic_fever = join_tree.get_bbn_potential(D).entries[1].value\n",
    "join_tree.unobserve([Rectal, Systemic])\n",
    "\n",
    "# p(disease | rectal, swollen)\n",
    "evidence('ev1', 'Rectal', 'True', 1.0)\n",
    "evidence('ev2', 'Systemic', 'Swollen Lymph Nodes', 1.0)\n",
    "p_rectal_yes_systemic_swollen = join_tree.get_bbn_potential(D).entries[1].value\n",
    "join_tree.unobserve([Rectal, Systemic])\n",
    "\n",
    "# p(disease | rectal, muscle)\n",
    "evidence('ev1', 'Rectal', 'True', 1.0)\n",
    "evidence('ev2', 'Systemic', 'Muscle Aches and Pain', 1.0)\n",
    "p_rectal_yes_systemic_muscle = join_tree.get_bbn_potential(D).entries[1].value\n",
    "join_tree.unobserve([Rectal, Systemic])\n",
    "\n",
    "# p(disease | ~rectal, none)\n",
    "evidence('ev1', 'Rectal', 'False', 1.0)\n",
    "evidence('ev2', 'Systemic', 'None', 1.0)\n",
    "p_rectal_no_systemic_none = join_tree.get_bbn_potential(D).entries[0].value\n",
    "join_tree.unobserve([Rectal, Systemic])\n",
    "\n",
    "# p(disease | ~rectal, fever)\n",
    "evidence('ev1', 'Rectal', 'False', 1.0)\n",
    "evidence('ev2', 'Systemic', 'Fever', 1.0)\n",
    "p_rectal_no_systemic_fever = join_tree.get_bbn_potential(D).entries[0].value\n",
    "join_tree.unobserve([Rectal, Systemic])\n",
    "\n",
    "# p(disease | ~rectal, swollen)\n",
    "evidence('ev1', 'Rectal', 'False', 1.0)\n",
    "evidence('ev2', 'Systemic', 'Swollen Lymph Nodes', 1.0)\n",
    "p_rectal_no_systemic_swollen = join_tree.get_bbn_potential(D).entries[0].value\n",
    "join_tree.unobserve([Rectal, Systemic])\n",
    "\n",
    "# p(disease | ~rectal, muscle)\n",
    "evidence('ev1', 'Rectal', 'False', 1.0)\n",
    "evidence('ev2', 'Systemic', 'Muscle Aches and Pain', 1.0)\n",
    "p_rectal_no_systemic_muscle = join_tree.get_bbn_potential(D).entries[0].value\n",
    "join_tree.unobserve([Rectal, Systemic])\n"
   ]
  },
  {
   "cell_type": "code",
   "execution_count": 131,
   "metadata": {
    "id": "mm_ZAgOOlIwx"
   },
   "outputs": [],
   "source": [
    "p_hiv_yes= join_tree.get_bbn_potential(HIV).entries[1].value\n",
    "p_hiv_no= join_tree.get_bbn_potential(HIV).entries[0].value"
   ]
  },
  {
   "cell_type": "code",
   "execution_count": 132,
   "metadata": {
    "colab": {
     "base_uri": "https://localhost:8080/"
    },
    "id": "WsReTiWenBLO",
    "outputId": "72dada86-39b3-4492-c9b2-0e7be97a5d74"
   },
   "outputs": [
    {
     "data": {
      "text/plain": [
       "<pybbn.graph.jointree.JoinTree at 0x7fa1244c7610>"
      ]
     },
     "execution_count": 132,
     "metadata": {},
     "output_type": "execute_result"
    }
   ],
   "source": [
    "# p(rectal | hiv)* p(hiv)\n",
    "evidence('ev1', 'HIV', 'True', 1.0)\n",
    "p_rectal_hiv_yes= join_tree.get_bbn_potential(Rectal).entries[1].value\n",
    "join_tree.unobserve([HIV])\n",
    "\n",
    "# p(rectal | ~hiv)* p(~hiv)\n",
    "evidence('ev1', 'HIV', 'False', 1.0)\n",
    "p_rectal_hiv_no= join_tree.get_bbn_potential(Rectal).entries[0].value\n",
    "join_tree.unobserve([HIV])\n"
   ]
  },
  {
   "cell_type": "code",
   "execution_count": 133,
   "metadata": {
    "id": "YxZe6dt9oIrP"
   },
   "outputs": [],
   "source": [
    "p_rectal_yes= p_rectal_hiv_yes *p_hiv_yes + p_rectal_hiv_no * p_hiv_no"
   ]
  },
  {
   "cell_type": "code",
   "execution_count": 134,
   "metadata": {
    "id": "zG582aZvonBm"
   },
   "outputs": [],
   "source": [
    "p_rectal_no= 1- p_rectal_yes"
   ]
  },
  {
   "cell_type": "code",
   "execution_count": 135,
   "metadata": {
    "id": "qbrMZ16HW-ZJ"
   },
   "outputs": [],
   "source": [
    "p_d_yes = p_rectal_yes_systemic_none * p_rectal_yes * p_systemic_none + p_rectal_yes_systemic_fever * p_rectal_yes * p_systemic_fever + p_rectal_yes_systemic_swollen * p_rectal_yes * p_systemic_swollen + p_rectal_yes_systemic_muscle * p_rectal_yes * p_systemic_muscle + p_rectal_no_systemic_none * p_rectal_no * p_systemic_none + p_rectal_no_systemic_fever * p_rectal_no * p_systemic_fever + p_rectal_no_systemic_swollen * p_rectal_no * p_systemic_swollen + p_rectal_no_systemic_muscle * p_rectal_no * p_systemic_muscle"
   ]
  },
  {
   "cell_type": "code",
   "execution_count": 136,
   "metadata": {
    "id": "-orKSlG4ozzs"
   },
   "outputs": [],
   "source": [
    "p_d_no= 1-p_d_yes"
   ]
  },
  {
   "cell_type": "code",
   "execution_count": 137,
   "metadata": {
    "colab": {
     "base_uri": "https://localhost:8080/"
    },
    "id": "iXeQ-cjro32J",
    "outputId": "431c0e5f-21c1-4431-c552-582c77102031"
   },
   "outputs": [
    {
     "data": {
      "text/plain": [
       "0.5677719803334321"
      ]
     },
     "execution_count": 137,
     "metadata": {},
     "output_type": "execute_result"
    }
   ],
   "source": [
    "p_d_yes"
   ]
  },
  {
   "cell_type": "code",
   "execution_count": 138,
   "metadata": {
    "colab": {
     "base_uri": "https://localhost:8080/"
    },
    "id": "VNXIiVLJo43B",
    "outputId": "df607f25-7f3f-4d34-fab6-de45661461f2"
   },
   "outputs": [
    {
     "data": {
      "text/plain": [
       "0.4322280196665679"
      ]
     },
     "execution_count": 138,
     "metadata": {},
     "output_type": "execute_result"
    }
   ],
   "source": [
    "p_d_no"
   ]
  },
  {
   "cell_type": "markdown",
   "metadata": {
    "id": "-EXabn5npMoS"
   },
   "source": [
    "<h1>Result</h1>\n",
    "Thus, Bayesian Belief Network has been performed on the MonkeyPox dataset. "
   ]
  }
 ],
 "metadata": {
  "colab": {
   "collapsed_sections": [],
   "provenance": []
  },
  "kernelspec": {
   "display_name": "Python 3 (ipykernel)",
   "language": "python",
   "name": "python3"
  },
  "language_info": {
   "codemirror_mode": {
    "name": "ipython",
    "version": 3
   },
   "file_extension": ".py",
   "mimetype": "text/x-python",
   "name": "python",
   "nbconvert_exporter": "python",
   "pygments_lexer": "ipython3",
   "version": "3.9.6"
  },
  "vscode": {
   "interpreter": {
    "hash": "550e0e8fa56da5d9a752d77c344912da4a4b12a5aafe1dc9f085bfc09d95a0ca"
   }
  }
 },
 "nbformat": 4,
 "nbformat_minor": 1
}
