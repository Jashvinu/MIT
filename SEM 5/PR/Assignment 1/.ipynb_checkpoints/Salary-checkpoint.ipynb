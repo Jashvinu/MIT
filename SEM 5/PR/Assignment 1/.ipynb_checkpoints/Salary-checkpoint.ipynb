{
 "cells": [
  {
   "cell_type": "code",
   "execution_count": 1,
   "id": "611903d6",
   "metadata": {},
   "outputs": [],
   "source": [
    "import numpy as np\n",
    "import pandas as pd\n",
    "import matplotlib.pyplot as plt\n",
    "import seaborn as sns"
   ]
  },
  {
   "cell_type": "code",
   "execution_count": 2,
   "id": "1514e8a3",
   "metadata": {},
   "outputs": [],
   "source": [
    "df=pd.read_csv(\"dataset/adult_new.csv\")"
   ]
  },
  {
   "cell_type": "code",
   "execution_count": 3,
   "id": "1a2b1a11",
   "metadata": {},
   "outputs": [
    {
     "data": {
      "text/html": [
       "<div>\n",
       "<style scoped>\n",
       "    .dataframe tbody tr th:only-of-type {\n",
       "        vertical-align: middle;\n",
       "    }\n",
       "\n",
       "    .dataframe tbody tr th {\n",
       "        vertical-align: top;\n",
       "    }\n",
       "\n",
       "    .dataframe thead th {\n",
       "        text-align: right;\n",
       "    }\n",
       "</style>\n",
       "<table border=\"1\" class=\"dataframe\">\n",
       "  <thead>\n",
       "    <tr style=\"text-align: right;\">\n",
       "      <th></th>\n",
       "      <th>Age</th>\n",
       "      <th>workclass</th>\n",
       "      <th>fnlwgt</th>\n",
       "      <th>education</th>\n",
       "      <th>educational-num</th>\n",
       "      <th>marital-status</th>\n",
       "      <th>occupation</th>\n",
       "      <th>relationship</th>\n",
       "      <th>race</th>\n",
       "      <th>gender</th>\n",
       "      <th>capital-gain</th>\n",
       "      <th>capital-loss</th>\n",
       "      <th>hours-per-week</th>\n",
       "      <th>native-country</th>\n",
       "      <th>income</th>\n",
       "    </tr>\n",
       "  </thead>\n",
       "  <tbody>\n",
       "    <tr>\n",
       "      <th>0</th>\n",
       "      <td>39</td>\n",
       "      <td>State-gov</td>\n",
       "      <td>77516</td>\n",
       "      <td>Bachelors</td>\n",
       "      <td>13</td>\n",
       "      <td>Never-married</td>\n",
       "      <td>Adm-clerical</td>\n",
       "      <td>Not-in-family</td>\n",
       "      <td>White</td>\n",
       "      <td>Male</td>\n",
       "      <td>2174</td>\n",
       "      <td>0</td>\n",
       "      <td>40</td>\n",
       "      <td>United-States</td>\n",
       "      <td>&lt;=50K</td>\n",
       "    </tr>\n",
       "    <tr>\n",
       "      <th>1</th>\n",
       "      <td>50</td>\n",
       "      <td>Self-emp-not-inc</td>\n",
       "      <td>83311</td>\n",
       "      <td>Bachelors</td>\n",
       "      <td>13</td>\n",
       "      <td>Married-civ-spouse</td>\n",
       "      <td>Exec-managerial</td>\n",
       "      <td>Husband</td>\n",
       "      <td>White</td>\n",
       "      <td>Male</td>\n",
       "      <td>0</td>\n",
       "      <td>0</td>\n",
       "      <td>13</td>\n",
       "      <td>United-States</td>\n",
       "      <td>&lt;=50K</td>\n",
       "    </tr>\n",
       "    <tr>\n",
       "      <th>2</th>\n",
       "      <td>38</td>\n",
       "      <td>Private</td>\n",
       "      <td>215646</td>\n",
       "      <td>HS-grad</td>\n",
       "      <td>9</td>\n",
       "      <td>Divorced</td>\n",
       "      <td>Handlers-cleaners</td>\n",
       "      <td>Not-in-family</td>\n",
       "      <td>White</td>\n",
       "      <td>Male</td>\n",
       "      <td>0</td>\n",
       "      <td>0</td>\n",
       "      <td>40</td>\n",
       "      <td>United-States</td>\n",
       "      <td>&lt;=50K</td>\n",
       "    </tr>\n",
       "    <tr>\n",
       "      <th>3</th>\n",
       "      <td>53</td>\n",
       "      <td>Private</td>\n",
       "      <td>234721</td>\n",
       "      <td>11th</td>\n",
       "      <td>7</td>\n",
       "      <td>Married-civ-spouse</td>\n",
       "      <td>Handlers-cleaners</td>\n",
       "      <td>Husband</td>\n",
       "      <td>Black</td>\n",
       "      <td>Male</td>\n",
       "      <td>0</td>\n",
       "      <td>0</td>\n",
       "      <td>40</td>\n",
       "      <td>United-States</td>\n",
       "      <td>&lt;=50K</td>\n",
       "    </tr>\n",
       "    <tr>\n",
       "      <th>4</th>\n",
       "      <td>28</td>\n",
       "      <td>Private</td>\n",
       "      <td>338409</td>\n",
       "      <td>Bachelors</td>\n",
       "      <td>13</td>\n",
       "      <td>Married-civ-spouse</td>\n",
       "      <td>Prof-specialty</td>\n",
       "      <td>Wife</td>\n",
       "      <td>Black</td>\n",
       "      <td>Female</td>\n",
       "      <td>0</td>\n",
       "      <td>0</td>\n",
       "      <td>40</td>\n",
       "      <td>Cuba</td>\n",
       "      <td>&lt;=50K</td>\n",
       "    </tr>\n",
       "    <tr>\n",
       "      <th>...</th>\n",
       "      <td>...</td>\n",
       "      <td>...</td>\n",
       "      <td>...</td>\n",
       "      <td>...</td>\n",
       "      <td>...</td>\n",
       "      <td>...</td>\n",
       "      <td>...</td>\n",
       "      <td>...</td>\n",
       "      <td>...</td>\n",
       "      <td>...</td>\n",
       "      <td>...</td>\n",
       "      <td>...</td>\n",
       "      <td>...</td>\n",
       "      <td>...</td>\n",
       "      <td>...</td>\n",
       "    </tr>\n",
       "    <tr>\n",
       "      <th>22275</th>\n",
       "      <td>71</td>\n",
       "      <td>?</td>\n",
       "      <td>287372</td>\n",
       "      <td>Doctorate</td>\n",
       "      <td>16</td>\n",
       "      <td>Married-civ-spouse</td>\n",
       "      <td>?</td>\n",
       "      <td>Husband</td>\n",
       "      <td>White</td>\n",
       "      <td>Male</td>\n",
       "      <td>0</td>\n",
       "      <td>0</td>\n",
       "      <td>10</td>\n",
       "      <td>United-States</td>\n",
       "      <td>&gt;50K</td>\n",
       "    </tr>\n",
       "    <tr>\n",
       "      <th>22276</th>\n",
       "      <td>39</td>\n",
       "      <td>Local-gov</td>\n",
       "      <td>111499</td>\n",
       "      <td>Assoc-acdm</td>\n",
       "      <td>12</td>\n",
       "      <td>Married-civ-spouse</td>\n",
       "      <td>Adm-clerical</td>\n",
       "      <td>Wife</td>\n",
       "      <td>White</td>\n",
       "      <td>Female</td>\n",
       "      <td>0</td>\n",
       "      <td>0</td>\n",
       "      <td>20</td>\n",
       "      <td>United-States</td>\n",
       "      <td>&gt;50K</td>\n",
       "    </tr>\n",
       "    <tr>\n",
       "      <th>22277</th>\n",
       "      <td>53</td>\n",
       "      <td>Private</td>\n",
       "      <td>321865</td>\n",
       "      <td>Masters</td>\n",
       "      <td>14</td>\n",
       "      <td>Married-civ-spouse</td>\n",
       "      <td>Exec-managerial</td>\n",
       "      <td>Husband</td>\n",
       "      <td>White</td>\n",
       "      <td>Male</td>\n",
       "      <td>0</td>\n",
       "      <td>0</td>\n",
       "      <td>40</td>\n",
       "      <td>United-States</td>\n",
       "      <td>&gt;50K</td>\n",
       "    </tr>\n",
       "    <tr>\n",
       "      <th>22278</th>\n",
       "      <td>40</td>\n",
       "      <td>Private</td>\n",
       "      <td>154374</td>\n",
       "      <td>HS-grad</td>\n",
       "      <td>9</td>\n",
       "      <td>Married-civ-spouse</td>\n",
       "      <td>Machine-op-inspct</td>\n",
       "      <td>Husband</td>\n",
       "      <td>White</td>\n",
       "      <td>Male</td>\n",
       "      <td>0</td>\n",
       "      <td>0</td>\n",
       "      <td>40</td>\n",
       "      <td>United-States</td>\n",
       "      <td>&gt;50K</td>\n",
       "    </tr>\n",
       "    <tr>\n",
       "      <th>22279</th>\n",
       "      <td>52</td>\n",
       "      <td>Self-emp-inc</td>\n",
       "      <td>287927</td>\n",
       "      <td>HS-grad</td>\n",
       "      <td>9</td>\n",
       "      <td>Married-civ-spouse</td>\n",
       "      <td>Exec-managerial</td>\n",
       "      <td>Wife</td>\n",
       "      <td>White</td>\n",
       "      <td>Female</td>\n",
       "      <td>15024</td>\n",
       "      <td>0</td>\n",
       "      <td>40</td>\n",
       "      <td>United-States</td>\n",
       "      <td>&gt;50K</td>\n",
       "    </tr>\n",
       "  </tbody>\n",
       "</table>\n",
       "<p>22280 rows × 15 columns</p>\n",
       "</div>"
      ],
      "text/plain": [
       "       Age          workclass  fnlwgt    education  educational-num  \\\n",
       "0       39          State-gov   77516    Bachelors               13   \n",
       "1       50   Self-emp-not-inc   83311    Bachelors               13   \n",
       "2       38            Private  215646      HS-grad                9   \n",
       "3       53            Private  234721         11th                7   \n",
       "4       28            Private  338409    Bachelors               13   \n",
       "...    ...                ...     ...          ...              ...   \n",
       "22275   71                  ?  287372    Doctorate               16   \n",
       "22276   39          Local-gov  111499   Assoc-acdm               12   \n",
       "22277   53            Private  321865      Masters               14   \n",
       "22278   40            Private  154374      HS-grad                9   \n",
       "22279   52       Self-emp-inc  287927      HS-grad                9   \n",
       "\n",
       "            marital-status          occupation    relationship    race  \\\n",
       "0            Never-married        Adm-clerical   Not-in-family   White   \n",
       "1       Married-civ-spouse     Exec-managerial         Husband   White   \n",
       "2                 Divorced   Handlers-cleaners   Not-in-family   White   \n",
       "3       Married-civ-spouse   Handlers-cleaners         Husband   Black   \n",
       "4       Married-civ-spouse      Prof-specialty            Wife   Black   \n",
       "...                    ...                 ...             ...     ...   \n",
       "22275   Married-civ-spouse                   ?         Husband   White   \n",
       "22276   Married-civ-spouse        Adm-clerical            Wife   White   \n",
       "22277   Married-civ-spouse     Exec-managerial         Husband   White   \n",
       "22278   Married-civ-spouse   Machine-op-inspct         Husband   White   \n",
       "22279   Married-civ-spouse     Exec-managerial            Wife   White   \n",
       "\n",
       "        gender  capital-gain  capital-loss  hours-per-week  native-country  \\\n",
       "0         Male          2174             0              40   United-States   \n",
       "1         Male             0             0              13   United-States   \n",
       "2         Male             0             0              40   United-States   \n",
       "3         Male             0             0              40   United-States   \n",
       "4       Female             0             0              40            Cuba   \n",
       "...        ...           ...           ...             ...             ...   \n",
       "22275     Male             0             0              10   United-States   \n",
       "22276   Female             0             0              20   United-States   \n",
       "22277     Male             0             0              40   United-States   \n",
       "22278     Male             0             0              40   United-States   \n",
       "22279   Female         15024             0              40   United-States   \n",
       "\n",
       "       income  \n",
       "0       <=50K  \n",
       "1       <=50K  \n",
       "2       <=50K  \n",
       "3       <=50K  \n",
       "4       <=50K  \n",
       "...       ...  \n",
       "22275    >50K  \n",
       "22276    >50K  \n",
       "22277    >50K  \n",
       "22278    >50K  \n",
       "22279    >50K  \n",
       "\n",
       "[22280 rows x 15 columns]"
      ]
     },
     "execution_count": 3,
     "metadata": {},
     "output_type": "execute_result"
    }
   ],
   "source": [
    "df"
   ]
  },
  {
   "cell_type": "code",
   "execution_count": 4,
   "id": "fc80f4c8",
   "metadata": {},
   "outputs": [],
   "source": [
    "df=df.drop([\"fnlwgt\",\"education\",\"marital-status\",\"relationship\"],axis=1)"
   ]
  },
  {
   "cell_type": "code",
   "execution_count": null,
   "id": "443c6096",
   "metadata": {},
   "outputs": [],
   "source": []
  },
  {
   "cell_type": "code",
   "execution_count": 5,
   "id": "f6850c7c",
   "metadata": {},
   "outputs": [
    {
     "data": {
      "text/plain": [
       "{1: ' ?',\n",
       " 2: ' Federal-gov',\n",
       " 3: ' Local-gov',\n",
       " 4: ' Never-worked',\n",
       " 5: ' Private',\n",
       " 6: ' Self-emp-inc',\n",
       " 7: ' Self-emp-not-inc',\n",
       " 8: ' State-gov',\n",
       " 9: ' Without-pay'}"
      ]
     },
     "execution_count": 5,
     "metadata": {},
     "output_type": "execute_result"
    }
   ],
   "source": [
    "val=np.unique(np.array(df['workclass']))\n",
    "workclass_dict=dict()\n",
    "for i in range(len(val)):\n",
    "    workclass_dict[i+1]=val[i]\n",
    "workclass_dict"
   ]
  },
  {
   "cell_type": "code",
   "execution_count": 6,
   "id": "11751ab5",
   "metadata": {},
   "outputs": [
    {
     "data": {
      "text/plain": [
       "{1: ' ?',\n",
       " 2: ' Adm-clerical',\n",
       " 3: ' Armed-Forces',\n",
       " 4: ' Craft-repair',\n",
       " 5: ' Exec-managerial',\n",
       " 6: ' Farming-fishing',\n",
       " 7: ' Handlers-cleaners',\n",
       " 8: ' Machine-op-inspct',\n",
       " 9: ' Other-service',\n",
       " 10: ' Priv-house-serv',\n",
       " 11: ' Prof-specialty',\n",
       " 12: ' Protective-serv',\n",
       " 13: ' Sales',\n",
       " 14: ' Tech-support',\n",
       " 15: ' Transport-moving'}"
      ]
     },
     "execution_count": 6,
     "metadata": {},
     "output_type": "execute_result"
    }
   ],
   "source": [
    "val2=np.unique(np.array(df['occupation']))\n",
    "occupation_dict=dict()\n",
    "for i in range(len(val2)):\n",
    "    occupation_dict[i+1]=val2[i]\n",
    "occupation_dict"
   ]
  },
  {
   "cell_type": "code",
   "execution_count": 7,
   "id": "c7fbfc94",
   "metadata": {},
   "outputs": [
    {
     "data": {
      "text/plain": [
       "{1: ' Amer-Indian-Eskimo',\n",
       " 2: ' Asian-Pac-Islander',\n",
       " 3: ' Black',\n",
       " 4: ' Other',\n",
       " 5: ' White'}"
      ]
     },
     "execution_count": 7,
     "metadata": {},
     "output_type": "execute_result"
    }
   ],
   "source": [
    "val3=np.unique(np.array(df['race']))\n",
    "race_dict=dict()\n",
    "for i in range(len(val3)):\n",
    "    race_dict[i+1]=val3[i]\n",
    "race_dict"
   ]
  },
  {
   "cell_type": "code",
   "execution_count": 8,
   "id": "b88980dd",
   "metadata": {},
   "outputs": [
    {
     "data": {
      "text/plain": [
       "{1: ' Female', 2: ' Male'}"
      ]
     },
     "execution_count": 8,
     "metadata": {},
     "output_type": "execute_result"
    }
   ],
   "source": [
    "val4=np.unique(np.array(df['gender']))\n",
    "gender_dict=dict()\n",
    "for i in range(len(val4)):\n",
    "    gender_dict[i+1]=val4[i]\n",
    "gender_dict"
   ]
  },
  {
   "cell_type": "code",
   "execution_count": 9,
   "id": "9e3411f6",
   "metadata": {},
   "outputs": [
    {
     "data": {
      "text/plain": [
       "{1: ' ?',\n",
       " 2: ' Cambodia',\n",
       " 3: ' Canada',\n",
       " 4: ' China',\n",
       " 5: ' Columbia',\n",
       " 6: ' Cuba',\n",
       " 7: ' Dominican-Republic',\n",
       " 8: ' Ecuador',\n",
       " 9: ' El-Salvador',\n",
       " 10: ' England',\n",
       " 11: ' France',\n",
       " 12: ' Germany',\n",
       " 13: ' Greece',\n",
       " 14: ' Guatemala',\n",
       " 15: ' Haiti',\n",
       " 16: ' Holand-Netherlands',\n",
       " 17: ' Honduras',\n",
       " 18: ' Hong',\n",
       " 19: ' Hungary',\n",
       " 20: ' India',\n",
       " 21: ' Iran',\n",
       " 22: ' Ireland',\n",
       " 23: ' Italy',\n",
       " 24: ' Jamaica',\n",
       " 25: ' Japan',\n",
       " 26: ' Laos',\n",
       " 27: ' Mexico',\n",
       " 28: ' Nicaragua',\n",
       " 29: ' Outlying-US(Guam-USVI-etc)',\n",
       " 30: ' Peru',\n",
       " 31: ' Philippines',\n",
       " 32: ' Poland',\n",
       " 33: ' Portugal',\n",
       " 34: ' Puerto-Rico',\n",
       " 35: ' Scotland',\n",
       " 36: ' South',\n",
       " 37: ' Taiwan',\n",
       " 38: ' Thailand',\n",
       " 39: ' Trinadad&Tobago',\n",
       " 40: ' United-States',\n",
       " 41: ' Vietnam',\n",
       " 42: ' Yugoslavia'}"
      ]
     },
     "execution_count": 9,
     "metadata": {},
     "output_type": "execute_result"
    }
   ],
   "source": [
    "val5=np.unique(np.array(df['native-country']))\n",
    "native_dict=dict()\n",
    "for i in range(len(val5)):\n",
    "    native_dict[i+1]=val5[i]\n",
    "native_dict"
   ]
  },
  {
   "cell_type": "code",
   "execution_count": null,
   "id": "75f91ea4",
   "metadata": {},
   "outputs": [],
   "source": []
  },
  {
   "cell_type": "code",
   "execution_count": null,
   "id": "6a6c97cb",
   "metadata": {},
   "outputs": [],
   "source": []
  },
  {
   "cell_type": "code",
   "execution_count": null,
   "id": "4bf8f202",
   "metadata": {},
   "outputs": [],
   "source": []
  },
  {
   "cell_type": "code",
   "execution_count": null,
   "id": "adcad1e3",
   "metadata": {},
   "outputs": [],
   "source": []
  },
  {
   "cell_type": "code",
   "execution_count": 10,
   "id": "d0eb20b0",
   "metadata": {},
   "outputs": [],
   "source": [
    "from sklearn.preprocessing import LabelEncoder"
   ]
  },
  {
   "cell_type": "code",
   "execution_count": 11,
   "id": "05b4b277",
   "metadata": {},
   "outputs": [],
   "source": [
    "Lr=LabelEncoder()"
   ]
  },
  {
   "cell_type": "code",
   "execution_count": 12,
   "id": "7135ba1c",
   "metadata": {},
   "outputs": [
    {
     "data": {
      "text/plain": [
       "LabelEncoder()"
      ]
     },
     "execution_count": 12,
     "metadata": {},
     "output_type": "execute_result"
    }
   ],
   "source": [
    "Lr"
   ]
  },
  {
   "cell_type": "code",
   "execution_count": 13,
   "id": "6392b330",
   "metadata": {},
   "outputs": [],
   "source": [
    "temp=df[['workclass', 'occupation', 'race', 'gender', 'native-country', 'income']]"
   ]
  },
  {
   "cell_type": "code",
   "execution_count": null,
   "id": "6bac5cfe",
   "metadata": {},
   "outputs": [],
   "source": []
  },
  {
   "cell_type": "code",
   "execution_count": 14,
   "id": "e31d633b",
   "metadata": {},
   "outputs": [
    {
     "data": {
      "text/plain": [
       "Index(['Age', 'workclass', 'educational-num', 'occupation', 'race', 'gender',\n",
       "       'capital-gain', 'capital-loss', 'hours-per-week', 'native-country',\n",
       "       'income'],\n",
       "      dtype='object')"
      ]
     },
     "execution_count": 14,
     "metadata": {},
     "output_type": "execute_result"
    }
   ],
   "source": [
    "df.columns"
   ]
  },
  {
   "cell_type": "code",
   "execution_count": 15,
   "id": "17a95b8d",
   "metadata": {},
   "outputs": [],
   "source": [
    "for i in temp.columns:\n",
    "    df[i]=Lr.fit_transform(df[i])"
   ]
  },
  {
   "cell_type": "code",
   "execution_count": 16,
   "id": "c52f1bd4",
   "metadata": {},
   "outputs": [
    {
     "data": {
      "text/html": [
       "<div>\n",
       "<style scoped>\n",
       "    .dataframe tbody tr th:only-of-type {\n",
       "        vertical-align: middle;\n",
       "    }\n",
       "\n",
       "    .dataframe tbody tr th {\n",
       "        vertical-align: top;\n",
       "    }\n",
       "\n",
       "    .dataframe thead th {\n",
       "        text-align: right;\n",
       "    }\n",
       "</style>\n",
       "<table border=\"1\" class=\"dataframe\">\n",
       "  <thead>\n",
       "    <tr style=\"text-align: right;\">\n",
       "      <th></th>\n",
       "      <th>Age</th>\n",
       "      <th>workclass</th>\n",
       "      <th>educational-num</th>\n",
       "      <th>occupation</th>\n",
       "      <th>race</th>\n",
       "      <th>gender</th>\n",
       "      <th>capital-gain</th>\n",
       "      <th>capital-loss</th>\n",
       "      <th>hours-per-week</th>\n",
       "      <th>native-country</th>\n",
       "      <th>income</th>\n",
       "    </tr>\n",
       "  </thead>\n",
       "  <tbody>\n",
       "    <tr>\n",
       "      <th>0</th>\n",
       "      <td>39</td>\n",
       "      <td>7</td>\n",
       "      <td>13</td>\n",
       "      <td>1</td>\n",
       "      <td>4</td>\n",
       "      <td>1</td>\n",
       "      <td>2174</td>\n",
       "      <td>0</td>\n",
       "      <td>40</td>\n",
       "      <td>39</td>\n",
       "      <td>0</td>\n",
       "    </tr>\n",
       "    <tr>\n",
       "      <th>1</th>\n",
       "      <td>50</td>\n",
       "      <td>6</td>\n",
       "      <td>13</td>\n",
       "      <td>4</td>\n",
       "      <td>4</td>\n",
       "      <td>1</td>\n",
       "      <td>0</td>\n",
       "      <td>0</td>\n",
       "      <td>13</td>\n",
       "      <td>39</td>\n",
       "      <td>0</td>\n",
       "    </tr>\n",
       "    <tr>\n",
       "      <th>2</th>\n",
       "      <td>38</td>\n",
       "      <td>4</td>\n",
       "      <td>9</td>\n",
       "      <td>6</td>\n",
       "      <td>4</td>\n",
       "      <td>1</td>\n",
       "      <td>0</td>\n",
       "      <td>0</td>\n",
       "      <td>40</td>\n",
       "      <td>39</td>\n",
       "      <td>0</td>\n",
       "    </tr>\n",
       "    <tr>\n",
       "      <th>3</th>\n",
       "      <td>53</td>\n",
       "      <td>4</td>\n",
       "      <td>7</td>\n",
       "      <td>6</td>\n",
       "      <td>2</td>\n",
       "      <td>1</td>\n",
       "      <td>0</td>\n",
       "      <td>0</td>\n",
       "      <td>40</td>\n",
       "      <td>39</td>\n",
       "      <td>0</td>\n",
       "    </tr>\n",
       "    <tr>\n",
       "      <th>4</th>\n",
       "      <td>28</td>\n",
       "      <td>4</td>\n",
       "      <td>13</td>\n",
       "      <td>10</td>\n",
       "      <td>2</td>\n",
       "      <td>0</td>\n",
       "      <td>0</td>\n",
       "      <td>0</td>\n",
       "      <td>40</td>\n",
       "      <td>5</td>\n",
       "      <td>0</td>\n",
       "    </tr>\n",
       "    <tr>\n",
       "      <th>...</th>\n",
       "      <td>...</td>\n",
       "      <td>...</td>\n",
       "      <td>...</td>\n",
       "      <td>...</td>\n",
       "      <td>...</td>\n",
       "      <td>...</td>\n",
       "      <td>...</td>\n",
       "      <td>...</td>\n",
       "      <td>...</td>\n",
       "      <td>...</td>\n",
       "      <td>...</td>\n",
       "    </tr>\n",
       "    <tr>\n",
       "      <th>22275</th>\n",
       "      <td>71</td>\n",
       "      <td>0</td>\n",
       "      <td>16</td>\n",
       "      <td>0</td>\n",
       "      <td>4</td>\n",
       "      <td>1</td>\n",
       "      <td>0</td>\n",
       "      <td>0</td>\n",
       "      <td>10</td>\n",
       "      <td>39</td>\n",
       "      <td>1</td>\n",
       "    </tr>\n",
       "    <tr>\n",
       "      <th>22276</th>\n",
       "      <td>39</td>\n",
       "      <td>2</td>\n",
       "      <td>12</td>\n",
       "      <td>1</td>\n",
       "      <td>4</td>\n",
       "      <td>0</td>\n",
       "      <td>0</td>\n",
       "      <td>0</td>\n",
       "      <td>20</td>\n",
       "      <td>39</td>\n",
       "      <td>1</td>\n",
       "    </tr>\n",
       "    <tr>\n",
       "      <th>22277</th>\n",
       "      <td>53</td>\n",
       "      <td>4</td>\n",
       "      <td>14</td>\n",
       "      <td>4</td>\n",
       "      <td>4</td>\n",
       "      <td>1</td>\n",
       "      <td>0</td>\n",
       "      <td>0</td>\n",
       "      <td>40</td>\n",
       "      <td>39</td>\n",
       "      <td>1</td>\n",
       "    </tr>\n",
       "    <tr>\n",
       "      <th>22278</th>\n",
       "      <td>40</td>\n",
       "      <td>4</td>\n",
       "      <td>9</td>\n",
       "      <td>7</td>\n",
       "      <td>4</td>\n",
       "      <td>1</td>\n",
       "      <td>0</td>\n",
       "      <td>0</td>\n",
       "      <td>40</td>\n",
       "      <td>39</td>\n",
       "      <td>1</td>\n",
       "    </tr>\n",
       "    <tr>\n",
       "      <th>22279</th>\n",
       "      <td>52</td>\n",
       "      <td>5</td>\n",
       "      <td>9</td>\n",
       "      <td>4</td>\n",
       "      <td>4</td>\n",
       "      <td>0</td>\n",
       "      <td>15024</td>\n",
       "      <td>0</td>\n",
       "      <td>40</td>\n",
       "      <td>39</td>\n",
       "      <td>1</td>\n",
       "    </tr>\n",
       "  </tbody>\n",
       "</table>\n",
       "<p>22280 rows × 11 columns</p>\n",
       "</div>"
      ],
      "text/plain": [
       "       Age  workclass  educational-num  occupation  race  gender  \\\n",
       "0       39          7               13           1     4       1   \n",
       "1       50          6               13           4     4       1   \n",
       "2       38          4                9           6     4       1   \n",
       "3       53          4                7           6     2       1   \n",
       "4       28          4               13          10     2       0   \n",
       "...    ...        ...              ...         ...   ...     ...   \n",
       "22275   71          0               16           0     4       1   \n",
       "22276   39          2               12           1     4       0   \n",
       "22277   53          4               14           4     4       1   \n",
       "22278   40          4                9           7     4       1   \n",
       "22279   52          5                9           4     4       0   \n",
       "\n",
       "       capital-gain  capital-loss  hours-per-week  native-country  income  \n",
       "0              2174             0              40              39       0  \n",
       "1                 0             0              13              39       0  \n",
       "2                 0             0              40              39       0  \n",
       "3                 0             0              40              39       0  \n",
       "4                 0             0              40               5       0  \n",
       "...             ...           ...             ...             ...     ...  \n",
       "22275             0             0              10              39       1  \n",
       "22276             0             0              20              39       1  \n",
       "22277             0             0              40              39       1  \n",
       "22278             0             0              40              39       1  \n",
       "22279         15024             0              40              39       1  \n",
       "\n",
       "[22280 rows x 11 columns]"
      ]
     },
     "execution_count": 16,
     "metadata": {},
     "output_type": "execute_result"
    }
   ],
   "source": [
    "df"
   ]
  },
  {
   "cell_type": "code",
   "execution_count": 17,
   "id": "5029db03",
   "metadata": {},
   "outputs": [
    {
     "data": {
      "text/plain": [
       "Index(['Age', 'workclass', 'educational-num', 'occupation', 'race', 'gender',\n",
       "       'capital-gain', 'capital-loss', 'hours-per-week', 'native-country',\n",
       "       'income'],\n",
       "      dtype='object')"
      ]
     },
     "execution_count": 17,
     "metadata": {},
     "output_type": "execute_result"
    }
   ],
   "source": [
    "df.columns"
   ]
  },
  {
   "cell_type": "code",
   "execution_count": 18,
   "id": "62216fba",
   "metadata": {},
   "outputs": [
    {
     "data": {
      "text/plain": [
       "<AxesSubplot:>"
      ]
     },
     "execution_count": 18,
     "metadata": {},
     "output_type": "execute_result"
    },
    {
     "data": {
      "image/png": "[encoded data removed]",
      "text/plain": [
       "<Figure size 432x288 with 1 Axes>"
      ]
     },
     "metadata": {
      "needs_background": "light"
     },
     "output_type": "display_data"
    }
   ],
   "source": [
    "df['income'].hist()"
   ]
  },
  {
   "cell_type": "code",
   "execution_count": 19,
   "id": "4cf956ca",
   "metadata": {},
   "outputs": [
    {
     "data": {
      "text/plain": [
       "Age                7841\n",
       "workclass          7841\n",
       "educational-num    7841\n",
       "occupation         7841\n",
       "race               7841\n",
       "gender             7841\n",
       "capital-gain       7841\n",
       "capital-loss       7841\n",
       "hours-per-week     7841\n",
       "native-country     7841\n",
       "income             7841\n",
       "dtype: int64"
      ]
     },
     "execution_count": 19,
     "metadata": {},
     "output_type": "execute_result"
    }
   ],
   "source": [
    "df[df['income']==1].count()"
   ]
  },
  {
   "cell_type": "code",
   "execution_count": 20,
   "id": "bb525358",
   "metadata": {},
   "outputs": [
    {
     "data": {
      "text/plain": [
       "Age                14439\n",
       "workclass          14439\n",
       "educational-num    14439\n",
       "occupation         14439\n",
       "race               14439\n",
       "gender             14439\n",
       "capital-gain       14439\n",
       "capital-loss       14439\n",
       "hours-per-week     14439\n",
       "native-country     14439\n",
       "income             14439\n",
       "dtype: int64"
      ]
     },
     "execution_count": 20,
     "metadata": {},
     "output_type": "execute_result"
    }
   ],
   "source": [
    "df[df['income']==0].count()"
   ]
  },
  {
   "cell_type": "code",
   "execution_count": null,
   "id": "b370b58f",
   "metadata": {},
   "outputs": [],
   "source": []
  },
  {
   "cell_type": "code",
   "execution_count": 21,
   "id": "d0542d07",
   "metadata": {},
   "outputs": [],
   "source": [
    "def priori(df, Y):\n",
    "    classes = sorted(list(df[Y].unique()))\n",
    "    prior = []\n",
    "    for i in classes:\n",
    "        prior.append(len(df[df[Y]==i])/len(df))\n",
    "    return prior"
   ]
  },
  {
   "cell_type": "code",
   "execution_count": 23,
   "id": "3ed3abe6",
   "metadata": {},
   "outputs": [],
   "source": [
    "def likelihood_gaussian(df, feat, f_val, Y, label):\n",
    "    feat = list(df.columns)\n",
    "    df = df[df[Y]==label]\n",
    "    mean, std = df[feat].mean(), df[feat].std()\n",
    "    P_x_g_y = (1 / (np.sqrt(2 * np.pi) * std)) *  np.exp(-((f_val-mean)**2 / (2 * std**2 )))\n",
    "    return P_x_g_y"
   ]
  },
  {
   "cell_type": "code",
   "execution_count": 24,
   "id": "98663748",
   "metadata": {},
   "outputs": [],
   "source": [
    "def naive_bayes(df, X, Y):\n",
    "    # get feature names\n",
    "    features = list(df.columns)[:-1]\n",
    "\n",
    "    # calculate prior\n",
    "    prior = priori(df, Y)\n",
    "\n",
    "    Y_pred = []\n",
    "    # loop over every data sample\n",
    "    for x in X:\n",
    "        # calculate likelihood\n",
    "        labels = sorted(list(df[Y].unique()))\n",
    "        likelihood = [1]*len(labels)\n",
    "        for j in range(len(labels)):\n",
    "            for i in range(len(features)):\n",
    "                likelihood[j] *= likelihood_gaussian(df, features[i], x[i], Y, labels[j])\n",
    "\n",
    "        # calculate posterior probability (numerator only)\n",
    "        post_prob = [1]*len(labels)\n",
    "        for j in range(len(labels)):\n",
    "            post_prob[j] = likelihood[j] * prior[j]\n",
    "\n",
    "        Y_pred.append(np.argmax(post_prob))\n",
    "\n",
    "    return np.array(Y_pred) "
   ]
  },
  {
   "cell_type": "code",
   "execution_count": null,
   "id": "29b593db",
   "metadata": {},
   "outputs": [],
   "source": [
    "from sklearn.model_selection import train_test_split\n",
    "train, test = train_test_split(df, test_size=.2, random_state=41)\n",
    "\n",
    "X_test = test.iloc[:,:-1].values\n",
    "Y_test = test.iloc[:,-1].values"
   ]
  },
  {
   "cell_type": "code",
   "execution_count": null,
   "id": "0ec49b51",
   "metadata": {},
   "outputs": [],
   "source": [
    "\n",
    "# # Y_pred = naive_bayes_gaussian(train, X=X_test, Y=\" <=50K\")\n",
    "\n",
    "# from sklearn.metrics import confusion_matrix, f1_score\n",
    "# print(confusion_matrix(Y_test, Y_pred))\n",
    "# print(f1_score(Y_test, Y_pred))"
   ]
  },
  {
   "cell_type": "code",
   "execution_count": null,
   "id": "703806a4",
   "metadata": {},
   "outputs": [],
   "source": [
    "sns.countplot(train[\"income\"])"
   ]
  },
  {
   "cell_type": "code",
   "execution_count": null,
   "id": "3ce249de",
   "metadata": {},
   "outputs": [],
   "source": []
  },
  {
   "cell_type": "code",
   "execution_count": null,
   "id": "6d99d01e",
   "metadata": {},
   "outputs": [],
   "source": []
  },
  {
   "cell_type": "code",
   "execution_count": null,
   "id": "52ce53d3",
   "metadata": {},
   "outputs": [],
   "source": [
    "#As we have imbalanced dataset we have to use the rebalanc"
   ]
  },
  {
   "cell_type": "markdown",
   "id": "41087e18",
   "metadata": {},
   "source": [
    "# RESAMPLING METHOD"
   ]
  },
  {
   "cell_type": "markdown",
   "id": "ba059ec4",
   "metadata": {},
   "source": [
    "This technique is used to upsample or downsample the minority or majority class. When we are using an imbalanced dataset, we can oversample the minority class using replacement. This technique is called oversampling. Similarly, we can randomly delete rows from the majority class to match them with the minority class which is called undersampling. After sampling the data we can get a balanced dataset for both majority and minority classes. So, when both classes have a similar number of records present in the dataset, we can assume that the classifier will give equal importance to both classes."
   ]
  },
  {
   "cell_type": "code",
   "execution_count": null,
   "id": "72c97414",
   "metadata": {},
   "outputs": [],
   "source": [
    "sns.countplot(df[\"income\"])"
   ]
  },
  {
   "cell_type": "code",
   "execution_count": null,
   "id": "0e5c7524",
   "metadata": {},
   "outputs": [],
   "source": [
    "from sklearn.utils import resample\n"
   ]
  },
  {
   "cell_type": "markdown",
   "id": "ec05968a",
   "metadata": {},
   "source": [
    "Now we have to create two classes i.e major and minor"
   ]
  },
  {
   "cell_type": "code",
   "execution_count": null,
   "id": "60ce03d0",
   "metadata": {},
   "outputs": [],
   "source": [
    "train_major=train[(train[\"income\"]==0)]\n",
    "train_minor=train[(train[\"income\"]==1)]"
   ]
  },
  {
   "cell_type": "code",
   "execution_count": null,
   "id": "dbf7a392",
   "metadata": {},
   "outputs": [],
   "source": [
    "train_major.count()"
   ]
  },
  {
   "cell_type": "code",
   "execution_count": null,
   "id": "02902c3f",
   "metadata": {},
   "outputs": [],
   "source": [
    "train_minor.count()"
   ]
  },
  {
   "cell_type": "code",
   "execution_count": null,
   "id": "a12c5741",
   "metadata": {},
   "outputs": [],
   "source": [
    "print(\"Size before concatenating the new data = \\n\",train.count())"
   ]
  },
  {
   "cell_type": "code",
   "execution_count": null,
   "id": "6a89d8a2",
   "metadata": {},
   "outputs": [],
   "source": [
    "train_minor_up=resample(\n",
    "          train_minor,\n",
    "    replace=True,\n",
    "    n_samples=2000,\n",
    "    random_state=42\n",
    ")\n",
    "\n",
    "#cancat with the old data\n",
    "\n",
    "train=pd.concat([train_minor_up,train_major])"
   ]
  },
  {
   "cell_type": "code",
   "execution_count": null,
   "id": "df1c692a",
   "metadata": {},
   "outputs": [],
   "source": [
    "train"
   ]
  },
  {
   "cell_type": "code",
   "execution_count": null,
   "id": "66939b3b",
   "metadata": {},
   "outputs": [],
   "source": [
    "train_major.count()"
   ]
  },
  {
   "cell_type": "code",
   "execution_count": null,
   "id": "a19fce12",
   "metadata": {
    "scrolled": true
   },
   "outputs": [],
   "source": [
    "train_minor.count()"
   ]
  },
  {
   "cell_type": "code",
   "execution_count": null,
   "id": "a126db27",
   "metadata": {},
   "outputs": [],
   "source": [
    "print(\"Size After concatenating the new data = \\n\",train.count())"
   ]
  },
  {
   "cell_type": "code",
   "execution_count": null,
   "id": "1a323cca",
   "metadata": {
    "scrolled": true
   },
   "outputs": [],
   "source": [
    "Y_pred = naive_bayes(train, X=X_test, Y=\"income\")\n",
    "\n",
    "from sklearn.metrics import confusion_matrix, f1_score, accuracy_score\n",
    "\n",
    "print(accuracy_score(Y_test, Y_pred,normalize=True))"
   ]
  },
  {
   "cell_type": "code",
   "execution_count": null,
   "id": "75925b26",
   "metadata": {},
   "outputs": [],
   "source": [
    "print(confusion_matrix(Y_test, Y_pred))\n",
    "print(f1_score(Y_test, Y_pred))"
   ]
  },
  {
   "cell_type": "code",
   "execution_count": null,
   "id": "c71fc156",
   "metadata": {},
   "outputs": [],
   "source": [
    "#Y_pred"
   ]
  },
  {
   "cell_type": "code",
   "execution_count": null,
   "id": "fc1b5cee",
   "metadata": {},
   "outputs": [],
   "source": [
    "#for user input"
   ]
  },
  {
   "cell_type": "code",
   "execution_count": null,
   "id": "1c07e0d3",
   "metadata": {},
   "outputs": [],
   "source": [
    "X_test = test.iloc[:,:-1].values\n",
    "Y_test = test.iloc[:,-1].values"
   ]
  },
  {
   "cell_type": "code",
   "execution_count": null,
   "id": "27314430",
   "metadata": {},
   "outputs": [],
   "source": [
    "test"
   ]
  },
  {
   "cell_type": "code",
   "execution_count": null,
   "id": "ef0dc4b8",
   "metadata": {},
   "outputs": [],
   "source": [
    "test.columns"
   ]
  },
  {
   "cell_type": "markdown",
   "id": "6182d1b2",
   "metadata": {},
   "source": [
    "# ENTER IN THIS FORMAT"
   ]
  },
  {
   "cell_type": "code",
   "execution_count": null,
   "id": "cb856849",
   "metadata": {},
   "outputs": [],
   "source": [
    "workclass_dict"
   ]
  },
  {
   "cell_type": "code",
   "execution_count": null,
   "id": "9b9fe306",
   "metadata": {},
   "outputs": [],
   "source": [
    "occupation_dict"
   ]
  },
  {
   "cell_type": "code",
   "execution_count": null,
   "id": "c47cd304",
   "metadata": {},
   "outputs": [],
   "source": [
    "race_dict"
   ]
  },
  {
   "cell_type": "code",
   "execution_count": null,
   "id": "e932a2e3",
   "metadata": {},
   "outputs": [],
   "source": [
    "gender_dict"
   ]
  },
  {
   "cell_type": "code",
   "execution_count": null,
   "id": "bb943907",
   "metadata": {},
   "outputs": [],
   "source": [
    "native_dict"
   ]
  },
  {
   "cell_type": "code",
   "execution_count": null,
   "id": "fafc419b",
   "metadata": {},
   "outputs": [],
   "source": []
  },
  {
   "cell_type": "code",
   "execution_count": null,
   "id": "8c9320a7",
   "metadata": {},
   "outputs": [],
   "source": []
  },
  {
   "cell_type": "code",
   "execution_count": null,
   "id": "1c6aea74",
   "metadata": {},
   "outputs": [],
   "source": []
  },
  {
   "cell_type": "code",
   "execution_count": null,
   "id": "dde6d9c6",
   "metadata": {},
   "outputs": [],
   "source": []
  },
  {
   "cell_type": "code",
   "execution_count": null,
   "id": "27b6b3f1",
   "metadata": {},
   "outputs": [],
   "source": []
  },
  {
   "cell_type": "code",
   "execution_count": null,
   "id": "2401b2e7",
   "metadata": {},
   "outputs": [],
   "source": [
    "age=int(input(\"Enter the age = \"))\n",
    "workclass=int(input(\"Enter the workclas = \"))\n",
    "educational_num=int(input(\"Enter the educational number = \"))\n",
    "occupation=int(input(\"Enter the occupation = \"))\n",
    "race=int(input(\"Enter the race = \"))\n",
    "gender=int(input(\"Enter the gender = \"))\n",
    "capital_gain=int(input(\"Enter the capital-gain = \"))\n",
    "capital_loss=int(input(\"Enter the capital-loss = \"))\n",
    "hours=int(input(\"Enter the hours = \"))\n",
    "native=int(input(\"Enter the native = \"))\n",
    "\n",
    "X_t=np.array([[age,workclass,educational_num,occupation,race,gender,capital_gain,capital_loss,hours,native]])"
   ]
  },
  {
   "cell_type": "code",
   "execution_count": null,
   "id": "cff0f150",
   "metadata": {},
   "outputs": [],
   "source": [
    "X_test[2]"
   ]
  },
  {
   "cell_type": "code",
   "execution_count": null,
   "id": "ef3e2f1d",
   "metadata": {},
   "outputs": [],
   "source": [
    "Y_pred = naive_bayes(train, X=X_t, Y=\"income\")\n",
    "\n",
    "print(Y_pred,\"\\n\")"
   ]
  },
  {
   "cell_type": "code",
   "execution_count": null,
   "id": "61c80fad",
   "metadata": {},
   "outputs": [],
   "source": []
  }
 ],
 "metadata": {
  "kernelspec": {
   "display_name": "Python 3 (ipykernel)",
   "language": "python",
   "name": "python3"
  },
  "language_info": {
   "codemirror_mode": {
    "name": "ipython",
    "version": 3
   },
   "file_extension": ".py",
   "mimetype": "text/x-python",
   "name": "python",
   "nbconvert_exporter": "python",
   "pygments_lexer": "ipython3",
   "version": "3.9.6"
  }
 },
 "nbformat": 4,
 "nbformat_minor": 5
}
