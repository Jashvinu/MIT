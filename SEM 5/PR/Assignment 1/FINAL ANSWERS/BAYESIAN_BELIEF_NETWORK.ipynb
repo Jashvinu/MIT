{
 "cells": [
  {
   "cell_type": "markdown",
   "id": "4bff3b21",
   "metadata": {},
   "source": [
    "<center><h1>BAYESIAN BELIEF NETWORK</h1></center>"
   ]
  },
  {
   "cell_type": "code",
   "execution_count": null,
   "id": "8b759fe0",
   "metadata": {},
   "outputs": [],
   "source": []
  },
  {
   "cell_type": "markdown",
   "id": "42eb4766",
   "metadata": {},
   "source": [
    "<h3>Name : Rahul Prasanth D</h3>\n",
    "<h3>Roll Number : 2020506070</h3>"
   ]
  },
  {
   "cell_type": "code",
   "execution_count": null,
   "id": "dc9bd12f",
   "metadata": {},
   "outputs": [],
   "source": []
  },
  {
   "cell_type": "markdown",
   "id": "ab9c317f",
   "metadata": {},
   "source": [
    "<h2>Dataset Information</h2>\n",
    "<u>DataSet name</u> : <b>Adult dataset</b><div></div>\n",
    "<u>Description</u> : This dataset contains the information about the income i.e <=50K or >50K. With the help of some attributes we can determine the target"
   ]
  },
  {
   "cell_type": "code",
   "execution_count": null,
   "id": "465e25bd",
   "metadata": {},
   "outputs": [],
   "source": []
  },
  {
   "cell_type": "markdown",
   "id": "325fded4",
   "metadata": {},
   "source": [
    " **<h1>Aim: </h1>**\n",
    "The aim of this notebook is to perform BBN on the given Adult Income Dataset"
   ]
  },
  {
   "cell_type": "code",
   "execution_count": null,
   "id": "c572dbdd",
   "metadata": {},
   "outputs": [],
   "source": []
  },
  {
   "cell_type": "code",
   "execution_count": null,
   "id": "811b0423",
   "metadata": {},
   "outputs": [],
   "source": []
  },
  {
   "cell_type": "markdown",
   "id": "8a90922a",
   "metadata": {},
   "source": [
    "# Libs"
   ]
  },
  {
   "cell_type": "code",
   "execution_count": 1,
   "id": "66334248",
   "metadata": {},
   "outputs": [],
   "source": [
    "import pandas as pd\n",
    "import numpy as np\n",
    "import networkx as nx # for drawing graphs\n",
    "import matplotlib.pyplot as plt # for drawing graphs\n",
    "\n",
    "from pybbn.graph.dag import Bbn\n",
    "from pybbn.graph.node import BbnNode\n",
    "from pybbn.graph.variable import Variable\n",
    "from pybbn.graph.edge import Edge, EdgeType\n",
    "from pybbn.pptc.inferencecontroller import InferenceController\n",
    "from pybbn.graph.jointree import EvidenceBuilder"
   ]
  },
  {
   "cell_type": "code",
   "execution_count": 2,
   "id": "b68046c9",
   "metadata": {},
   "outputs": [],
   "source": [
    "dataset=pd.read_csv(\"dataset/adult_new.csv\")"
   ]
  },
  {
   "cell_type": "code",
   "execution_count": 3,
   "id": "48066cc8",
   "metadata": {},
   "outputs": [
    {
     "data": {
      "text/html": [
       "<div>\n",
       "<style scoped>\n",
       "    .dataframe tbody tr th:only-of-type {\n",
       "        vertical-align: middle;\n",
       "    }\n",
       "\n",
       "    .dataframe tbody tr th {\n",
       "        vertical-align: top;\n",
       "    }\n",
       "\n",
       "    .dataframe thead th {\n",
       "        text-align: right;\n",
       "    }\n",
       "</style>\n",
       "<table border=\"1\" class=\"dataframe\">\n",
       "  <thead>\n",
       "    <tr style=\"text-align: right;\">\n",
       "      <th></th>\n",
       "      <th>Age</th>\n",
       "      <th>workclass</th>\n",
       "      <th>fnlwgt</th>\n",
       "      <th>education</th>\n",
       "      <th>educational-num</th>\n",
       "      <th>marital-status</th>\n",
       "      <th>occupation</th>\n",
       "      <th>relationship</th>\n",
       "      <th>race</th>\n",
       "      <th>gender</th>\n",
       "      <th>capital-gain</th>\n",
       "      <th>capital-loss</th>\n",
       "      <th>hours-per-week</th>\n",
       "      <th>native-country</th>\n",
       "      <th>income</th>\n",
       "    </tr>\n",
       "  </thead>\n",
       "  <tbody>\n",
       "    <tr>\n",
       "      <th>0</th>\n",
       "      <td>39</td>\n",
       "      <td>State-gov</td>\n",
       "      <td>77516</td>\n",
       "      <td>Bachelors</td>\n",
       "      <td>13</td>\n",
       "      <td>Never-married</td>\n",
       "      <td>Adm-clerical</td>\n",
       "      <td>Not-in-family</td>\n",
       "      <td>White</td>\n",
       "      <td>Male</td>\n",
       "      <td>2174</td>\n",
       "      <td>0</td>\n",
       "      <td>40</td>\n",
       "      <td>United-States</td>\n",
       "      <td>&lt;=50K</td>\n",
       "    </tr>\n",
       "    <tr>\n",
       "      <th>1</th>\n",
       "      <td>50</td>\n",
       "      <td>Self-emp-not-inc</td>\n",
       "      <td>83311</td>\n",
       "      <td>Bachelors</td>\n",
       "      <td>13</td>\n",
       "      <td>Married-civ-spouse</td>\n",
       "      <td>Exec-managerial</td>\n",
       "      <td>Husband</td>\n",
       "      <td>White</td>\n",
       "      <td>Male</td>\n",
       "      <td>0</td>\n",
       "      <td>0</td>\n",
       "      <td>13</td>\n",
       "      <td>United-States</td>\n",
       "      <td>&lt;=50K</td>\n",
       "    </tr>\n",
       "    <tr>\n",
       "      <th>2</th>\n",
       "      <td>38</td>\n",
       "      <td>Private</td>\n",
       "      <td>215646</td>\n",
       "      <td>HS-grad</td>\n",
       "      <td>9</td>\n",
       "      <td>Divorced</td>\n",
       "      <td>Handlers-cleaners</td>\n",
       "      <td>Not-in-family</td>\n",
       "      <td>White</td>\n",
       "      <td>Male</td>\n",
       "      <td>0</td>\n",
       "      <td>0</td>\n",
       "      <td>40</td>\n",
       "      <td>United-States</td>\n",
       "      <td>&lt;=50K</td>\n",
       "    </tr>\n",
       "    <tr>\n",
       "      <th>3</th>\n",
       "      <td>53</td>\n",
       "      <td>Private</td>\n",
       "      <td>234721</td>\n",
       "      <td>11th</td>\n",
       "      <td>7</td>\n",
       "      <td>Married-civ-spouse</td>\n",
       "      <td>Handlers-cleaners</td>\n",
       "      <td>Husband</td>\n",
       "      <td>Black</td>\n",
       "      <td>Male</td>\n",
       "      <td>0</td>\n",
       "      <td>0</td>\n",
       "      <td>40</td>\n",
       "      <td>United-States</td>\n",
       "      <td>&lt;=50K</td>\n",
       "    </tr>\n",
       "    <tr>\n",
       "      <th>4</th>\n",
       "      <td>28</td>\n",
       "      <td>Private</td>\n",
       "      <td>338409</td>\n",
       "      <td>Bachelors</td>\n",
       "      <td>13</td>\n",
       "      <td>Married-civ-spouse</td>\n",
       "      <td>Prof-specialty</td>\n",
       "      <td>Wife</td>\n",
       "      <td>Black</td>\n",
       "      <td>Female</td>\n",
       "      <td>0</td>\n",
       "      <td>0</td>\n",
       "      <td>40</td>\n",
       "      <td>Cuba</td>\n",
       "      <td>&lt;=50K</td>\n",
       "    </tr>\n",
       "    <tr>\n",
       "      <th>...</th>\n",
       "      <td>...</td>\n",
       "      <td>...</td>\n",
       "      <td>...</td>\n",
       "      <td>...</td>\n",
       "      <td>...</td>\n",
       "      <td>...</td>\n",
       "      <td>...</td>\n",
       "      <td>...</td>\n",
       "      <td>...</td>\n",
       "      <td>...</td>\n",
       "      <td>...</td>\n",
       "      <td>...</td>\n",
       "      <td>...</td>\n",
       "      <td>...</td>\n",
       "      <td>...</td>\n",
       "    </tr>\n",
       "    <tr>\n",
       "      <th>22275</th>\n",
       "      <td>71</td>\n",
       "      <td>?</td>\n",
       "      <td>287372</td>\n",
       "      <td>Doctorate</td>\n",
       "      <td>16</td>\n",
       "      <td>Married-civ-spouse</td>\n",
       "      <td>?</td>\n",
       "      <td>Husband</td>\n",
       "      <td>White</td>\n",
       "      <td>Male</td>\n",
       "      <td>0</td>\n",
       "      <td>0</td>\n",
       "      <td>10</td>\n",
       "      <td>United-States</td>\n",
       "      <td>&gt;50K</td>\n",
       "    </tr>\n",
       "    <tr>\n",
       "      <th>22276</th>\n",
       "      <td>39</td>\n",
       "      <td>Local-gov</td>\n",
       "      <td>111499</td>\n",
       "      <td>Assoc-acdm</td>\n",
       "      <td>12</td>\n",
       "      <td>Married-civ-spouse</td>\n",
       "      <td>Adm-clerical</td>\n",
       "      <td>Wife</td>\n",
       "      <td>White</td>\n",
       "      <td>Female</td>\n",
       "      <td>0</td>\n",
       "      <td>0</td>\n",
       "      <td>20</td>\n",
       "      <td>United-States</td>\n",
       "      <td>&gt;50K</td>\n",
       "    </tr>\n",
       "    <tr>\n",
       "      <th>22277</th>\n",
       "      <td>53</td>\n",
       "      <td>Private</td>\n",
       "      <td>321865</td>\n",
       "      <td>Masters</td>\n",
       "      <td>14</td>\n",
       "      <td>Married-civ-spouse</td>\n",
       "      <td>Exec-managerial</td>\n",
       "      <td>Husband</td>\n",
       "      <td>White</td>\n",
       "      <td>Male</td>\n",
       "      <td>0</td>\n",
       "      <td>0</td>\n",
       "      <td>40</td>\n",
       "      <td>United-States</td>\n",
       "      <td>&gt;50K</td>\n",
       "    </tr>\n",
       "    <tr>\n",
       "      <th>22278</th>\n",
       "      <td>40</td>\n",
       "      <td>Private</td>\n",
       "      <td>154374</td>\n",
       "      <td>HS-grad</td>\n",
       "      <td>9</td>\n",
       "      <td>Married-civ-spouse</td>\n",
       "      <td>Machine-op-inspct</td>\n",
       "      <td>Husband</td>\n",
       "      <td>White</td>\n",
       "      <td>Male</td>\n",
       "      <td>0</td>\n",
       "      <td>0</td>\n",
       "      <td>40</td>\n",
       "      <td>United-States</td>\n",
       "      <td>&gt;50K</td>\n",
       "    </tr>\n",
       "    <tr>\n",
       "      <th>22279</th>\n",
       "      <td>52</td>\n",
       "      <td>Self-emp-inc</td>\n",
       "      <td>287927</td>\n",
       "      <td>HS-grad</td>\n",
       "      <td>9</td>\n",
       "      <td>Married-civ-spouse</td>\n",
       "      <td>Exec-managerial</td>\n",
       "      <td>Wife</td>\n",
       "      <td>White</td>\n",
       "      <td>Female</td>\n",
       "      <td>15024</td>\n",
       "      <td>0</td>\n",
       "      <td>40</td>\n",
       "      <td>United-States</td>\n",
       "      <td>&gt;50K</td>\n",
       "    </tr>\n",
       "  </tbody>\n",
       "</table>\n",
       "<p>22280 rows × 15 columns</p>\n",
       "</div>"
      ],
      "text/plain": [
       "       Age          workclass  fnlwgt    education  educational-num  \\\n",
       "0       39          State-gov   77516    Bachelors               13   \n",
       "1       50   Self-emp-not-inc   83311    Bachelors               13   \n",
       "2       38            Private  215646      HS-grad                9   \n",
       "3       53            Private  234721         11th                7   \n",
       "4       28            Private  338409    Bachelors               13   \n",
       "...    ...                ...     ...          ...              ...   \n",
       "22275   71                  ?  287372    Doctorate               16   \n",
       "22276   39          Local-gov  111499   Assoc-acdm               12   \n",
       "22277   53            Private  321865      Masters               14   \n",
       "22278   40            Private  154374      HS-grad                9   \n",
       "22279   52       Self-emp-inc  287927      HS-grad                9   \n",
       "\n",
       "            marital-status          occupation    relationship    race  \\\n",
       "0            Never-married        Adm-clerical   Not-in-family   White   \n",
       "1       Married-civ-spouse     Exec-managerial         Husband   White   \n",
       "2                 Divorced   Handlers-cleaners   Not-in-family   White   \n",
       "3       Married-civ-spouse   Handlers-cleaners         Husband   Black   \n",
       "4       Married-civ-spouse      Prof-specialty            Wife   Black   \n",
       "...                    ...                 ...             ...     ...   \n",
       "22275   Married-civ-spouse                   ?         Husband   White   \n",
       "22276   Married-civ-spouse        Adm-clerical            Wife   White   \n",
       "22277   Married-civ-spouse     Exec-managerial         Husband   White   \n",
       "22278   Married-civ-spouse   Machine-op-inspct         Husband   White   \n",
       "22279   Married-civ-spouse     Exec-managerial            Wife   White   \n",
       "\n",
       "        gender  capital-gain  capital-loss  hours-per-week  native-country  \\\n",
       "0         Male          2174             0              40   United-States   \n",
       "1         Male             0             0              13   United-States   \n",
       "2         Male             0             0              40   United-States   \n",
       "3         Male             0             0              40   United-States   \n",
       "4       Female             0             0              40            Cuba   \n",
       "...        ...           ...           ...             ...             ...   \n",
       "22275     Male             0             0              10   United-States   \n",
       "22276   Female             0             0              20   United-States   \n",
       "22277     Male             0             0              40   United-States   \n",
       "22278     Male             0             0              40   United-States   \n",
       "22279   Female         15024             0              40   United-States   \n",
       "\n",
       "       income  \n",
       "0       <=50K  \n",
       "1       <=50K  \n",
       "2       <=50K  \n",
       "3       <=50K  \n",
       "4       <=50K  \n",
       "...       ...  \n",
       "22275    >50K  \n",
       "22276    >50K  \n",
       "22277    >50K  \n",
       "22278    >50K  \n",
       "22279    >50K  \n",
       "\n",
       "[22280 rows x 15 columns]"
      ]
     },
     "execution_count": 3,
     "metadata": {},
     "output_type": "execute_result"
    }
   ],
   "source": [
    "dataset"
   ]
  },
  {
   "cell_type": "code",
   "execution_count": 4,
   "id": "e18b7374",
   "metadata": {},
   "outputs": [
    {
     "data": {
      "text/plain": [
       "Index(['Age', 'workclass', 'fnlwgt', 'education', 'educational-num',\n",
       "       'marital-status', 'occupation', 'relationship', 'race', 'gender',\n",
       "       'capital-gain', 'capital-loss', 'hours-per-week', 'native-country',\n",
       "       'income'],\n",
       "      dtype='object')"
      ]
     },
     "execution_count": 4,
     "metadata": {},
     "output_type": "execute_result"
    }
   ],
   "source": [
    "dataset.columns\n"
   ]
  },
  {
   "cell_type": "code",
   "execution_count": 5,
   "id": "c0087d8c",
   "metadata": {},
   "outputs": [],
   "source": [
    "\n",
    "dataset[\"hours-per-week\"]=dataset[\"hours-per-week\"].astype(\"object\")"
   ]
  },
  {
   "cell_type": "code",
   "execution_count": null,
   "id": "6750a228",
   "metadata": {},
   "outputs": [],
   "source": []
  },
  {
   "cell_type": "markdown",
   "id": "5ce7b709",
   "metadata": {},
   "source": [
    "<h1>PREPROCESSING </h1>"
   ]
  },
  {
   "cell_type": "code",
   "execution_count": null,
   "id": "986ad3a2",
   "metadata": {},
   "outputs": [],
   "source": []
  },
  {
   "cell_type": "code",
   "execution_count": 6,
   "id": "bde25c9a",
   "metadata": {},
   "outputs": [],
   "source": [
    "dataset['hours-per-week'] = dataset['hours-per-week'].apply(lambda x: '<=40' if x <= 40 else '>40')"
   ]
  },
  {
   "cell_type": "code",
   "execution_count": 7,
   "id": "3b1309a5",
   "metadata": {},
   "outputs": [
    {
     "data": {
      "text/html": [
       "<div>\n",
       "<style scoped>\n",
       "    .dataframe tbody tr th:only-of-type {\n",
       "        vertical-align: middle;\n",
       "    }\n",
       "\n",
       "    .dataframe tbody tr th {\n",
       "        vertical-align: top;\n",
       "    }\n",
       "\n",
       "    .dataframe thead th {\n",
       "        text-align: right;\n",
       "    }\n",
       "</style>\n",
       "<table border=\"1\" class=\"dataframe\">\n",
       "  <thead>\n",
       "    <tr style=\"text-align: right;\">\n",
       "      <th></th>\n",
       "      <th>Age</th>\n",
       "      <th>workclass</th>\n",
       "      <th>fnlwgt</th>\n",
       "      <th>education</th>\n",
       "      <th>educational-num</th>\n",
       "      <th>marital-status</th>\n",
       "      <th>occupation</th>\n",
       "      <th>relationship</th>\n",
       "      <th>race</th>\n",
       "      <th>gender</th>\n",
       "      <th>capital-gain</th>\n",
       "      <th>capital-loss</th>\n",
       "      <th>hours-per-week</th>\n",
       "      <th>native-country</th>\n",
       "      <th>income</th>\n",
       "    </tr>\n",
       "  </thead>\n",
       "  <tbody>\n",
       "    <tr>\n",
       "      <th>0</th>\n",
       "      <td>39</td>\n",
       "      <td>State-gov</td>\n",
       "      <td>77516</td>\n",
       "      <td>Bachelors</td>\n",
       "      <td>13</td>\n",
       "      <td>Never-married</td>\n",
       "      <td>Adm-clerical</td>\n",
       "      <td>Not-in-family</td>\n",
       "      <td>White</td>\n",
       "      <td>Male</td>\n",
       "      <td>2174</td>\n",
       "      <td>0</td>\n",
       "      <td>&lt;=40</td>\n",
       "      <td>United-States</td>\n",
       "      <td>&lt;=50K</td>\n",
       "    </tr>\n",
       "    <tr>\n",
       "      <th>1</th>\n",
       "      <td>50</td>\n",
       "      <td>Self-emp-not-inc</td>\n",
       "      <td>83311</td>\n",
       "      <td>Bachelors</td>\n",
       "      <td>13</td>\n",
       "      <td>Married-civ-spouse</td>\n",
       "      <td>Exec-managerial</td>\n",
       "      <td>Husband</td>\n",
       "      <td>White</td>\n",
       "      <td>Male</td>\n",
       "      <td>0</td>\n",
       "      <td>0</td>\n",
       "      <td>&lt;=40</td>\n",
       "      <td>United-States</td>\n",
       "      <td>&lt;=50K</td>\n",
       "    </tr>\n",
       "    <tr>\n",
       "      <th>2</th>\n",
       "      <td>38</td>\n",
       "      <td>Private</td>\n",
       "      <td>215646</td>\n",
       "      <td>HS-grad</td>\n",
       "      <td>9</td>\n",
       "      <td>Divorced</td>\n",
       "      <td>Handlers-cleaners</td>\n",
       "      <td>Not-in-family</td>\n",
       "      <td>White</td>\n",
       "      <td>Male</td>\n",
       "      <td>0</td>\n",
       "      <td>0</td>\n",
       "      <td>&lt;=40</td>\n",
       "      <td>United-States</td>\n",
       "      <td>&lt;=50K</td>\n",
       "    </tr>\n",
       "    <tr>\n",
       "      <th>3</th>\n",
       "      <td>53</td>\n",
       "      <td>Private</td>\n",
       "      <td>234721</td>\n",
       "      <td>11th</td>\n",
       "      <td>7</td>\n",
       "      <td>Married-civ-spouse</td>\n",
       "      <td>Handlers-cleaners</td>\n",
       "      <td>Husband</td>\n",
       "      <td>Black</td>\n",
       "      <td>Male</td>\n",
       "      <td>0</td>\n",
       "      <td>0</td>\n",
       "      <td>&lt;=40</td>\n",
       "      <td>United-States</td>\n",
       "      <td>&lt;=50K</td>\n",
       "    </tr>\n",
       "    <tr>\n",
       "      <th>4</th>\n",
       "      <td>28</td>\n",
       "      <td>Private</td>\n",
       "      <td>338409</td>\n",
       "      <td>Bachelors</td>\n",
       "      <td>13</td>\n",
       "      <td>Married-civ-spouse</td>\n",
       "      <td>Prof-specialty</td>\n",
       "      <td>Wife</td>\n",
       "      <td>Black</td>\n",
       "      <td>Female</td>\n",
       "      <td>0</td>\n",
       "      <td>0</td>\n",
       "      <td>&lt;=40</td>\n",
       "      <td>Cuba</td>\n",
       "      <td>&lt;=50K</td>\n",
       "    </tr>\n",
       "    <tr>\n",
       "      <th>...</th>\n",
       "      <td>...</td>\n",
       "      <td>...</td>\n",
       "      <td>...</td>\n",
       "      <td>...</td>\n",
       "      <td>...</td>\n",
       "      <td>...</td>\n",
       "      <td>...</td>\n",
       "      <td>...</td>\n",
       "      <td>...</td>\n",
       "      <td>...</td>\n",
       "      <td>...</td>\n",
       "      <td>...</td>\n",
       "      <td>...</td>\n",
       "      <td>...</td>\n",
       "      <td>...</td>\n",
       "    </tr>\n",
       "    <tr>\n",
       "      <th>22275</th>\n",
       "      <td>71</td>\n",
       "      <td>?</td>\n",
       "      <td>287372</td>\n",
       "      <td>Doctorate</td>\n",
       "      <td>16</td>\n",
       "      <td>Married-civ-spouse</td>\n",
       "      <td>?</td>\n",
       "      <td>Husband</td>\n",
       "      <td>White</td>\n",
       "      <td>Male</td>\n",
       "      <td>0</td>\n",
       "      <td>0</td>\n",
       "      <td>&lt;=40</td>\n",
       "      <td>United-States</td>\n",
       "      <td>&gt;50K</td>\n",
       "    </tr>\n",
       "    <tr>\n",
       "      <th>22276</th>\n",
       "      <td>39</td>\n",
       "      <td>Local-gov</td>\n",
       "      <td>111499</td>\n",
       "      <td>Assoc-acdm</td>\n",
       "      <td>12</td>\n",
       "      <td>Married-civ-spouse</td>\n",
       "      <td>Adm-clerical</td>\n",
       "      <td>Wife</td>\n",
       "      <td>White</td>\n",
       "      <td>Female</td>\n",
       "      <td>0</td>\n",
       "      <td>0</td>\n",
       "      <td>&lt;=40</td>\n",
       "      <td>United-States</td>\n",
       "      <td>&gt;50K</td>\n",
       "    </tr>\n",
       "    <tr>\n",
       "      <th>22277</th>\n",
       "      <td>53</td>\n",
       "      <td>Private</td>\n",
       "      <td>321865</td>\n",
       "      <td>Masters</td>\n",
       "      <td>14</td>\n",
       "      <td>Married-civ-spouse</td>\n",
       "      <td>Exec-managerial</td>\n",
       "      <td>Husband</td>\n",
       "      <td>White</td>\n",
       "      <td>Male</td>\n",
       "      <td>0</td>\n",
       "      <td>0</td>\n",
       "      <td>&lt;=40</td>\n",
       "      <td>United-States</td>\n",
       "      <td>&gt;50K</td>\n",
       "    </tr>\n",
       "    <tr>\n",
       "      <th>22278</th>\n",
       "      <td>40</td>\n",
       "      <td>Private</td>\n",
       "      <td>154374</td>\n",
       "      <td>HS-grad</td>\n",
       "      <td>9</td>\n",
       "      <td>Married-civ-spouse</td>\n",
       "      <td>Machine-op-inspct</td>\n",
       "      <td>Husband</td>\n",
       "      <td>White</td>\n",
       "      <td>Male</td>\n",
       "      <td>0</td>\n",
       "      <td>0</td>\n",
       "      <td>&lt;=40</td>\n",
       "      <td>United-States</td>\n",
       "      <td>&gt;50K</td>\n",
       "    </tr>\n",
       "    <tr>\n",
       "      <th>22279</th>\n",
       "      <td>52</td>\n",
       "      <td>Self-emp-inc</td>\n",
       "      <td>287927</td>\n",
       "      <td>HS-grad</td>\n",
       "      <td>9</td>\n",
       "      <td>Married-civ-spouse</td>\n",
       "      <td>Exec-managerial</td>\n",
       "      <td>Wife</td>\n",
       "      <td>White</td>\n",
       "      <td>Female</td>\n",
       "      <td>15024</td>\n",
       "      <td>0</td>\n",
       "      <td>&lt;=40</td>\n",
       "      <td>United-States</td>\n",
       "      <td>&gt;50K</td>\n",
       "    </tr>\n",
       "  </tbody>\n",
       "</table>\n",
       "<p>22280 rows × 15 columns</p>\n",
       "</div>"
      ],
      "text/plain": [
       "       Age          workclass  fnlwgt    education  educational-num  \\\n",
       "0       39          State-gov   77516    Bachelors               13   \n",
       "1       50   Self-emp-not-inc   83311    Bachelors               13   \n",
       "2       38            Private  215646      HS-grad                9   \n",
       "3       53            Private  234721         11th                7   \n",
       "4       28            Private  338409    Bachelors               13   \n",
       "...    ...                ...     ...          ...              ...   \n",
       "22275   71                  ?  287372    Doctorate               16   \n",
       "22276   39          Local-gov  111499   Assoc-acdm               12   \n",
       "22277   53            Private  321865      Masters               14   \n",
       "22278   40            Private  154374      HS-grad                9   \n",
       "22279   52       Self-emp-inc  287927      HS-grad                9   \n",
       "\n",
       "            marital-status          occupation    relationship    race  \\\n",
       "0            Never-married        Adm-clerical   Not-in-family   White   \n",
       "1       Married-civ-spouse     Exec-managerial         Husband   White   \n",
       "2                 Divorced   Handlers-cleaners   Not-in-family   White   \n",
       "3       Married-civ-spouse   Handlers-cleaners         Husband   Black   \n",
       "4       Married-civ-spouse      Prof-specialty            Wife   Black   \n",
       "...                    ...                 ...             ...     ...   \n",
       "22275   Married-civ-spouse                   ?         Husband   White   \n",
       "22276   Married-civ-spouse        Adm-clerical            Wife   White   \n",
       "22277   Married-civ-spouse     Exec-managerial         Husband   White   \n",
       "22278   Married-civ-spouse   Machine-op-inspct         Husband   White   \n",
       "22279   Married-civ-spouse     Exec-managerial            Wife   White   \n",
       "\n",
       "        gender  capital-gain  capital-loss hours-per-week  native-country  \\\n",
       "0         Male          2174             0           <=40   United-States   \n",
       "1         Male             0             0           <=40   United-States   \n",
       "2         Male             0             0           <=40   United-States   \n",
       "3         Male             0             0           <=40   United-States   \n",
       "4       Female             0             0           <=40            Cuba   \n",
       "...        ...           ...           ...            ...             ...   \n",
       "22275     Male             0             0           <=40   United-States   \n",
       "22276   Female             0             0           <=40   United-States   \n",
       "22277     Male             0             0           <=40   United-States   \n",
       "22278     Male             0             0           <=40   United-States   \n",
       "22279   Female         15024             0           <=40   United-States   \n",
       "\n",
       "       income  \n",
       "0       <=50K  \n",
       "1       <=50K  \n",
       "2       <=50K  \n",
       "3       <=50K  \n",
       "4       <=50K  \n",
       "...       ...  \n",
       "22275    >50K  \n",
       "22276    >50K  \n",
       "22277    >50K  \n",
       "22278    >50K  \n",
       "22279    >50K  \n",
       "\n",
       "[22280 rows x 15 columns]"
      ]
     },
     "execution_count": 7,
     "metadata": {},
     "output_type": "execute_result"
    }
   ],
   "source": [
    "dataset"
   ]
  },
  {
   "cell_type": "code",
   "execution_count": null,
   "id": "87ee2ca8",
   "metadata": {},
   "outputs": [],
   "source": []
  },
  {
   "cell_type": "code",
   "execution_count": 8,
   "id": "d9f3f3f4",
   "metadata": {},
   "outputs": [],
   "source": [
    "physical=['Farming-fishing',' Handlers-cleaners',' Machine-op-inspct','Armed-Forces',' Craft-repair']"
   ]
  },
  {
   "cell_type": "code",
   "execution_count": 9,
   "id": "6323916d",
   "metadata": {},
   "outputs": [],
   "source": [
    "dataset['occupation'] = dataset['occupation'].apply(lambda x: 'physical' if x in physical else 'others')"
   ]
  },
  {
   "cell_type": "code",
   "execution_count": null,
   "id": "3a612158",
   "metadata": {},
   "outputs": [],
   "source": []
  },
  {
   "cell_type": "code",
   "execution_count": 10,
   "id": "c3fbff2b",
   "metadata": {},
   "outputs": [],
   "source": [
    "dataset[\"Age\"]=dataset[\"Age\"].apply(lambda x:'<=40' if x<=40 else '>40')"
   ]
  },
  {
   "cell_type": "code",
   "execution_count": 11,
   "id": "24438b9c",
   "metadata": {},
   "outputs": [
    {
     "data": {
      "text/html": [
       "<div>\n",
       "<style scoped>\n",
       "    .dataframe tbody tr th:only-of-type {\n",
       "        vertical-align: middle;\n",
       "    }\n",
       "\n",
       "    .dataframe tbody tr th {\n",
       "        vertical-align: top;\n",
       "    }\n",
       "\n",
       "    .dataframe thead th {\n",
       "        text-align: right;\n",
       "    }\n",
       "</style>\n",
       "<table border=\"1\" class=\"dataframe\">\n",
       "  <thead>\n",
       "    <tr style=\"text-align: right;\">\n",
       "      <th></th>\n",
       "      <th>Age</th>\n",
       "      <th>workclass</th>\n",
       "      <th>fnlwgt</th>\n",
       "      <th>education</th>\n",
       "      <th>educational-num</th>\n",
       "      <th>marital-status</th>\n",
       "      <th>occupation</th>\n",
       "      <th>relationship</th>\n",
       "      <th>race</th>\n",
       "      <th>gender</th>\n",
       "      <th>capital-gain</th>\n",
       "      <th>capital-loss</th>\n",
       "      <th>hours-per-week</th>\n",
       "      <th>native-country</th>\n",
       "      <th>income</th>\n",
       "    </tr>\n",
       "  </thead>\n",
       "  <tbody>\n",
       "    <tr>\n",
       "      <th>0</th>\n",
       "      <td>&lt;=40</td>\n",
       "      <td>State-gov</td>\n",
       "      <td>77516</td>\n",
       "      <td>Bachelors</td>\n",
       "      <td>13</td>\n",
       "      <td>Never-married</td>\n",
       "      <td>others</td>\n",
       "      <td>Not-in-family</td>\n",
       "      <td>White</td>\n",
       "      <td>Male</td>\n",
       "      <td>2174</td>\n",
       "      <td>0</td>\n",
       "      <td>&lt;=40</td>\n",
       "      <td>United-States</td>\n",
       "      <td>&lt;=50K</td>\n",
       "    </tr>\n",
       "    <tr>\n",
       "      <th>1</th>\n",
       "      <td>&gt;40</td>\n",
       "      <td>Self-emp-not-inc</td>\n",
       "      <td>83311</td>\n",
       "      <td>Bachelors</td>\n",
       "      <td>13</td>\n",
       "      <td>Married-civ-spouse</td>\n",
       "      <td>others</td>\n",
       "      <td>Husband</td>\n",
       "      <td>White</td>\n",
       "      <td>Male</td>\n",
       "      <td>0</td>\n",
       "      <td>0</td>\n",
       "      <td>&lt;=40</td>\n",
       "      <td>United-States</td>\n",
       "      <td>&lt;=50K</td>\n",
       "    </tr>\n",
       "    <tr>\n",
       "      <th>2</th>\n",
       "      <td>&lt;=40</td>\n",
       "      <td>Private</td>\n",
       "      <td>215646</td>\n",
       "      <td>HS-grad</td>\n",
       "      <td>9</td>\n",
       "      <td>Divorced</td>\n",
       "      <td>physical</td>\n",
       "      <td>Not-in-family</td>\n",
       "      <td>White</td>\n",
       "      <td>Male</td>\n",
       "      <td>0</td>\n",
       "      <td>0</td>\n",
       "      <td>&lt;=40</td>\n",
       "      <td>United-States</td>\n",
       "      <td>&lt;=50K</td>\n",
       "    </tr>\n",
       "    <tr>\n",
       "      <th>3</th>\n",
       "      <td>&gt;40</td>\n",
       "      <td>Private</td>\n",
       "      <td>234721</td>\n",
       "      <td>11th</td>\n",
       "      <td>7</td>\n",
       "      <td>Married-civ-spouse</td>\n",
       "      <td>physical</td>\n",
       "      <td>Husband</td>\n",
       "      <td>Black</td>\n",
       "      <td>Male</td>\n",
       "      <td>0</td>\n",
       "      <td>0</td>\n",
       "      <td>&lt;=40</td>\n",
       "      <td>United-States</td>\n",
       "      <td>&lt;=50K</td>\n",
       "    </tr>\n",
       "    <tr>\n",
       "      <th>4</th>\n",
       "      <td>&lt;=40</td>\n",
       "      <td>Private</td>\n",
       "      <td>338409</td>\n",
       "      <td>Bachelors</td>\n",
       "      <td>13</td>\n",
       "      <td>Married-civ-spouse</td>\n",
       "      <td>others</td>\n",
       "      <td>Wife</td>\n",
       "      <td>Black</td>\n",
       "      <td>Female</td>\n",
       "      <td>0</td>\n",
       "      <td>0</td>\n",
       "      <td>&lt;=40</td>\n",
       "      <td>Cuba</td>\n",
       "      <td>&lt;=50K</td>\n",
       "    </tr>\n",
       "    <tr>\n",
       "      <th>...</th>\n",
       "      <td>...</td>\n",
       "      <td>...</td>\n",
       "      <td>...</td>\n",
       "      <td>...</td>\n",
       "      <td>...</td>\n",
       "      <td>...</td>\n",
       "      <td>...</td>\n",
       "      <td>...</td>\n",
       "      <td>...</td>\n",
       "      <td>...</td>\n",
       "      <td>...</td>\n",
       "      <td>...</td>\n",
       "      <td>...</td>\n",
       "      <td>...</td>\n",
       "      <td>...</td>\n",
       "    </tr>\n",
       "    <tr>\n",
       "      <th>22275</th>\n",
       "      <td>&gt;40</td>\n",
       "      <td>?</td>\n",
       "      <td>287372</td>\n",
       "      <td>Doctorate</td>\n",
       "      <td>16</td>\n",
       "      <td>Married-civ-spouse</td>\n",
       "      <td>others</td>\n",
       "      <td>Husband</td>\n",
       "      <td>White</td>\n",
       "      <td>Male</td>\n",
       "      <td>0</td>\n",
       "      <td>0</td>\n",
       "      <td>&lt;=40</td>\n",
       "      <td>United-States</td>\n",
       "      <td>&gt;50K</td>\n",
       "    </tr>\n",
       "    <tr>\n",
       "      <th>22276</th>\n",
       "      <td>&lt;=40</td>\n",
       "      <td>Local-gov</td>\n",
       "      <td>111499</td>\n",
       "      <td>Assoc-acdm</td>\n",
       "      <td>12</td>\n",
       "      <td>Married-civ-spouse</td>\n",
       "      <td>others</td>\n",
       "      <td>Wife</td>\n",
       "      <td>White</td>\n",
       "      <td>Female</td>\n",
       "      <td>0</td>\n",
       "      <td>0</td>\n",
       "      <td>&lt;=40</td>\n",
       "      <td>United-States</td>\n",
       "      <td>&gt;50K</td>\n",
       "    </tr>\n",
       "    <tr>\n",
       "      <th>22277</th>\n",
       "      <td>&gt;40</td>\n",
       "      <td>Private</td>\n",
       "      <td>321865</td>\n",
       "      <td>Masters</td>\n",
       "      <td>14</td>\n",
       "      <td>Married-civ-spouse</td>\n",
       "      <td>others</td>\n",
       "      <td>Husband</td>\n",
       "      <td>White</td>\n",
       "      <td>Male</td>\n",
       "      <td>0</td>\n",
       "      <td>0</td>\n",
       "      <td>&lt;=40</td>\n",
       "      <td>United-States</td>\n",
       "      <td>&gt;50K</td>\n",
       "    </tr>\n",
       "    <tr>\n",
       "      <th>22278</th>\n",
       "      <td>&lt;=40</td>\n",
       "      <td>Private</td>\n",
       "      <td>154374</td>\n",
       "      <td>HS-grad</td>\n",
       "      <td>9</td>\n",
       "      <td>Married-civ-spouse</td>\n",
       "      <td>physical</td>\n",
       "      <td>Husband</td>\n",
       "      <td>White</td>\n",
       "      <td>Male</td>\n",
       "      <td>0</td>\n",
       "      <td>0</td>\n",
       "      <td>&lt;=40</td>\n",
       "      <td>United-States</td>\n",
       "      <td>&gt;50K</td>\n",
       "    </tr>\n",
       "    <tr>\n",
       "      <th>22279</th>\n",
       "      <td>&gt;40</td>\n",
       "      <td>Self-emp-inc</td>\n",
       "      <td>287927</td>\n",
       "      <td>HS-grad</td>\n",
       "      <td>9</td>\n",
       "      <td>Married-civ-spouse</td>\n",
       "      <td>others</td>\n",
       "      <td>Wife</td>\n",
       "      <td>White</td>\n",
       "      <td>Female</td>\n",
       "      <td>15024</td>\n",
       "      <td>0</td>\n",
       "      <td>&lt;=40</td>\n",
       "      <td>United-States</td>\n",
       "      <td>&gt;50K</td>\n",
       "    </tr>\n",
       "  </tbody>\n",
       "</table>\n",
       "<p>22280 rows × 15 columns</p>\n",
       "</div>"
      ],
      "text/plain": [
       "        Age          workclass  fnlwgt    education  educational-num  \\\n",
       "0      <=40          State-gov   77516    Bachelors               13   \n",
       "1       >40   Self-emp-not-inc   83311    Bachelors               13   \n",
       "2      <=40            Private  215646      HS-grad                9   \n",
       "3       >40            Private  234721         11th                7   \n",
       "4      <=40            Private  338409    Bachelors               13   \n",
       "...     ...                ...     ...          ...              ...   \n",
       "22275   >40                  ?  287372    Doctorate               16   \n",
       "22276  <=40          Local-gov  111499   Assoc-acdm               12   \n",
       "22277   >40            Private  321865      Masters               14   \n",
       "22278  <=40            Private  154374      HS-grad                9   \n",
       "22279   >40       Self-emp-inc  287927      HS-grad                9   \n",
       "\n",
       "            marital-status occupation    relationship    race   gender  \\\n",
       "0            Never-married     others   Not-in-family   White     Male   \n",
       "1       Married-civ-spouse     others         Husband   White     Male   \n",
       "2                 Divorced   physical   Not-in-family   White     Male   \n",
       "3       Married-civ-spouse   physical         Husband   Black     Male   \n",
       "4       Married-civ-spouse     others            Wife   Black   Female   \n",
       "...                    ...        ...             ...     ...      ...   \n",
       "22275   Married-civ-spouse     others         Husband   White     Male   \n",
       "22276   Married-civ-spouse     others            Wife   White   Female   \n",
       "22277   Married-civ-spouse     others         Husband   White     Male   \n",
       "22278   Married-civ-spouse   physical         Husband   White     Male   \n",
       "22279   Married-civ-spouse     others            Wife   White   Female   \n",
       "\n",
       "       capital-gain  capital-loss hours-per-week  native-country  income  \n",
       "0              2174             0           <=40   United-States   <=50K  \n",
       "1                 0             0           <=40   United-States   <=50K  \n",
       "2                 0             0           <=40   United-States   <=50K  \n",
       "3                 0             0           <=40   United-States   <=50K  \n",
       "4                 0             0           <=40            Cuba   <=50K  \n",
       "...             ...           ...            ...             ...     ...  \n",
       "22275             0             0           <=40   United-States    >50K  \n",
       "22276             0             0           <=40   United-States    >50K  \n",
       "22277             0             0           <=40   United-States    >50K  \n",
       "22278             0             0           <=40   United-States    >50K  \n",
       "22279         15024             0           <=40   United-States    >50K  \n",
       "\n",
       "[22280 rows x 15 columns]"
      ]
     },
     "execution_count": 11,
     "metadata": {},
     "output_type": "execute_result"
    }
   ],
   "source": [
    "dataset"
   ]
  },
  {
   "cell_type": "code",
   "execution_count": null,
   "id": "94af11eb",
   "metadata": {},
   "outputs": [],
   "source": []
  },
  {
   "cell_type": "markdown",
   "id": "9b736708",
   "metadata": {},
   "source": [
    "## Finding the Probablities of the each features"
   ]
  },
  {
   "cell_type": "code",
   "execution_count": 12,
   "id": "a7c78b17",
   "metadata": {},
   "outputs": [],
   "source": [
    "def probs(data, child, parent1=None, parent2=None):\n",
    "    if parent1==None:\n",
    "        # Calculate probabilities\n",
    "        prob=pd.crosstab(data[child], 'Empty', margins=False, normalize='columns').sort_index().to_numpy().reshape(-1).tolist()\n",
    "    elif parent1!=None:\n",
    "            # Check if child node has 1 parent or 2 parents\n",
    "            if parent2==None:\n",
    "                # Caclucate probabilities\n",
    "                prob=pd.crosstab(data[parent1],data[child], margins=False, normalize='index').sort_index().to_numpy().reshape(-1).tolist()\n",
    "            else:    \n",
    "                # Caclucate probabilities\n",
    "                prob=pd.crosstab([data[child],data[parent2]], data[parent1],margins=False, normalize='index').sort_index().to_numpy().reshape(-1).tolist()\n",
    "    else: print(\"Error in Probability Frequency Calculations\")\n",
    "    return prob  "
   ]
  },
  {
   "cell_type": "code",
   "execution_count": 13,
   "id": "4be4c08e",
   "metadata": {},
   "outputs": [],
   "source": [
    "Age=BbnNode(Variable(0,'Age',['<=40','>40']),probs(dataset,child='Age'))\n",
    "gender=BbnNode(Variable(1,'gender',['Male','Female']),probs(dataset,child='gender',parent1='Age'))\n",
    "occ=BbnNode(Variable(2,'occ',['physical','others']),probs(dataset,child='occupation'))\n",
    "hours=BbnNode(Variable(3,'hours',['<=40','>40']),probs(dataset,child='hours-per-week',parent1='occupation'))\n",
    "incom=BbnNode(Variable(4,'incom',['<=50','>50']),probs(dataset,child='gender',parent1='gender',parent2='hours-per-week'))\n",
    "\n",
    "\n",
    "bbn = Bbn() \\\n",
    "    .add_node(Age) \\\n",
    "    .add_node(gender) \\\n",
    "    .add_node(occ) \\\n",
    "    .add_node(hours) \\\n",
    "    .add_node(incom) \\\n",
    "    .add_edge(Edge(Age, gender, EdgeType.DIRECTED)) \\\n",
    "    .add_edge(Edge(occ, hours, EdgeType.DIRECTED)) \\\n",
    "    .add_edge(Edge(gender, incom, EdgeType.DIRECTED)) \\\n",
    "    .add_edge(Edge(hours, incom, EdgeType.DIRECTED))\n",
    "\n",
    "# Convert the BBN to a join tree\n",
    "join_tree = InferenceController.apply(bbn)"
   ]
  },
  {
   "cell_type": "code",
   "execution_count": null,
   "id": "c3772974",
   "metadata": {},
   "outputs": [],
   "source": []
  },
  {
   "cell_type": "code",
   "execution_count": null,
   "id": "b05d3066",
   "metadata": {},
   "outputs": [],
   "source": []
  },
  {
   "cell_type": "markdown",
   "id": "db37d711",
   "metadata": {},
   "source": [
    "# GRAPH"
   ]
  },
  {
   "cell_type": "code",
   "execution_count": 14,
   "id": "1d6b6014",
   "metadata": {},
   "outputs": [
    {
     "data": {
      "image/png": "[encoded data removed]",
      "text/plain": [
       "<Figure size 432x288 with 1 Axes>"
      ]
     },
     "metadata": {},
     "output_type": "display_data"
    }
   ],
   "source": [
    "# Set node positions\n",
    "pos = {0:(-1,2),1: (-1, 0.5), 2: (1, 2), 3: (1, 0.5), 4: (0, -1)}\n",
    "\n",
    "# Set options for graph looks\n",
    "options = {\n",
    "    \"font_size\": 16,\n",
    "    \"node_size\": 4000,\n",
    "    \"node_color\": \"white\",\n",
    "    \"edgecolors\": \"black\",\n",
    "    \"edge_color\": \"red\",\n",
    "    \"linewidths\": 5,\n",
    "    \"width\": 5,}\n",
    "    \n",
    "# Generate graph\n",
    "n, d = bbn.to_nx_graph()\n",
    "nx.draw(n, with_labels=True, labels=d, pos=pos, **options)\n",
    "\n",
    "# Update margins and print the graph\n",
    "ax = plt.gca()\n",
    "ax.margins(0.10)\n",
    "plt.axis(\"off\")\n",
    "plt.show()"
   ]
  },
  {
   "cell_type": "code",
   "execution_count": 15,
   "id": "4f7b4561",
   "metadata": {
    "scrolled": false
   },
   "outputs": [
    {
     "name": "stdout",
     "output_type": "stream",
     "text": [
      "Node:  1|gender|Male,Female\n",
      "Values:\n",
      "1=Male|0.30489\n",
      "1=Female|0.69511\n",
      "----------------\n",
      "Node:  0|Age|<=40,>40\n",
      "Values:\n",
      "0=<=40|0.55794\n",
      "0=>40|0.44206\n",
      "----------------\n",
      "Node:  3|hours|<=40,>40\n",
      "Values:\n",
      "3=<=40|0.67774\n",
      "3=>40|0.32226\n",
      "----------------\n",
      "Node:  2|occ|physical,others\n",
      "Values:\n",
      "2=physical|0.77724\n",
      "2=others|0.22276\n",
      "----------------\n",
      "Node:  4|incom|<=50,>50\n",
      "Values:\n",
      "4=<=50|0.30489\n",
      "4=>50|0.69511\n",
      "----------------\n"
     ]
    }
   ],
   "source": [
    "def print_probs():\n",
    "    for node in join_tree.get_bbn_nodes():\n",
    "        potential = join_tree.get_bbn_potential(node)\n",
    "        print(\"Node: \", node)\n",
    "        print(\"Values:\")\n",
    "        print(potential)\n",
    "        print('----------------')\n",
    "        \n",
    "# Use the above function to print marginal probabilities\n",
    "print_probs()"
   ]
  },
  {
   "cell_type": "code",
   "execution_count": 16,
   "id": "bd5afe1e",
   "metadata": {},
   "outputs": [],
   "source": [
    "def evidence(ev, nod, cat, val):\n",
    "    ev = EvidenceBuilder().with_node(join_tree.get_bbn_node_by_name(nod)).with_evidence(cat, val).build()\n",
    "    join_tree.set_observation(ev)"
   ]
  },
  {
   "cell_type": "code",
   "execution_count": null,
   "id": "3f428cc8",
   "metadata": {},
   "outputs": [],
   "source": []
  },
  {
   "cell_type": "code",
   "execution_count": 17,
   "id": "f034fc39",
   "metadata": {},
   "outputs": [],
   "source": [
    "#p(occ|phy) and p(occ|oth)\n",
    "p_age_yes=join_tree.get_bbn_potential(Age).entries[0].value;\n",
    "p_age_no=join_tree.get_bbn_potential(Age).entries[1].value;"
   ]
  },
  {
   "cell_type": "code",
   "execution_count": 18,
   "id": "9894fdf7",
   "metadata": {},
   "outputs": [
    {
     "data": {
      "text/plain": [
       "<pybbn.graph.jointree.JoinTree at 0x2211f069730>"
      ]
     },
     "execution_count": 18,
     "metadata": {},
     "output_type": "execute_result"
    }
   ],
   "source": [
    "#p(gender|Age).p(Age)\n",
    "evidence('ev1', 'Age', '<=40', 1.0)\n",
    "p_gen_age_yes = join_tree.get_bbn_potential(hours).entries[1].value\n",
    "join_tree.unobserve([occ])\n",
    "#p(gender|~occ).p(Age)\n",
    "evidence('ev1', 'Age', '>40', 1.0)\n",
    "p_gen_age_no = join_tree.get_bbn_potential(hours).entries[1].value\n",
    "join_tree.unobserve([occ])\n"
   ]
  },
  {
   "cell_type": "code",
   "execution_count": null,
   "id": "77fd3409",
   "metadata": {},
   "outputs": [],
   "source": []
  },
  {
   "cell_type": "code",
   "execution_count": 19,
   "id": "e4108bd4",
   "metadata": {},
   "outputs": [
    {
     "name": "stdout",
     "output_type": "stream",
     "text": [
      "0.3222621184919211\n"
     ]
    }
   ],
   "source": [
    "p_gender_male=p_gen_age_yes*p_age_yes + p_gen_age_no*p_age_no\n",
    "print(p_gender_male)"
   ]
  },
  {
   "cell_type": "code",
   "execution_count": 20,
   "id": "382423d4",
   "metadata": {},
   "outputs": [],
   "source": [
    "p_gender_female=1-p_gender_male"
   ]
  },
  {
   "cell_type": "code",
   "execution_count": 21,
   "id": "25a88414",
   "metadata": {},
   "outputs": [
    {
     "name": "stdout",
     "output_type": "stream",
     "text": [
      "0.6777378815080789\n"
     ]
    }
   ],
   "source": [
    "print(p_gender_female)"
   ]
  },
  {
   "cell_type": "code",
   "execution_count": 22,
   "id": "a827f848",
   "metadata": {},
   "outputs": [],
   "source": [
    "# #p(gender|male) and p(gender|female)\n",
    "\n",
    "# p_gender_male=join_tree.get_bbn_potential(gender).entries[0].value;\n",
    "# p_gender_female=join_tree.get_bbn_potential(gender).entries[1].value;"
   ]
  },
  {
   "cell_type": "code",
   "execution_count": null,
   "id": "3b95c092",
   "metadata": {},
   "outputs": [],
   "source": []
  },
  {
   "cell_type": "code",
   "execution_count": 23,
   "id": "cd5f9d4e",
   "metadata": {},
   "outputs": [
    {
     "name": "stdout",
     "output_type": "stream",
     "text": [
      "0.32226211849192105\n"
     ]
    }
   ],
   "source": [
    "print(p_gen_age_yes)"
   ]
  },
  {
   "cell_type": "code",
   "execution_count": 24,
   "id": "f621a0e0",
   "metadata": {},
   "outputs": [
    {
     "name": "stdout",
     "output_type": "stream",
     "text": [
      "0.3222621184919211\n"
     ]
    }
   ],
   "source": [
    "print(p_gen_age_no)"
   ]
  },
  {
   "cell_type": "code",
   "execution_count": 25,
   "id": "1b8af5be",
   "metadata": {},
   "outputs": [
    {
     "name": "stdout",
     "output_type": "stream",
     "text": [
      "1=Male|0.26155\n",
      "1=Female|0.73845\n"
     ]
    }
   ],
   "source": [
    "print(join_tree.get_bbn_potential(gender))"
   ]
  },
  {
   "cell_type": "code",
   "execution_count": 26,
   "id": "0dcfe396",
   "metadata": {},
   "outputs": [
    {
     "data": {
      "text/plain": [
       "<pybbn.graph.jointree.JoinTree at 0x2211f069730>"
      ]
     },
     "execution_count": 26,
     "metadata": {},
     "output_type": "execute_result"
    }
   ],
   "source": [
    "#p(income|hours,male)\n",
    "evidence('ev1', 'hours', '<=40', 1.0)\n",
    "evidence('ev2', 'gender', 'Male', 1.0)\n",
    "p_hours_yes_gender_male = join_tree.get_bbn_potential(incom).entries[1].value\n",
    "join_tree.unobserve([hours, gender])\n",
    "\n",
    "#p(income|hours,female)\n",
    "evidence('ev1', 'hours', '<=40', 1.0)\n",
    "evidence('ev2', 'gender', 'Female', 1.0)\n",
    "p_hours_yes_gender_female = join_tree.get_bbn_potential(incom).entries[1].value\n",
    "join_tree.unobserve([hours, gender])\n",
    "\n",
    "#p(income|~hours,male)\n",
    "evidence('ev1', 'hours', '>40', 1.0)\n",
    "evidence('ev2', 'gender', 'Male', 1.0)\n",
    "p_hours_no_gender_male = join_tree.get_bbn_potential(incom).entries[1].value\n",
    "join_tree.unobserve([hours, gender])\n",
    "\n",
    "#p(income|~hours,female)\n",
    "evidence('ev1', 'hours', '>40', 1.0)\n",
    "evidence('ev2', 'gender', 'Female', 1.0)\n",
    "p_hours_no_gender_female = join_tree.get_bbn_potential(incom).entries[1].value\n",
    "join_tree.unobserve([hours, gender])"
   ]
  },
  {
   "cell_type": "code",
   "execution_count": 27,
   "id": "a1cf1134",
   "metadata": {},
   "outputs": [],
   "source": [
    "#p(occ|phy) and p(occ|oth)\n",
    "p_occ_phy=join_tree.get_bbn_potential(occ).entries[0].value;\n",
    "p_occ_oth=join_tree.get_bbn_potential(occ).entries[1].value;"
   ]
  },
  {
   "cell_type": "code",
   "execution_count": 28,
   "id": "d6e1780a",
   "metadata": {},
   "outputs": [
    {
     "name": "stdout",
     "output_type": "stream",
     "text": [
      "2=physical|0.77724\n",
      "2=others|0.22276\n"
     ]
    }
   ],
   "source": [
    "print(join_tree.get_bbn_potential(occ))"
   ]
  },
  {
   "cell_type": "code",
   "execution_count": null,
   "id": "68d73673",
   "metadata": {},
   "outputs": [],
   "source": []
  },
  {
   "cell_type": "code",
   "execution_count": 29,
   "id": "93a96a1d",
   "metadata": {},
   "outputs": [
    {
     "data": {
      "text/plain": [
       "<pybbn.graph.jointree.JoinTree at 0x2211f069730>"
      ]
     },
     "execution_count": 29,
     "metadata": {},
     "output_type": "execute_result"
    }
   ],
   "source": [
    "#p(hours|occ).p(occ)\n",
    "evidence('ev1', 'occ', 'physical', 1.0)\n",
    "p_hr_occ_phy = join_tree.get_bbn_potential(hours).entries[1].value\n",
    "join_tree.unobserve([occ])\n",
    "\n",
    "\n",
    "\n",
    "#p(hours|~occ).p(~occ)\n",
    "evidence('ev1', 'occ', 'others', 1.0)\n",
    "p_hr_occ_other = join_tree.get_bbn_potential(hours).entries[1].value\n",
    "join_tree.unobserve([occ])"
   ]
  },
  {
   "cell_type": "code",
   "execution_count": null,
   "id": "73f11e41",
   "metadata": {},
   "outputs": [],
   "source": []
  },
  {
   "cell_type": "code",
   "execution_count": 30,
   "id": "942a297a",
   "metadata": {},
   "outputs": [
    {
     "data": {
      "text/plain": [
       "0.322262118491921"
      ]
     },
     "execution_count": 30,
     "metadata": {},
     "output_type": "execute_result"
    }
   ],
   "source": [
    "p_hrs_yes=p_hr_occ_phy*p_occ_phy + p_hr_occ_other*p_occ_oth\n",
    "p_hrs_yes"
   ]
  },
  {
   "cell_type": "code",
   "execution_count": 31,
   "id": "a3971551",
   "metadata": {},
   "outputs": [
    {
     "data": {
      "text/plain": [
       "0.677737881508079"
      ]
     },
     "execution_count": 31,
     "metadata": {},
     "output_type": "execute_result"
    }
   ],
   "source": [
    "p_hrs_no=1-p_hrs_yes\n",
    "p_hrs_no"
   ]
  },
  {
   "cell_type": "code",
   "execution_count": null,
   "id": "326aa7d8",
   "metadata": {},
   "outputs": [],
   "source": []
  },
  {
   "cell_type": "markdown",
   "id": "73f4e77e",
   "metadata": {},
   "source": [
    "# APPLYING ALL THE TERMS IN THE FORMULA"
   ]
  },
  {
   "cell_type": "markdown",
   "id": "f8a71f5c",
   "metadata": {},
   "source": [
    "<h3> p_income_yes = (p_hours_yes_gender_male*p_hrs_yes*p_gender_male)+(p_hours_yes_gender_female*p_hrs_yes*p_gender_female)+(p_hours_yes_gender_male*p_hrs_no*p_gender_male)+(p_hours_yes_gender_female*p_hrs_no*p_gender_female)</h3>"
   ]
  },
  {
   "cell_type": "code",
   "execution_count": null,
   "id": "f77b97f8",
   "metadata": {},
   "outputs": [],
   "source": []
  },
  {
   "cell_type": "code",
   "execution_count": 32,
   "id": "2fba451e",
   "metadata": {},
   "outputs": [],
   "source": [
    "p_income_yes=(p_hours_yes_gender_male*p_hrs_yes*p_gender_male)+(p_hours_yes_gender_female*p_hrs_yes*p_gender_female)+(p_hours_yes_gender_male*p_hrs_no*p_gender_male)+(p_hours_yes_gender_female*p_hrs_no*p_gender_female)"
   ]
  },
  {
   "cell_type": "code",
   "execution_count": 33,
   "id": "635e2ebc",
   "metadata": {},
   "outputs": [
    {
     "data": {
      "text/plain": [
       "0.6777378815080789"
      ]
     },
     "execution_count": 33,
     "metadata": {},
     "output_type": "execute_result"
    }
   ],
   "source": [
    "p_income_yes"
   ]
  },
  {
   "cell_type": "code",
   "execution_count": 34,
   "id": "0acd17d0",
   "metadata": {},
   "outputs": [],
   "source": [
    "p_income_no=1-p_income_yes"
   ]
  },
  {
   "cell_type": "code",
   "execution_count": 35,
   "id": "ca9611e6",
   "metadata": {},
   "outputs": [
    {
     "data": {
      "text/plain": [
       "0.3222621184919211"
      ]
     },
     "execution_count": 35,
     "metadata": {},
     "output_type": "execute_result"
    }
   ],
   "source": [
    "p_income_no"
   ]
  },
  {
   "cell_type": "markdown",
   "id": "02a0f40c",
   "metadata": {},
   "source": [
    "# PROBABILITY OF INCOME <=50 IS"
   ]
  },
  {
   "cell_type": "code",
   "execution_count": 36,
   "id": "71cbfe4f",
   "metadata": {},
   "outputs": [
    {
     "data": {
      "text/plain": [
       "0.6777378815080789"
      ]
     },
     "execution_count": 36,
     "metadata": {},
     "output_type": "execute_result"
    }
   ],
   "source": [
    "p_income_yes"
   ]
  },
  {
   "cell_type": "code",
   "execution_count": null,
   "id": "07eacf56",
   "metadata": {},
   "outputs": [],
   "source": []
  },
  {
   "cell_type": "code",
   "execution_count": null,
   "id": "d951db83",
   "metadata": {},
   "outputs": [],
   "source": []
  },
  {
   "cell_type": "markdown",
   "id": "9349e8f4",
   "metadata": {},
   "source": [
    "<h1>Result</h1>\n",
    "Thus, Bayesian Belief Network has been performed on the adult income dataset. "
   ]
  },
  {
   "cell_type": "code",
   "execution_count": null,
   "id": "dd9b6883",
   "metadata": {},
   "outputs": [],
   "source": []
  }
 ],
 "metadata": {
  "kernelspec": {
   "display_name": "Python 3 (ipykernel)",
   "language": "python",
   "name": "python3"
  },
  "language_info": {
   "codemirror_mode": {
    "name": "ipython",
    "version": 3
   },
   "file_extension": ".py",
   "mimetype": "text/x-python",
   "name": "python",
   "nbconvert_exporter": "python",
   "pygments_lexer": "ipython3",
   "version": "3.9.6"
  }
 },
 "nbformat": 4,
 "nbformat_minor": 5
}
