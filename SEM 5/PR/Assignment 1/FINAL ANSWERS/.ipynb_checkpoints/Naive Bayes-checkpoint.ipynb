{
 "cells": [
  {
   "cell_type": "markdown",
   "id": "8d43368e",
   "metadata": {},
   "source": []
  },
  {
   "cell_type": "markdown",
   "id": "029a48fa",
   "metadata": {},
   "source": [
    "<center><h1>NAIVE BAYES CLASSIFIER</h1></center>"
   ]
  },
  {
   "cell_type": "code",
   "execution_count": null,
   "id": "338afc01",
   "metadata": {},
   "outputs": [],
   "source": []
  },
  {
   "cell_type": "code",
   "execution_count": null,
   "id": "1219ff74",
   "metadata": {},
   "outputs": [],
   "source": []
  },
  {
   "cell_type": "markdown",
   "id": "76415310",
   "metadata": {},
   "source": [
    "<h3>Name : Rahul Prasanth D</h3>\n",
    "<h3>Roll Number : 2020506070</h3>"
   ]
  },
  {
   "cell_type": "code",
   "execution_count": null,
   "id": "f5f5d1fa",
   "metadata": {},
   "outputs": [],
   "source": []
  },
  {
   "cell_type": "markdown",
   "id": "eefa9de9",
   "metadata": {},
   "source": [
    "**<h1>Aim: </h1>**\n",
    "The aim of this notebook is to perform Naive Bayes classifier on the given adult income Dataset"
   ]
  },
  {
   "cell_type": "code",
   "execution_count": null,
   "id": "386b8abf",
   "metadata": {},
   "outputs": [],
   "source": []
  },
  {
   "cell_type": "markdown",
   "id": "5f1fed17",
   "metadata": {},
   "source": [
    "<h2>Dataset Information</h2>"
   ]
  },
  {
   "cell_type": "markdown",
   "id": "2fd496ef",
   "metadata": {},
   "source": [
    "<u>DataSet name</u> : <b>Adult dataset</b><div></div>\n",
    "<u>Description</u> : This dataset contains the information about the income i.e <=50K or >50K. With the help of some attributes we can determine the target"
   ]
  },
  {
   "cell_type": "code",
   "execution_count": null,
   "id": "2962798f",
   "metadata": {},
   "outputs": [],
   "source": []
  },
  {
   "cell_type": "markdown",
   "id": "c5d88b0b",
   "metadata": {},
   "source": [
    "<h3>Importing Libraries </h3>"
   ]
  },
  {
   "cell_type": "code",
   "execution_count": 1,
   "id": "901d2b93",
   "metadata": {},
   "outputs": [],
   "source": [
    "import numpy as np\n",
    "import pandas as pd\n",
    "import matplotlib.pyplot as plt\n",
    "import seaborn as sns"
   ]
  },
  {
   "cell_type": "code",
   "execution_count": 2,
   "id": "1514e8a3",
   "metadata": {},
   "outputs": [],
   "source": [
    "df=pd.read_csv(\"dataset/adult_new.csv\")"
   ]
  },
  {
   "cell_type": "code",
   "execution_count": 3,
   "id": "1a2b1a11",
   "metadata": {},
   "outputs": [
    {
     "data": {
      "text/html": [
       "<div>\n",
       "<style scoped>\n",
       "    .dataframe tbody tr th:only-of-type {\n",
       "        vertical-align: middle;\n",
       "    }\n",
       "\n",
       "    .dataframe tbody tr th {\n",
       "        vertical-align: top;\n",
       "    }\n",
       "\n",
       "    .dataframe thead th {\n",
       "        text-align: right;\n",
       "    }\n",
       "</style>\n",
       "<table border=\"1\" class=\"dataframe\">\n",
       "  <thead>\n",
       "    <tr style=\"text-align: right;\">\n",
       "      <th></th>\n",
       "      <th>Age</th>\n",
       "      <th>workclass</th>\n",
       "      <th>fnlwgt</th>\n",
       "      <th>education</th>\n",
       "      <th>educational-num</th>\n",
       "      <th>marital-status</th>\n",
       "      <th>occupation</th>\n",
       "      <th>relationship</th>\n",
       "      <th>race</th>\n",
       "      <th>gender</th>\n",
       "      <th>capital-gain</th>\n",
       "      <th>capital-loss</th>\n",
       "      <th>hours-per-week</th>\n",
       "      <th>native-country</th>\n",
       "      <th>income</th>\n",
       "    </tr>\n",
       "  </thead>\n",
       "  <tbody>\n",
       "    <tr>\n",
       "      <th>0</th>\n",
       "      <td>39</td>\n",
       "      <td>State-gov</td>\n",
       "      <td>77516</td>\n",
       "      <td>Bachelors</td>\n",
       "      <td>13</td>\n",
       "      <td>Never-married</td>\n",
       "      <td>Adm-clerical</td>\n",
       "      <td>Not-in-family</td>\n",
       "      <td>White</td>\n",
       "      <td>Male</td>\n",
       "      <td>2174</td>\n",
       "      <td>0</td>\n",
       "      <td>40</td>\n",
       "      <td>United-States</td>\n",
       "      <td>&lt;=50K</td>\n",
       "    </tr>\n",
       "    <tr>\n",
       "      <th>1</th>\n",
       "      <td>50</td>\n",
       "      <td>Self-emp-not-inc</td>\n",
       "      <td>83311</td>\n",
       "      <td>Bachelors</td>\n",
       "      <td>13</td>\n",
       "      <td>Married-civ-spouse</td>\n",
       "      <td>Exec-managerial</td>\n",
       "      <td>Husband</td>\n",
       "      <td>White</td>\n",
       "      <td>Male</td>\n",
       "      <td>0</td>\n",
       "      <td>0</td>\n",
       "      <td>13</td>\n",
       "      <td>United-States</td>\n",
       "      <td>&lt;=50K</td>\n",
       "    </tr>\n",
       "    <tr>\n",
       "      <th>2</th>\n",
       "      <td>38</td>\n",
       "      <td>Private</td>\n",
       "      <td>215646</td>\n",
       "      <td>HS-grad</td>\n",
       "      <td>9</td>\n",
       "      <td>Divorced</td>\n",
       "      <td>Handlers-cleaners</td>\n",
       "      <td>Not-in-family</td>\n",
       "      <td>White</td>\n",
       "      <td>Male</td>\n",
       "      <td>0</td>\n",
       "      <td>0</td>\n",
       "      <td>40</td>\n",
       "      <td>United-States</td>\n",
       "      <td>&lt;=50K</td>\n",
       "    </tr>\n",
       "    <tr>\n",
       "      <th>3</th>\n",
       "      <td>53</td>\n",
       "      <td>Private</td>\n",
       "      <td>234721</td>\n",
       "      <td>11th</td>\n",
       "      <td>7</td>\n",
       "      <td>Married-civ-spouse</td>\n",
       "      <td>Handlers-cleaners</td>\n",
       "      <td>Husband</td>\n",
       "      <td>Black</td>\n",
       "      <td>Male</td>\n",
       "      <td>0</td>\n",
       "      <td>0</td>\n",
       "      <td>40</td>\n",
       "      <td>United-States</td>\n",
       "      <td>&lt;=50K</td>\n",
       "    </tr>\n",
       "    <tr>\n",
       "      <th>4</th>\n",
       "      <td>28</td>\n",
       "      <td>Private</td>\n",
       "      <td>338409</td>\n",
       "      <td>Bachelors</td>\n",
       "      <td>13</td>\n",
       "      <td>Married-civ-spouse</td>\n",
       "      <td>Prof-specialty</td>\n",
       "      <td>Wife</td>\n",
       "      <td>Black</td>\n",
       "      <td>Female</td>\n",
       "      <td>0</td>\n",
       "      <td>0</td>\n",
       "      <td>40</td>\n",
       "      <td>Cuba</td>\n",
       "      <td>&lt;=50K</td>\n",
       "    </tr>\n",
       "    <tr>\n",
       "      <th>...</th>\n",
       "      <td>...</td>\n",
       "      <td>...</td>\n",
       "      <td>...</td>\n",
       "      <td>...</td>\n",
       "      <td>...</td>\n",
       "      <td>...</td>\n",
       "      <td>...</td>\n",
       "      <td>...</td>\n",
       "      <td>...</td>\n",
       "      <td>...</td>\n",
       "      <td>...</td>\n",
       "      <td>...</td>\n",
       "      <td>...</td>\n",
       "      <td>...</td>\n",
       "      <td>...</td>\n",
       "    </tr>\n",
       "    <tr>\n",
       "      <th>22275</th>\n",
       "      <td>71</td>\n",
       "      <td>?</td>\n",
       "      <td>287372</td>\n",
       "      <td>Doctorate</td>\n",
       "      <td>16</td>\n",
       "      <td>Married-civ-spouse</td>\n",
       "      <td>?</td>\n",
       "      <td>Husband</td>\n",
       "      <td>White</td>\n",
       "      <td>Male</td>\n",
       "      <td>0</td>\n",
       "      <td>0</td>\n",
       "      <td>10</td>\n",
       "      <td>United-States</td>\n",
       "      <td>&gt;50K</td>\n",
       "    </tr>\n",
       "    <tr>\n",
       "      <th>22276</th>\n",
       "      <td>39</td>\n",
       "      <td>Local-gov</td>\n",
       "      <td>111499</td>\n",
       "      <td>Assoc-acdm</td>\n",
       "      <td>12</td>\n",
       "      <td>Married-civ-spouse</td>\n",
       "      <td>Adm-clerical</td>\n",
       "      <td>Wife</td>\n",
       "      <td>White</td>\n",
       "      <td>Female</td>\n",
       "      <td>0</td>\n",
       "      <td>0</td>\n",
       "      <td>20</td>\n",
       "      <td>United-States</td>\n",
       "      <td>&gt;50K</td>\n",
       "    </tr>\n",
       "    <tr>\n",
       "      <th>22277</th>\n",
       "      <td>53</td>\n",
       "      <td>Private</td>\n",
       "      <td>321865</td>\n",
       "      <td>Masters</td>\n",
       "      <td>14</td>\n",
       "      <td>Married-civ-spouse</td>\n",
       "      <td>Exec-managerial</td>\n",
       "      <td>Husband</td>\n",
       "      <td>White</td>\n",
       "      <td>Male</td>\n",
       "      <td>0</td>\n",
       "      <td>0</td>\n",
       "      <td>40</td>\n",
       "      <td>United-States</td>\n",
       "      <td>&gt;50K</td>\n",
       "    </tr>\n",
       "    <tr>\n",
       "      <th>22278</th>\n",
       "      <td>40</td>\n",
       "      <td>Private</td>\n",
       "      <td>154374</td>\n",
       "      <td>HS-grad</td>\n",
       "      <td>9</td>\n",
       "      <td>Married-civ-spouse</td>\n",
       "      <td>Machine-op-inspct</td>\n",
       "      <td>Husband</td>\n",
       "      <td>White</td>\n",
       "      <td>Male</td>\n",
       "      <td>0</td>\n",
       "      <td>0</td>\n",
       "      <td>40</td>\n",
       "      <td>United-States</td>\n",
       "      <td>&gt;50K</td>\n",
       "    </tr>\n",
       "    <tr>\n",
       "      <th>22279</th>\n",
       "      <td>52</td>\n",
       "      <td>Self-emp-inc</td>\n",
       "      <td>287927</td>\n",
       "      <td>HS-grad</td>\n",
       "      <td>9</td>\n",
       "      <td>Married-civ-spouse</td>\n",
       "      <td>Exec-managerial</td>\n",
       "      <td>Wife</td>\n",
       "      <td>White</td>\n",
       "      <td>Female</td>\n",
       "      <td>15024</td>\n",
       "      <td>0</td>\n",
       "      <td>40</td>\n",
       "      <td>United-States</td>\n",
       "      <td>&gt;50K</td>\n",
       "    </tr>\n",
       "  </tbody>\n",
       "</table>\n",
       "<p>22280 rows × 15 columns</p>\n",
       "</div>"
      ],
      "text/plain": [
       "       Age          workclass  fnlwgt    education  educational-num  \\\n",
       "0       39          State-gov   77516    Bachelors               13   \n",
       "1       50   Self-emp-not-inc   83311    Bachelors               13   \n",
       "2       38            Private  215646      HS-grad                9   \n",
       "3       53            Private  234721         11th                7   \n",
       "4       28            Private  338409    Bachelors               13   \n",
       "...    ...                ...     ...          ...              ...   \n",
       "22275   71                  ?  287372    Doctorate               16   \n",
       "22276   39          Local-gov  111499   Assoc-acdm               12   \n",
       "22277   53            Private  321865      Masters               14   \n",
       "22278   40            Private  154374      HS-grad                9   \n",
       "22279   52       Self-emp-inc  287927      HS-grad                9   \n",
       "\n",
       "            marital-status          occupation    relationship    race  \\\n",
       "0            Never-married        Adm-clerical   Not-in-family   White   \n",
       "1       Married-civ-spouse     Exec-managerial         Husband   White   \n",
       "2                 Divorced   Handlers-cleaners   Not-in-family   White   \n",
       "3       Married-civ-spouse   Handlers-cleaners         Husband   Black   \n",
       "4       Married-civ-spouse      Prof-specialty            Wife   Black   \n",
       "...                    ...                 ...             ...     ...   \n",
       "22275   Married-civ-spouse                   ?         Husband   White   \n",
       "22276   Married-civ-spouse        Adm-clerical            Wife   White   \n",
       "22277   Married-civ-spouse     Exec-managerial         Husband   White   \n",
       "22278   Married-civ-spouse   Machine-op-inspct         Husband   White   \n",
       "22279   Married-civ-spouse     Exec-managerial            Wife   White   \n",
       "\n",
       "        gender  capital-gain  capital-loss  hours-per-week  native-country  \\\n",
       "0         Male          2174             0              40   United-States   \n",
       "1         Male             0             0              13   United-States   \n",
       "2         Male             0             0              40   United-States   \n",
       "3         Male             0             0              40   United-States   \n",
       "4       Female             0             0              40            Cuba   \n",
       "...        ...           ...           ...             ...             ...   \n",
       "22275     Male             0             0              10   United-States   \n",
       "22276   Female             0             0              20   United-States   \n",
       "22277     Male             0             0              40   United-States   \n",
       "22278     Male             0             0              40   United-States   \n",
       "22279   Female         15024             0              40   United-States   \n",
       "\n",
       "       income  \n",
       "0       <=50K  \n",
       "1       <=50K  \n",
       "2       <=50K  \n",
       "3       <=50K  \n",
       "4       <=50K  \n",
       "...       ...  \n",
       "22275    >50K  \n",
       "22276    >50K  \n",
       "22277    >50K  \n",
       "22278    >50K  \n",
       "22279    >50K  \n",
       "\n",
       "[22280 rows x 15 columns]"
      ]
     },
     "execution_count": 3,
     "metadata": {},
     "output_type": "execute_result"
    }
   ],
   "source": [
    "# df=df.head(30000)\n",
    "df"
   ]
  },
  {
   "cell_type": "code",
   "execution_count": 4,
   "id": "fc80f4c8",
   "metadata": {},
   "outputs": [],
   "source": [
    "df=df.drop([\"fnlwgt\",\"education\",\"marital-status\",\"relationship\",\"capital-gain\"],axis=1)"
   ]
  },
  {
   "cell_type": "code",
   "execution_count": null,
   "id": "8033c399",
   "metadata": {},
   "outputs": [],
   "source": []
  },
  {
   "cell_type": "markdown",
   "id": "fd5ba013",
   "metadata": {},
   "source": [
    "<h2> Finding the unique values in the following attributes for label encoding</h2>"
   ]
  },
  {
   "cell_type": "code",
   "execution_count": 5,
   "id": "edfc3739",
   "metadata": {},
   "outputs": [
    {
     "data": {
      "text/plain": [
       "{1: ' ?',\n",
       " 2: ' Federal-gov',\n",
       " 3: ' Local-gov',\n",
       " 4: ' Never-worked',\n",
       " 5: ' Private',\n",
       " 6: ' Self-emp-inc',\n",
       " 7: ' Self-emp-not-inc',\n",
       " 8: ' State-gov',\n",
       " 9: ' Without-pay'}"
      ]
     },
     "execution_count": 5,
     "metadata": {},
     "output_type": "execute_result"
    }
   ],
   "source": [
    "val=np.unique(np.array(df['workclass']))\n",
    "workclass_dict=dict()\n",
    "for i in range(len(val)):\n",
    "    workclass_dict[i+1]=val[i]\n",
    "workclass_dict"
   ]
  },
  {
   "cell_type": "code",
   "execution_count": 6,
   "id": "2c1a8fa8",
   "metadata": {},
   "outputs": [
    {
     "data": {
      "text/plain": [
       "{1: ' ?',\n",
       " 2: ' Adm-clerical',\n",
       " 3: ' Armed-Forces',\n",
       " 4: ' Craft-repair',\n",
       " 5: ' Exec-managerial',\n",
       " 6: ' Farming-fishing',\n",
       " 7: ' Handlers-cleaners',\n",
       " 8: ' Machine-op-inspct',\n",
       " 9: ' Other-service',\n",
       " 10: ' Priv-house-serv',\n",
       " 11: ' Prof-specialty',\n",
       " 12: ' Protective-serv',\n",
       " 13: ' Sales',\n",
       " 14: ' Tech-support',\n",
       " 15: ' Transport-moving'}"
      ]
     },
     "execution_count": 6,
     "metadata": {},
     "output_type": "execute_result"
    }
   ],
   "source": [
    "val2=np.unique(np.array(df['occupation']))\n",
    "occupation_dict=dict()\n",
    "for i in range(len(val2)):\n",
    "    occupation_dict[i+1]=val2[i]\n",
    "occupation_dict"
   ]
  },
  {
   "cell_type": "code",
   "execution_count": 7,
   "id": "ee2ce655",
   "metadata": {},
   "outputs": [
    {
     "data": {
      "text/plain": [
       "{1: ' Amer-Indian-Eskimo',\n",
       " 2: ' Asian-Pac-Islander',\n",
       " 3: ' Black',\n",
       " 4: ' Other',\n",
       " 5: ' White'}"
      ]
     },
     "execution_count": 7,
     "metadata": {},
     "output_type": "execute_result"
    }
   ],
   "source": [
    "val3=np.unique(np.array(df['race']))\n",
    "race_dict=dict()\n",
    "for i in range(len(val3)):\n",
    "    race_dict[i+1]=val3[i]\n",
    "race_dict"
   ]
  },
  {
   "cell_type": "code",
   "execution_count": 8,
   "id": "1c34d5ae",
   "metadata": {},
   "outputs": [
    {
     "data": {
      "text/plain": [
       "{1: ' Female', 2: ' Male'}"
      ]
     },
     "execution_count": 8,
     "metadata": {},
     "output_type": "execute_result"
    }
   ],
   "source": [
    "val4=np.unique(np.array(df['gender']))\n",
    "gender_dict=dict()\n",
    "for i in range(len(val4)):\n",
    "    gender_dict[i+1]=val4[i]\n",
    "gender_dict"
   ]
  },
  {
   "cell_type": "code",
   "execution_count": 9,
   "id": "b2889b72",
   "metadata": {},
   "outputs": [
    {
     "data": {
      "text/plain": [
       "{1: ' ?',\n",
       " 2: ' Cambodia',\n",
       " 3: ' Canada',\n",
       " 4: ' China',\n",
       " 5: ' Columbia',\n",
       " 6: ' Cuba',\n",
       " 7: ' Dominican-Republic',\n",
       " 8: ' Ecuador',\n",
       " 9: ' El-Salvador',\n",
       " 10: ' England',\n",
       " 11: ' France',\n",
       " 12: ' Germany',\n",
       " 13: ' Greece',\n",
       " 14: ' Guatemala',\n",
       " 15: ' Haiti',\n",
       " 16: ' Holand-Netherlands',\n",
       " 17: ' Honduras',\n",
       " 18: ' Hong',\n",
       " 19: ' Hungary',\n",
       " 20: ' India',\n",
       " 21: ' Iran',\n",
       " 22: ' Ireland',\n",
       " 23: ' Italy',\n",
       " 24: ' Jamaica',\n",
       " 25: ' Japan',\n",
       " 26: ' Laos',\n",
       " 27: ' Mexico',\n",
       " 28: ' Nicaragua',\n",
       " 29: ' Outlying-US(Guam-USVI-etc)',\n",
       " 30: ' Peru',\n",
       " 31: ' Philippines',\n",
       " 32: ' Poland',\n",
       " 33: ' Portugal',\n",
       " 34: ' Puerto-Rico',\n",
       " 35: ' Scotland',\n",
       " 36: ' South',\n",
       " 37: ' Taiwan',\n",
       " 38: ' Thailand',\n",
       " 39: ' Trinadad&Tobago',\n",
       " 40: ' United-States',\n",
       " 41: ' Vietnam',\n",
       " 42: ' Yugoslavia'}"
      ]
     },
     "execution_count": 9,
     "metadata": {},
     "output_type": "execute_result"
    }
   ],
   "source": [
    "val5=np.unique(np.array(df['native-country']))\n",
    "native_dict=dict()\n",
    "for i in range(len(val5)):\n",
    "    native_dict[i+1]=val5[i]\n",
    "native_dict"
   ]
  },
  {
   "cell_type": "code",
   "execution_count": null,
   "id": "26589cb4",
   "metadata": {},
   "outputs": [],
   "source": []
  },
  {
   "cell_type": "code",
   "execution_count": null,
   "id": "19daf00d",
   "metadata": {},
   "outputs": [],
   "source": []
  },
  {
   "cell_type": "markdown",
   "id": "30e487f8",
   "metadata": {},
   "source": [
    "<h2>Convert string attributes to integers using LabelEncoder</h2>"
   ]
  },
  {
   "cell_type": "code",
   "execution_count": 10,
   "id": "d0eb20b0",
   "metadata": {},
   "outputs": [],
   "source": [
    "from sklearn.preprocessing import LabelEncoder"
   ]
  },
  {
   "cell_type": "code",
   "execution_count": 11,
   "id": "05b4b277",
   "metadata": {},
   "outputs": [],
   "source": [
    "Lr=LabelEncoder()"
   ]
  },
  {
   "cell_type": "code",
   "execution_count": 12,
   "id": "7135ba1c",
   "metadata": {},
   "outputs": [
    {
     "data": {
      "text/plain": [
       "LabelEncoder()"
      ]
     },
     "execution_count": 12,
     "metadata": {},
     "output_type": "execute_result"
    }
   ],
   "source": [
    "Lr"
   ]
  },
  {
   "cell_type": "code",
   "execution_count": 13,
   "id": "6392b330",
   "metadata": {},
   "outputs": [],
   "source": [
    "temp=df[['workclass', 'occupation', 'race', 'gender', 'native-country', 'income']]"
   ]
  },
  {
   "cell_type": "code",
   "execution_count": null,
   "id": "6bac5cfe",
   "metadata": {},
   "outputs": [],
   "source": []
  },
  {
   "cell_type": "code",
   "execution_count": 14,
   "id": "e31d633b",
   "metadata": {},
   "outputs": [
    {
     "data": {
      "text/plain": [
       "Index(['Age', 'workclass', 'educational-num', 'occupation', 'race', 'gender',\n",
       "       'capital-loss', 'hours-per-week', 'native-country', 'income'],\n",
       "      dtype='object')"
      ]
     },
     "execution_count": 14,
     "metadata": {},
     "output_type": "execute_result"
    }
   ],
   "source": [
    "df.columns"
   ]
  },
  {
   "cell_type": "code",
   "execution_count": 15,
   "id": "17a95b8d",
   "metadata": {},
   "outputs": [],
   "source": [
    "for i in temp.columns:\n",
    "    df[i]=Lr.fit_transform(df[i])"
   ]
  },
  {
   "cell_type": "code",
   "execution_count": 16,
   "id": "c52f1bd4",
   "metadata": {},
   "outputs": [
    {
     "data": {
      "text/html": [
       "<div>\n",
       "<style scoped>\n",
       "    .dataframe tbody tr th:only-of-type {\n",
       "        vertical-align: middle;\n",
       "    }\n",
       "\n",
       "    .dataframe tbody tr th {\n",
       "        vertical-align: top;\n",
       "    }\n",
       "\n",
       "    .dataframe thead th {\n",
       "        text-align: right;\n",
       "    }\n",
       "</style>\n",
       "<table border=\"1\" class=\"dataframe\">\n",
       "  <thead>\n",
       "    <tr style=\"text-align: right;\">\n",
       "      <th></th>\n",
       "      <th>Age</th>\n",
       "      <th>workclass</th>\n",
       "      <th>educational-num</th>\n",
       "      <th>occupation</th>\n",
       "      <th>race</th>\n",
       "      <th>gender</th>\n",
       "      <th>capital-loss</th>\n",
       "      <th>hours-per-week</th>\n",
       "      <th>native-country</th>\n",
       "      <th>income</th>\n",
       "    </tr>\n",
       "  </thead>\n",
       "  <tbody>\n",
       "    <tr>\n",
       "      <th>0</th>\n",
       "      <td>39</td>\n",
       "      <td>7</td>\n",
       "      <td>13</td>\n",
       "      <td>1</td>\n",
       "      <td>4</td>\n",
       "      <td>1</td>\n",
       "      <td>0</td>\n",
       "      <td>40</td>\n",
       "      <td>39</td>\n",
       "      <td>0</td>\n",
       "    </tr>\n",
       "    <tr>\n",
       "      <th>1</th>\n",
       "      <td>50</td>\n",
       "      <td>6</td>\n",
       "      <td>13</td>\n",
       "      <td>4</td>\n",
       "      <td>4</td>\n",
       "      <td>1</td>\n",
       "      <td>0</td>\n",
       "      <td>13</td>\n",
       "      <td>39</td>\n",
       "      <td>0</td>\n",
       "    </tr>\n",
       "    <tr>\n",
       "      <th>2</th>\n",
       "      <td>38</td>\n",
       "      <td>4</td>\n",
       "      <td>9</td>\n",
       "      <td>6</td>\n",
       "      <td>4</td>\n",
       "      <td>1</td>\n",
       "      <td>0</td>\n",
       "      <td>40</td>\n",
       "      <td>39</td>\n",
       "      <td>0</td>\n",
       "    </tr>\n",
       "    <tr>\n",
       "      <th>3</th>\n",
       "      <td>53</td>\n",
       "      <td>4</td>\n",
       "      <td>7</td>\n",
       "      <td>6</td>\n",
       "      <td>2</td>\n",
       "      <td>1</td>\n",
       "      <td>0</td>\n",
       "      <td>40</td>\n",
       "      <td>39</td>\n",
       "      <td>0</td>\n",
       "    </tr>\n",
       "    <tr>\n",
       "      <th>4</th>\n",
       "      <td>28</td>\n",
       "      <td>4</td>\n",
       "      <td>13</td>\n",
       "      <td>10</td>\n",
       "      <td>2</td>\n",
       "      <td>0</td>\n",
       "      <td>0</td>\n",
       "      <td>40</td>\n",
       "      <td>5</td>\n",
       "      <td>0</td>\n",
       "    </tr>\n",
       "    <tr>\n",
       "      <th>...</th>\n",
       "      <td>...</td>\n",
       "      <td>...</td>\n",
       "      <td>...</td>\n",
       "      <td>...</td>\n",
       "      <td>...</td>\n",
       "      <td>...</td>\n",
       "      <td>...</td>\n",
       "      <td>...</td>\n",
       "      <td>...</td>\n",
       "      <td>...</td>\n",
       "    </tr>\n",
       "    <tr>\n",
       "      <th>22275</th>\n",
       "      <td>71</td>\n",
       "      <td>0</td>\n",
       "      <td>16</td>\n",
       "      <td>0</td>\n",
       "      <td>4</td>\n",
       "      <td>1</td>\n",
       "      <td>0</td>\n",
       "      <td>10</td>\n",
       "      <td>39</td>\n",
       "      <td>1</td>\n",
       "    </tr>\n",
       "    <tr>\n",
       "      <th>22276</th>\n",
       "      <td>39</td>\n",
       "      <td>2</td>\n",
       "      <td>12</td>\n",
       "      <td>1</td>\n",
       "      <td>4</td>\n",
       "      <td>0</td>\n",
       "      <td>0</td>\n",
       "      <td>20</td>\n",
       "      <td>39</td>\n",
       "      <td>1</td>\n",
       "    </tr>\n",
       "    <tr>\n",
       "      <th>22277</th>\n",
       "      <td>53</td>\n",
       "      <td>4</td>\n",
       "      <td>14</td>\n",
       "      <td>4</td>\n",
       "      <td>4</td>\n",
       "      <td>1</td>\n",
       "      <td>0</td>\n",
       "      <td>40</td>\n",
       "      <td>39</td>\n",
       "      <td>1</td>\n",
       "    </tr>\n",
       "    <tr>\n",
       "      <th>22278</th>\n",
       "      <td>40</td>\n",
       "      <td>4</td>\n",
       "      <td>9</td>\n",
       "      <td>7</td>\n",
       "      <td>4</td>\n",
       "      <td>1</td>\n",
       "      <td>0</td>\n",
       "      <td>40</td>\n",
       "      <td>39</td>\n",
       "      <td>1</td>\n",
       "    </tr>\n",
       "    <tr>\n",
       "      <th>22279</th>\n",
       "      <td>52</td>\n",
       "      <td>5</td>\n",
       "      <td>9</td>\n",
       "      <td>4</td>\n",
       "      <td>4</td>\n",
       "      <td>0</td>\n",
       "      <td>0</td>\n",
       "      <td>40</td>\n",
       "      <td>39</td>\n",
       "      <td>1</td>\n",
       "    </tr>\n",
       "  </tbody>\n",
       "</table>\n",
       "<p>22280 rows × 10 columns</p>\n",
       "</div>"
      ],
      "text/plain": [
       "       Age  workclass  educational-num  occupation  race  gender  \\\n",
       "0       39          7               13           1     4       1   \n",
       "1       50          6               13           4     4       1   \n",
       "2       38          4                9           6     4       1   \n",
       "3       53          4                7           6     2       1   \n",
       "4       28          4               13          10     2       0   \n",
       "...    ...        ...              ...         ...   ...     ...   \n",
       "22275   71          0               16           0     4       1   \n",
       "22276   39          2               12           1     4       0   \n",
       "22277   53          4               14           4     4       1   \n",
       "22278   40          4                9           7     4       1   \n",
       "22279   52          5                9           4     4       0   \n",
       "\n",
       "       capital-loss  hours-per-week  native-country  income  \n",
       "0                 0              40              39       0  \n",
       "1                 0              13              39       0  \n",
       "2                 0              40              39       0  \n",
       "3                 0              40              39       0  \n",
       "4                 0              40               5       0  \n",
       "...             ...             ...             ...     ...  \n",
       "22275             0              10              39       1  \n",
       "22276             0              20              39       1  \n",
       "22277             0              40              39       1  \n",
       "22278             0              40              39       1  \n",
       "22279             0              40              39       1  \n",
       "\n",
       "[22280 rows x 10 columns]"
      ]
     },
     "execution_count": 16,
     "metadata": {},
     "output_type": "execute_result"
    }
   ],
   "source": [
    "df"
   ]
  },
  {
   "cell_type": "code",
   "execution_count": 17,
   "id": "5029db03",
   "metadata": {},
   "outputs": [
    {
     "data": {
      "text/plain": [
       "Index(['Age', 'workclass', 'educational-num', 'occupation', 'race', 'gender',\n",
       "       'capital-loss', 'hours-per-week', 'native-country', 'income'],\n",
       "      dtype='object')"
      ]
     },
     "execution_count": 17,
     "metadata": {},
     "output_type": "execute_result"
    }
   ],
   "source": [
    "df.columns"
   ]
  },
  {
   "cell_type": "code",
   "execution_count": 18,
   "id": "62216fba",
   "metadata": {},
   "outputs": [
    {
     "data": {
      "text/plain": [
       "<AxesSubplot:>"
      ]
     },
     "execution_count": 18,
     "metadata": {},
     "output_type": "execute_result"
    },
    {
     "data": {
      "image/png": "[encoded data removed]",
      "text/plain": [
       "<Figure size 432x288 with 1 Axes>"
      ]
     },
     "metadata": {
      "needs_background": "light"
     },
     "output_type": "display_data"
    }
   ],
   "source": [
    "df['income'].hist()"
   ]
  },
  {
   "cell_type": "code",
   "execution_count": 19,
   "id": "4cf956ca",
   "metadata": {},
   "outputs": [
    {
     "data": {
      "text/plain": [
       "Age                7841\n",
       "workclass          7841\n",
       "educational-num    7841\n",
       "occupation         7841\n",
       "race               7841\n",
       "gender             7841\n",
       "capital-loss       7841\n",
       "hours-per-week     7841\n",
       "native-country     7841\n",
       "income             7841\n",
       "dtype: int64"
      ]
     },
     "execution_count": 19,
     "metadata": {},
     "output_type": "execute_result"
    }
   ],
   "source": [
    "df[df['income']==1].count()"
   ]
  },
  {
   "cell_type": "code",
   "execution_count": 20,
   "id": "bb525358",
   "metadata": {},
   "outputs": [
    {
     "data": {
      "text/plain": [
       "Age                14439\n",
       "workclass          14439\n",
       "educational-num    14439\n",
       "occupation         14439\n",
       "race               14439\n",
       "gender             14439\n",
       "capital-loss       14439\n",
       "hours-per-week     14439\n",
       "native-country     14439\n",
       "income             14439\n",
       "dtype: int64"
      ]
     },
     "execution_count": 20,
     "metadata": {},
     "output_type": "execute_result"
    }
   ],
   "source": [
    "df[df['income']==0].count()"
   ]
  },
  {
   "cell_type": "code",
   "execution_count": null,
   "id": "b370b58f",
   "metadata": {},
   "outputs": [],
   "source": []
  },
  {
   "cell_type": "code",
   "execution_count": null,
   "id": "fe9166d2",
   "metadata": {},
   "outputs": [],
   "source": []
  },
  {
   "cell_type": "markdown",
   "id": "d5aa1c50",
   "metadata": {},
   "source": [
    "## Calculate the Prior probability"
   ]
  },
  {
   "cell_type": "code",
   "execution_count": 21,
   "id": "a103a124",
   "metadata": {},
   "outputs": [],
   "source": [
    "def calculate_prior(df, Y):\n",
    "    classes = sorted(list(df[Y].unique()))\n",
    "    prior = []\n",
    "    for i in classes:\n",
    "        prior.append(len(df[df[Y] == i]) / len(df))\n",
    "    return prior"
   ]
  },
  {
   "cell_type": "markdown",
   "id": "dba5b727",
   "metadata": {},
   "source": [
    "## Calculate the Likelihood using Gaussian Distribution"
   ]
  },
  {
   "cell_type": "code",
   "execution_count": 22,
   "id": "198921cf",
   "metadata": {},
   "outputs": [],
   "source": [
    "def calculate_likelihood_gaussian(df, feat_name, feat_val, Y, Label):\n",
    "    feat = list(df.columns)\n",
    "    df = df[df[Y] == Label]\n",
    "    mean, std = df[feat_name].mean() ,df[feat_name].std()\n",
    "    if std!=0:\n",
    "        p_x_given_y = (1/(np.sqrt(2*np.pi)*std)) * np.exp(- ((feat_val - mean) **2 / (2 * std**2)) )\n",
    "        return p_x_given_y\n",
    "    else:\n",
    "        return 1"
   ]
  },
  {
   "cell_type": "code",
   "execution_count": 23,
   "id": "6cb8b6c3",
   "metadata": {},
   "outputs": [
    {
     "data": {
      "text/plain": [
       "Age                0\n",
       "workclass          0\n",
       "educational-num    0\n",
       "occupation         0\n",
       "race               0\n",
       "gender             0\n",
       "capital-loss       0\n",
       "hours-per-week     0\n",
       "native-country     0\n",
       "income             0\n",
       "dtype: int64"
      ]
     },
     "execution_count": 23,
     "metadata": {},
     "output_type": "execute_result"
    }
   ],
   "source": [
    "df[df.isnull()].count()"
   ]
  },
  {
   "cell_type": "markdown",
   "id": "f3a1251c",
   "metadata": {},
   "source": [
    "## Apply the followings to find the posterior probability "
   ]
  },
  {
   "cell_type": "code",
   "execution_count": 24,
   "id": "25e31015",
   "metadata": {},
   "outputs": [],
   "source": [
    "def naivebayes(df, X, Y):\n",
    "    features = list(df.columns)[:-1]\n",
    "    prior = calculate_prior(df, Y)\n",
    "    Y_pred = []\n",
    "    for x in X:\n",
    "        labels = sorted(list(df[Y].unique()))\n",
    "        likelihood = [1]*len(labels)\n",
    "        for j in range(len(labels)):\n",
    "            for i in range(len(features)):\n",
    "                likelihood[j] += np.log(calculate_likelihood_gaussian(df, features[i], x[i], Y, labels[j]))\n",
    "        \n",
    "        post_prob = [1]*len(labels)\n",
    "        for j in range(len(labels)):\n",
    "            post_prob[j] = likelihood[j] + np.log(prior[j])\n",
    "        Y_pred.append(np.argmax((post_prob)))\n",
    "    return np.array(Y_pred)"
   ]
  },
  {
   "cell_type": "code",
   "execution_count": null,
   "id": "ad414e5f",
   "metadata": {},
   "outputs": [],
   "source": []
  },
  {
   "cell_type": "code",
   "execution_count": null,
   "id": "d56617c8",
   "metadata": {},
   "outputs": [],
   "source": []
  },
  {
   "cell_type": "markdown",
   "id": "22ff8eda",
   "metadata": {},
   "source": [
    "## Using SKLEARN train_test_split to split the train and test data"
   ]
  },
  {
   "cell_type": "code",
   "execution_count": 25,
   "id": "258a244f",
   "metadata": {},
   "outputs": [],
   "source": [
    "from sklearn.model_selection import train_test_split\n",
    "train, test = train_test_split(df, test_size=.2, random_state=40)"
   ]
  },
  {
   "cell_type": "code",
   "execution_count": 26,
   "id": "103733a5",
   "metadata": {
    "scrolled": true
   },
   "outputs": [
    {
     "data": {
      "text/plain": [
       "0.7529174147217235"
      ]
     },
     "execution_count": 26,
     "metadata": {},
     "output_type": "execute_result"
    }
   ],
   "source": [
    "\n",
    "\n",
    "X_test = test.iloc[:,:-1].values\n",
    "Y_test = test.iloc[:,-1].values\n",
    "\n",
    "Y_pred = naivebayes(train, X=X_test, Y=\"income\")\n",
    "\n",
    "from sklearn.metrics import accuracy_score\n",
    "\n",
    "accuracy_score(Y_test, Y_pred,normalize=True)"
   ]
  },
  {
   "cell_type": "code",
   "execution_count": 27,
   "id": "698ac5b6",
   "metadata": {},
   "outputs": [
    {
     "name": "stdout",
     "output_type": "stream",
     "text": [
      "3274\n",
      "1182\n"
     ]
    }
   ],
   "source": [
    "a=0\n",
    "b=0\n",
    "for i in range(Y_pred.size):\n",
    "    if(Y_pred[i]==0):\n",
    "        a+=1\n",
    "    else:\n",
    "        b+=1\n",
    "print(a)\n",
    "print(b)"
   ]
  },
  {
   "cell_type": "code",
   "execution_count": 28,
   "id": "9e6597c9",
   "metadata": {},
   "outputs": [
    {
     "name": "stderr",
     "output_type": "stream",
     "text": [
      "i:\\python\\python system files\\lib\\site-packages\\seaborn\\_decorators.py:36: FutureWarning: Pass the following variable as a keyword arg: x. From version 0.12, the only valid positional argument will be `data`, and passing other arguments without an explicit keyword will result in an error or misinterpretation.\n",
      "  warnings.warn(\n"
     ]
    },
    {
     "data": {
      "text/plain": [
       "<AxesSubplot:xlabel='income', ylabel='count'>"
      ]
     },
     "execution_count": 28,
     "metadata": {},
     "output_type": "execute_result"
    },
    {
     "data": {
      "image/png": "[encoded data removed]",
      "text/plain": [
       "<Figure size 432x288 with 1 Axes>"
      ]
     },
     "metadata": {
      "needs_background": "light"
     },
     "output_type": "display_data"
    }
   ],
   "source": [
    "sns.countplot(train[\"income\"])"
   ]
  },
  {
   "cell_type": "code",
   "execution_count": null,
   "id": "aef8cec7",
   "metadata": {},
   "outputs": [],
   "source": []
  },
  {
   "cell_type": "code",
   "execution_count": null,
   "id": "85cced66",
   "metadata": {},
   "outputs": [],
   "source": []
  },
  {
   "cell_type": "markdown",
   "id": "2c48d181",
   "metadata": {},
   "source": [
    "## As we have imbalanced dataset we have to rebalance the dataset to prevent biasing of dataset"
   ]
  },
  {
   "cell_type": "markdown",
   "id": "d5215373",
   "metadata": {},
   "source": [
    "# RESAMPLING METHOD"
   ]
  },
  {
   "cell_type": "markdown",
   "id": "d7b0e778",
   "metadata": {},
   "source": [
    "This technique is used to upsample or downsample the minority or majority class. When we are using an imbalanced dataset, we can oversample the minority class using replacement. This technique is called oversampling. Similarly, we can randomly delete rows from the majority class to match them with the minority class which is called undersampling. After sampling the data we can get a balanced dataset for both majority and minority classes. So, when both classes have a similar number of records present in the dataset, we can assume that the classifier will give equal importance to both classes."
   ]
  },
  {
   "cell_type": "code",
   "execution_count": 29,
   "id": "f9fb7c8a",
   "metadata": {},
   "outputs": [
    {
     "name": "stderr",
     "output_type": "stream",
     "text": [
      "i:\\python\\python system files\\lib\\site-packages\\seaborn\\_decorators.py:36: FutureWarning: Pass the following variable as a keyword arg: x. From version 0.12, the only valid positional argument will be `data`, and passing other arguments without an explicit keyword will result in an error or misinterpretation.\n",
      "  warnings.warn(\n"
     ]
    },
    {
     "data": {
      "text/plain": [
       "<AxesSubplot:xlabel='income', ylabel='count'>"
      ]
     },
     "execution_count": 29,
     "metadata": {},
     "output_type": "execute_result"
    },
    {
     "data": {
      "image/png": "[encoded data removed]",
      "text/plain": [
       "<Figure size 432x288 with 1 Axes>"
      ]
     },
     "metadata": {
      "needs_background": "light"
     },
     "output_type": "display_data"
    }
   ],
   "source": [
    "sns.countplot(df[\"income\"])"
   ]
  },
  {
   "cell_type": "code",
   "execution_count": 30,
   "id": "120bfa1d",
   "metadata": {},
   "outputs": [],
   "source": [
    "from sklearn.utils import resample\n"
   ]
  },
  {
   "cell_type": "markdown",
   "id": "5567565c",
   "metadata": {},
   "source": [
    "Now we have to create two classes i.e major and minor"
   ]
  },
  {
   "cell_type": "code",
   "execution_count": 31,
   "id": "1a69a531",
   "metadata": {},
   "outputs": [],
   "source": [
    "train_major=train[(train[\"income\"]==0)]\n",
    "train_minor=train[(train[\"income\"]==1)]"
   ]
  },
  {
   "cell_type": "code",
   "execution_count": 32,
   "id": "a44797f8",
   "metadata": {},
   "outputs": [
    {
     "data": {
      "text/plain": [
       "Age                11552\n",
       "workclass          11552\n",
       "educational-num    11552\n",
       "occupation         11552\n",
       "race               11552\n",
       "gender             11552\n",
       "capital-loss       11552\n",
       "hours-per-week     11552\n",
       "native-country     11552\n",
       "income             11552\n",
       "dtype: int64"
      ]
     },
     "execution_count": 32,
     "metadata": {},
     "output_type": "execute_result"
    }
   ],
   "source": [
    "train_major.count()"
   ]
  },
  {
   "cell_type": "code",
   "execution_count": 33,
   "id": "61d02c7c",
   "metadata": {},
   "outputs": [
    {
     "data": {
      "text/plain": [
       "Age                6272\n",
       "workclass          6272\n",
       "educational-num    6272\n",
       "occupation         6272\n",
       "race               6272\n",
       "gender             6272\n",
       "capital-loss       6272\n",
       "hours-per-week     6272\n",
       "native-country     6272\n",
       "income             6272\n",
       "dtype: int64"
      ]
     },
     "execution_count": 33,
     "metadata": {},
     "output_type": "execute_result"
    }
   ],
   "source": [
    "train_minor.count()"
   ]
  },
  {
   "cell_type": "code",
   "execution_count": 34,
   "id": "76c71cb6",
   "metadata": {},
   "outputs": [
    {
     "name": "stdout",
     "output_type": "stream",
     "text": [
      "Size before concatenating the new data = \n",
      " Age                17824\n",
      "workclass          17824\n",
      "educational-num    17824\n",
      "occupation         17824\n",
      "race               17824\n",
      "gender             17824\n",
      "capital-loss       17824\n",
      "hours-per-week     17824\n",
      "native-country     17824\n",
      "income             17824\n",
      "dtype: int64\n"
     ]
    }
   ],
   "source": [
    "print(\"Size before concatenating the new data = \\n\",train.count())"
   ]
  },
  {
   "cell_type": "code",
   "execution_count": 35,
   "id": "67672a77",
   "metadata": {},
   "outputs": [],
   "source": [
    "train_minor_up=resample(\n",
    "          train_minor,\n",
    "    replace=True,\n",
    "    n_samples=2000,\n",
    "    random_state=42\n",
    ")\n",
    "\n",
    "#cancat with the old data\n",
    "\n",
    "train=pd.concat([train_minor_up,train_major])"
   ]
  },
  {
   "cell_type": "code",
   "execution_count": 36,
   "id": "aa79f4e1",
   "metadata": {},
   "outputs": [
    {
     "data": {
      "text/html": [
       "<div>\n",
       "<style scoped>\n",
       "    .dataframe tbody tr th:only-of-type {\n",
       "        vertical-align: middle;\n",
       "    }\n",
       "\n",
       "    .dataframe tbody tr th {\n",
       "        vertical-align: top;\n",
       "    }\n",
       "\n",
       "    .dataframe thead th {\n",
       "        text-align: right;\n",
       "    }\n",
       "</style>\n",
       "<table border=\"1\" class=\"dataframe\">\n",
       "  <thead>\n",
       "    <tr style=\"text-align: right;\">\n",
       "      <th></th>\n",
       "      <th>Age</th>\n",
       "      <th>workclass</th>\n",
       "      <th>educational-num</th>\n",
       "      <th>occupation</th>\n",
       "      <th>race</th>\n",
       "      <th>gender</th>\n",
       "      <th>capital-loss</th>\n",
       "      <th>hours-per-week</th>\n",
       "      <th>native-country</th>\n",
       "      <th>income</th>\n",
       "    </tr>\n",
       "  </thead>\n",
       "  <tbody>\n",
       "    <tr>\n",
       "      <th>18861</th>\n",
       "      <td>29</td>\n",
       "      <td>2</td>\n",
       "      <td>11</td>\n",
       "      <td>13</td>\n",
       "      <td>4</td>\n",
       "      <td>0</td>\n",
       "      <td>0</td>\n",
       "      <td>35</td>\n",
       "      <td>27</td>\n",
       "      <td>1</td>\n",
       "    </tr>\n",
       "    <tr>\n",
       "      <th>15598</th>\n",
       "      <td>58</td>\n",
       "      <td>4</td>\n",
       "      <td>9</td>\n",
       "      <td>6</td>\n",
       "      <td>2</td>\n",
       "      <td>1</td>\n",
       "      <td>0</td>\n",
       "      <td>20</td>\n",
       "      <td>39</td>\n",
       "      <td>1</td>\n",
       "    </tr>\n",
       "    <tr>\n",
       "      <th>18914</th>\n",
       "      <td>54</td>\n",
       "      <td>6</td>\n",
       "      <td>9</td>\n",
       "      <td>5</td>\n",
       "      <td>4</td>\n",
       "      <td>1</td>\n",
       "      <td>0</td>\n",
       "      <td>60</td>\n",
       "      <td>39</td>\n",
       "      <td>1</td>\n",
       "    </tr>\n",
       "    <tr>\n",
       "      <th>16451</th>\n",
       "      <td>51</td>\n",
       "      <td>4</td>\n",
       "      <td>13</td>\n",
       "      <td>10</td>\n",
       "      <td>4</td>\n",
       "      <td>1</td>\n",
       "      <td>0</td>\n",
       "      <td>40</td>\n",
       "      <td>39</td>\n",
       "      <td>1</td>\n",
       "    </tr>\n",
       "    <tr>\n",
       "      <th>15758</th>\n",
       "      <td>55</td>\n",
       "      <td>4</td>\n",
       "      <td>9</td>\n",
       "      <td>10</td>\n",
       "      <td>4</td>\n",
       "      <td>1</td>\n",
       "      <td>0</td>\n",
       "      <td>40</td>\n",
       "      <td>39</td>\n",
       "      <td>1</td>\n",
       "    </tr>\n",
       "    <tr>\n",
       "      <th>...</th>\n",
       "      <td>...</td>\n",
       "      <td>...</td>\n",
       "      <td>...</td>\n",
       "      <td>...</td>\n",
       "      <td>...</td>\n",
       "      <td>...</td>\n",
       "      <td>...</td>\n",
       "      <td>...</td>\n",
       "      <td>...</td>\n",
       "      <td>...</td>\n",
       "    </tr>\n",
       "    <tr>\n",
       "      <th>3603</th>\n",
       "      <td>37</td>\n",
       "      <td>4</td>\n",
       "      <td>9</td>\n",
       "      <td>1</td>\n",
       "      <td>2</td>\n",
       "      <td>0</td>\n",
       "      <td>0</td>\n",
       "      <td>40</td>\n",
       "      <td>39</td>\n",
       "      <td>0</td>\n",
       "    </tr>\n",
       "    <tr>\n",
       "      <th>12914</th>\n",
       "      <td>23</td>\n",
       "      <td>4</td>\n",
       "      <td>3</td>\n",
       "      <td>3</td>\n",
       "      <td>4</td>\n",
       "      <td>1</td>\n",
       "      <td>0</td>\n",
       "      <td>40</td>\n",
       "      <td>26</td>\n",
       "      <td>0</td>\n",
       "    </tr>\n",
       "    <tr>\n",
       "      <th>5959</th>\n",
       "      <td>40</td>\n",
       "      <td>2</td>\n",
       "      <td>14</td>\n",
       "      <td>10</td>\n",
       "      <td>4</td>\n",
       "      <td>0</td>\n",
       "      <td>0</td>\n",
       "      <td>44</td>\n",
       "      <td>39</td>\n",
       "      <td>0</td>\n",
       "    </tr>\n",
       "    <tr>\n",
       "      <th>11532</th>\n",
       "      <td>19</td>\n",
       "      <td>4</td>\n",
       "      <td>10</td>\n",
       "      <td>12</td>\n",
       "      <td>4</td>\n",
       "      <td>1</td>\n",
       "      <td>0</td>\n",
       "      <td>25</td>\n",
       "      <td>39</td>\n",
       "      <td>0</td>\n",
       "    </tr>\n",
       "    <tr>\n",
       "      <th>11590</th>\n",
       "      <td>36</td>\n",
       "      <td>4</td>\n",
       "      <td>9</td>\n",
       "      <td>4</td>\n",
       "      <td>4</td>\n",
       "      <td>1</td>\n",
       "      <td>0</td>\n",
       "      <td>52</td>\n",
       "      <td>39</td>\n",
       "      <td>0</td>\n",
       "    </tr>\n",
       "  </tbody>\n",
       "</table>\n",
       "<p>13552 rows × 10 columns</p>\n",
       "</div>"
      ],
      "text/plain": [
       "       Age  workclass  educational-num  occupation  race  gender  \\\n",
       "18861   29          2               11          13     4       0   \n",
       "15598   58          4                9           6     2       1   \n",
       "18914   54          6                9           5     4       1   \n",
       "16451   51          4               13          10     4       1   \n",
       "15758   55          4                9          10     4       1   \n",
       "...    ...        ...              ...         ...   ...     ...   \n",
       "3603    37          4                9           1     2       0   \n",
       "12914   23          4                3           3     4       1   \n",
       "5959    40          2               14          10     4       0   \n",
       "11532   19          4               10          12     4       1   \n",
       "11590   36          4                9           4     4       1   \n",
       "\n",
       "       capital-loss  hours-per-week  native-country  income  \n",
       "18861             0              35              27       1  \n",
       "15598             0              20              39       1  \n",
       "18914             0              60              39       1  \n",
       "16451             0              40              39       1  \n",
       "15758             0              40              39       1  \n",
       "...             ...             ...             ...     ...  \n",
       "3603              0              40              39       0  \n",
       "12914             0              40              26       0  \n",
       "5959              0              44              39       0  \n",
       "11532             0              25              39       0  \n",
       "11590             0              52              39       0  \n",
       "\n",
       "[13552 rows x 10 columns]"
      ]
     },
     "execution_count": 36,
     "metadata": {},
     "output_type": "execute_result"
    }
   ],
   "source": [
    "train"
   ]
  },
  {
   "cell_type": "code",
   "execution_count": 37,
   "id": "7001d376",
   "metadata": {},
   "outputs": [
    {
     "data": {
      "text/plain": [
       "Age                11552\n",
       "workclass          11552\n",
       "educational-num    11552\n",
       "occupation         11552\n",
       "race               11552\n",
       "gender             11552\n",
       "capital-loss       11552\n",
       "hours-per-week     11552\n",
       "native-country     11552\n",
       "income             11552\n",
       "dtype: int64"
      ]
     },
     "execution_count": 37,
     "metadata": {},
     "output_type": "execute_result"
    }
   ],
   "source": [
    "train_major.count()"
   ]
  },
  {
   "cell_type": "code",
   "execution_count": 38,
   "id": "22558ac6",
   "metadata": {
    "scrolled": true
   },
   "outputs": [
    {
     "data": {
      "text/plain": [
       "Age                6272\n",
       "workclass          6272\n",
       "educational-num    6272\n",
       "occupation         6272\n",
       "race               6272\n",
       "gender             6272\n",
       "capital-loss       6272\n",
       "hours-per-week     6272\n",
       "native-country     6272\n",
       "income             6272\n",
       "dtype: int64"
      ]
     },
     "execution_count": 38,
     "metadata": {},
     "output_type": "execute_result"
    }
   ],
   "source": [
    "train_minor.count()"
   ]
  },
  {
   "cell_type": "code",
   "execution_count": 39,
   "id": "c9beb1b8",
   "metadata": {},
   "outputs": [
    {
     "name": "stdout",
     "output_type": "stream",
     "text": [
      "Size After concatenating the new data = \n",
      " Age                13552\n",
      "workclass          13552\n",
      "educational-num    13552\n",
      "occupation         13552\n",
      "race               13552\n",
      "gender             13552\n",
      "capital-loss       13552\n",
      "hours-per-week     13552\n",
      "native-country     13552\n",
      "income             13552\n",
      "dtype: int64\n"
     ]
    }
   ],
   "source": [
    "print(\"Size After concatenating the new data = \\n\",train.count())"
   ]
  },
  {
   "cell_type": "code",
   "execution_count": null,
   "id": "f0588579",
   "metadata": {},
   "outputs": [],
   "source": []
  },
  {
   "cell_type": "code",
   "execution_count": 65,
   "id": "d8c4e62d",
   "metadata": {},
   "outputs": [],
   "source": [
    "\n",
    "X_test = test.iloc[:,:-1].values\n",
    "Y_test = test.iloc[:,-1].values"
   ]
  },
  {
   "cell_type": "code",
   "execution_count": null,
   "id": "7d6b73c9",
   "metadata": {},
   "outputs": [],
   "source": []
  },
  {
   "cell_type": "markdown",
   "id": "056cdb4e",
   "metadata": {},
   "source": [
    "## ACCURACY OF THE MODEL:"
   ]
  },
  {
   "cell_type": "code",
   "execution_count": 66,
   "id": "4e82df0c",
   "metadata": {
    "scrolled": true
   },
   "outputs": [
    {
     "name": "stdout",
     "output_type": "stream",
     "text": [
      "0.7264362657091562\n"
     ]
    }
   ],
   "source": [
    "Y_pred = naivebayes(train, X=X_test, Y=\"income\")\n",
    "\n",
    "from sklearn.metrics import accuracy_score\n",
    "\n",
    "print(accuracy_score(Y_test, Y_pred,normalize=True))"
   ]
  },
  {
   "cell_type": "code",
   "execution_count": 67,
   "id": "6f29012a",
   "metadata": {},
   "outputs": [
    {
     "data": {
      "text/plain": [
       "array([0, 0, 0, ..., 0, 0, 0], dtype=int64)"
      ]
     },
     "execution_count": 67,
     "metadata": {},
     "output_type": "execute_result"
    }
   ],
   "source": [
    "Y_pred"
   ]
  },
  {
   "cell_type": "code",
   "execution_count": 68,
   "id": "f950b04d",
   "metadata": {},
   "outputs": [],
   "source": [
    "#for user input"
   ]
  },
  {
   "cell_type": "code",
   "execution_count": 69,
   "id": "cbb213ff",
   "metadata": {},
   "outputs": [],
   "source": [
    "X_test = test.iloc[:,:-1].values\n",
    "Y_test = test.iloc[:,-1].values"
   ]
  },
  {
   "cell_type": "code",
   "execution_count": 70,
   "id": "71fccc21",
   "metadata": {},
   "outputs": [
    {
     "data": {
      "text/plain": [
       "array([0, 0, 0, ..., 0, 0, 0], dtype=int64)"
      ]
     },
     "execution_count": 70,
     "metadata": {},
     "output_type": "execute_result"
    }
   ],
   "source": [
    "Y_pred"
   ]
  },
  {
   "cell_type": "code",
   "execution_count": 71,
   "id": "f3d3e2b8",
   "metadata": {},
   "outputs": [
    {
     "data": {
      "text/plain": [
       "Index(['Age', 'workclass', 'educational-num', 'occupation', 'race', 'gender',\n",
       "       'capital-loss', 'hours-per-week', 'native-country', 'income'],\n",
       "      dtype='object')"
      ]
     },
     "execution_count": 71,
     "metadata": {},
     "output_type": "execute_result"
    }
   ],
   "source": [
    "test.columns"
   ]
  },
  {
   "cell_type": "markdown",
   "id": "ae0875cd",
   "metadata": {},
   "source": [
    "# ENTER IN THIS FORMAT"
   ]
  },
  {
   "cell_type": "code",
   "execution_count": 72,
   "id": "3fde56e7",
   "metadata": {},
   "outputs": [
    {
     "data": {
      "text/plain": [
       "{1: ' ?',\n",
       " 2: ' Federal-gov',\n",
       " 3: ' Local-gov',\n",
       " 4: ' Never-worked',\n",
       " 5: ' Private',\n",
       " 6: ' Self-emp-inc',\n",
       " 7: ' Self-emp-not-inc',\n",
       " 8: ' State-gov',\n",
       " 9: ' Without-pay'}"
      ]
     },
     "execution_count": 72,
     "metadata": {},
     "output_type": "execute_result"
    }
   ],
   "source": [
    "workclass_dict"
   ]
  },
  {
   "cell_type": "code",
   "execution_count": 73,
   "id": "820b4b8d",
   "metadata": {},
   "outputs": [
    {
     "data": {
      "text/plain": [
       "{1: ' ?',\n",
       " 2: ' Adm-clerical',\n",
       " 3: ' Armed-Forces',\n",
       " 4: ' Craft-repair',\n",
       " 5: ' Exec-managerial',\n",
       " 6: ' Farming-fishing',\n",
       " 7: ' Handlers-cleaners',\n",
       " 8: ' Machine-op-inspct',\n",
       " 9: ' Other-service',\n",
       " 10: ' Priv-house-serv',\n",
       " 11: ' Prof-specialty',\n",
       " 12: ' Protective-serv',\n",
       " 13: ' Sales',\n",
       " 14: ' Tech-support',\n",
       " 15: ' Transport-moving'}"
      ]
     },
     "execution_count": 73,
     "metadata": {},
     "output_type": "execute_result"
    }
   ],
   "source": [
    "occupation_dict"
   ]
  },
  {
   "cell_type": "code",
   "execution_count": 74,
   "id": "a2443fe3",
   "metadata": {},
   "outputs": [
    {
     "data": {
      "text/plain": [
       "{1: ' Amer-Indian-Eskimo',\n",
       " 2: ' Asian-Pac-Islander',\n",
       " 3: ' Black',\n",
       " 4: ' Other',\n",
       " 5: ' White'}"
      ]
     },
     "execution_count": 74,
     "metadata": {},
     "output_type": "execute_result"
    }
   ],
   "source": [
    "race_dict"
   ]
  },
  {
   "cell_type": "code",
   "execution_count": 75,
   "id": "ecf77343",
   "metadata": {},
   "outputs": [
    {
     "data": {
      "text/plain": [
       "{1: ' Female', 2: ' Male'}"
      ]
     },
     "execution_count": 75,
     "metadata": {},
     "output_type": "execute_result"
    }
   ],
   "source": [
    "gender_dict"
   ]
  },
  {
   "cell_type": "code",
   "execution_count": 76,
   "id": "1624aa11",
   "metadata": {},
   "outputs": [
    {
     "data": {
      "text/plain": [
       "{1: ' ?',\n",
       " 2: ' Cambodia',\n",
       " 3: ' Canada',\n",
       " 4: ' China',\n",
       " 5: ' Columbia',\n",
       " 6: ' Cuba',\n",
       " 7: ' Dominican-Republic',\n",
       " 8: ' Ecuador',\n",
       " 9: ' El-Salvador',\n",
       " 10: ' England',\n",
       " 11: ' France',\n",
       " 12: ' Germany',\n",
       " 13: ' Greece',\n",
       " 14: ' Guatemala',\n",
       " 15: ' Haiti',\n",
       " 16: ' Holand-Netherlands',\n",
       " 17: ' Honduras',\n",
       " 18: ' Hong',\n",
       " 19: ' Hungary',\n",
       " 20: ' India',\n",
       " 21: ' Iran',\n",
       " 22: ' Ireland',\n",
       " 23: ' Italy',\n",
       " 24: ' Jamaica',\n",
       " 25: ' Japan',\n",
       " 26: ' Laos',\n",
       " 27: ' Mexico',\n",
       " 28: ' Nicaragua',\n",
       " 29: ' Outlying-US(Guam-USVI-etc)',\n",
       " 30: ' Peru',\n",
       " 31: ' Philippines',\n",
       " 32: ' Poland',\n",
       " 33: ' Portugal',\n",
       " 34: ' Puerto-Rico',\n",
       " 35: ' Scotland',\n",
       " 36: ' South',\n",
       " 37: ' Taiwan',\n",
       " 38: ' Thailand',\n",
       " 39: ' Trinadad&Tobago',\n",
       " 40: ' United-States',\n",
       " 41: ' Vietnam',\n",
       " 42: ' Yugoslavia'}"
      ]
     },
     "execution_count": 76,
     "metadata": {},
     "output_type": "execute_result"
    }
   ],
   "source": [
    "native_dict"
   ]
  },
  {
   "cell_type": "code",
   "execution_count": null,
   "id": "6b87c1f4",
   "metadata": {},
   "outputs": [],
   "source": []
  },
  {
   "cell_type": "code",
   "execution_count": 77,
   "id": "7a584636",
   "metadata": {},
   "outputs": [
    {
     "name": "stdout",
     "output_type": "stream",
     "text": [
      "25\n",
      "34\n",
      "36\n",
      "49\n",
      "50\n",
      "52\n",
      "54\n",
      "75\n",
      "77\n",
      "81\n",
      "103\n",
      "105\n",
      "107\n",
      "114\n",
      "119\n",
      "127\n",
      "128\n",
      "136\n",
      "144\n",
      "160\n",
      "162\n",
      "171\n",
      "176\n",
      "183\n",
      "189\n",
      "194\n",
      "215\n",
      "220\n",
      "227\n",
      "228\n",
      "232\n",
      "237\n",
      "246\n",
      "254\n",
      "259\n",
      "263\n",
      "272\n",
      "275\n",
      "277\n",
      "279\n",
      "280\n",
      "301\n",
      "303\n",
      "312\n",
      "328\n",
      "334\n",
      "338\n",
      "339\n",
      "345\n",
      "362\n",
      "363\n",
      "364\n",
      "380\n",
      "390\n",
      "400\n",
      "401\n",
      "404\n",
      "411\n",
      "415\n",
      "425\n",
      "432\n",
      "445\n",
      "450\n",
      "462\n",
      "470\n",
      "473\n",
      "477\n",
      "479\n",
      "495\n",
      "500\n",
      "524\n",
      "527\n",
      "529\n",
      "532\n",
      "533\n",
      "540\n",
      "541\n",
      "544\n",
      "552\n",
      "556\n",
      "560\n",
      "561\n",
      "563\n",
      "584\n",
      "592\n",
      "594\n",
      "604\n",
      "607\n",
      "609\n",
      "612\n",
      "613\n",
      "617\n",
      "618\n",
      "627\n",
      "630\n",
      "633\n",
      "637\n",
      "655\n",
      "664\n",
      "666\n",
      "670\n",
      "671\n",
      "678\n",
      "680\n",
      "688\n",
      "701\n",
      "705\n",
      "710\n",
      "743\n",
      "745\n",
      "759\n",
      "764\n",
      "767\n",
      "770\n",
      "774\n",
      "780\n",
      "786\n",
      "790\n",
      "809\n",
      "811\n",
      "840\n",
      "841\n",
      "857\n",
      "862\n",
      "866\n",
      "869\n",
      "876\n",
      "880\n",
      "889\n",
      "902\n",
      "912\n",
      "922\n",
      "929\n",
      "941\n",
      "955\n",
      "958\n",
      "968\n",
      "974\n",
      "977\n",
      "978\n",
      "981\n",
      "982\n",
      "989\n",
      "1011\n",
      "1014\n",
      "1017\n",
      "1025\n",
      "1037\n",
      "1043\n",
      "1047\n",
      "1056\n",
      "1061\n",
      "1066\n",
      "1085\n",
      "1101\n",
      "1113\n",
      "1118\n",
      "1122\n",
      "1123\n",
      "1126\n",
      "1128\n",
      "1139\n",
      "1140\n",
      "1145\n",
      "1161\n",
      "1173\n",
      "1175\n",
      "1184\n",
      "1187\n",
      "1189\n",
      "1190\n",
      "1199\n",
      "1211\n",
      "1251\n",
      "1258\n",
      "1264\n",
      "1270\n",
      "1273\n",
      "1289\n",
      "1324\n",
      "1326\n",
      "1352\n",
      "1378\n",
      "1384\n",
      "1389\n",
      "1415\n",
      "1417\n",
      "1423\n",
      "1424\n",
      "1425\n",
      "1427\n",
      "1428\n",
      "1429\n",
      "1430\n",
      "1432\n",
      "1448\n",
      "1449\n",
      "1455\n",
      "1468\n",
      "1474\n",
      "1484\n",
      "1489\n",
      "1499\n",
      "1502\n",
      "1510\n",
      "1522\n",
      "1526\n",
      "1533\n",
      "1541\n",
      "1543\n",
      "1554\n",
      "1561\n",
      "1566\n",
      "1569\n",
      "1572\n",
      "1577\n",
      "1603\n",
      "1619\n",
      "1620\n",
      "1629\n",
      "1631\n",
      "1652\n",
      "1664\n",
      "1679\n",
      "1683\n",
      "1688\n",
      "1698\n",
      "1700\n",
      "1716\n",
      "1718\n",
      "1722\n",
      "1729\n",
      "1735\n",
      "1736\n",
      "1749\n",
      "1763\n",
      "1769\n",
      "1778\n",
      "1782\n",
      "1799\n",
      "1824\n",
      "1827\n",
      "1838\n",
      "1842\n",
      "1847\n",
      "1852\n",
      "1854\n",
      "1873\n",
      "1881\n",
      "1882\n",
      "1891\n",
      "1903\n",
      "1926\n",
      "1927\n",
      "1936\n",
      "1940\n",
      "1955\n",
      "1959\n",
      "1968\n",
      "1972\n",
      "1984\n",
      "1989\n",
      "1993\n",
      "1995\n",
      "1997\n",
      "2006\n",
      "2017\n",
      "2021\n",
      "2025\n",
      "2027\n",
      "2031\n",
      "2035\n",
      "2040\n",
      "2050\n",
      "2058\n",
      "2059\n",
      "2066\n",
      "2084\n",
      "2086\n",
      "2093\n",
      "2094\n",
      "2095\n",
      "2097\n",
      "2104\n",
      "2108\n",
      "2115\n",
      "2123\n",
      "2124\n",
      "2129\n",
      "2130\n",
      "2140\n",
      "2154\n",
      "2178\n",
      "2199\n",
      "2204\n",
      "2205\n",
      "2206\n",
      "2210\n",
      "2218\n",
      "2229\n",
      "2238\n",
      "2240\n",
      "2267\n",
      "2268\n",
      "2270\n",
      "2272\n",
      "2276\n",
      "2279\n",
      "2291\n",
      "2312\n",
      "2317\n",
      "2325\n",
      "2335\n",
      "2336\n",
      "2345\n",
      "2348\n",
      "2367\n",
      "2371\n",
      "2394\n",
      "2402\n",
      "2403\n",
      "2407\n",
      "2411\n",
      "2413\n",
      "2426\n",
      "2431\n",
      "2432\n",
      "2440\n",
      "2447\n",
      "2453\n",
      "2461\n",
      "2464\n",
      "2470\n",
      "2471\n",
      "2498\n",
      "2505\n",
      "2542\n",
      "2546\n",
      "2561\n",
      "2573\n",
      "2583\n",
      "2587\n",
      "2594\n",
      "2596\n",
      "2603\n",
      "2607\n",
      "2620\n",
      "2633\n",
      "2641\n",
      "2644\n",
      "2655\n",
      "2667\n",
      "2671\n",
      "2672\n",
      "2675\n",
      "2688\n",
      "2699\n",
      "2700\n",
      "2702\n",
      "2708\n",
      "2723\n",
      "2726\n",
      "2729\n",
      "2730\n",
      "2733\n",
      "2742\n",
      "2763\n",
      "2764\n",
      "2768\n",
      "2773\n",
      "2782\n",
      "2810\n",
      "2811\n",
      "2818\n",
      "2821\n",
      "2824\n",
      "2830\n",
      "2833\n",
      "2837\n",
      "2846\n",
      "2855\n",
      "2856\n",
      "2870\n",
      "2890\n",
      "2896\n",
      "2901\n",
      "2914\n",
      "2920\n",
      "2921\n",
      "2925\n",
      "2926\n",
      "2930\n",
      "2931\n",
      "2934\n",
      "2945\n",
      "2961\n",
      "2964\n",
      "2967\n",
      "2969\n",
      "2980\n",
      "2987\n",
      "2994\n",
      "3007\n",
      "3020\n",
      "3024\n",
      "3025\n",
      "3026\n",
      "3033\n",
      "3039\n",
      "3040\n",
      "3047\n",
      "3049\n",
      "3055\n",
      "3056\n",
      "3073\n",
      "3086\n",
      "3091\n",
      "3101\n",
      "3103\n",
      "3118\n",
      "3123\n",
      "3125\n",
      "3133\n",
      "3145\n",
      "3157\n",
      "3160\n",
      "3161\n",
      "3185\n",
      "3190\n",
      "3195\n",
      "3198\n",
      "3210\n",
      "3229\n",
      "3231\n",
      "3238\n",
      "3240\n",
      "3247\n",
      "3261\n",
      "3270\n",
      "3273\n",
      "3281\n",
      "3291\n",
      "3297\n",
      "3302\n",
      "3303\n",
      "3305\n",
      "3310\n",
      "3326\n",
      "3330\n",
      "3337\n",
      "3346\n",
      "3348\n",
      "3352\n",
      "3362\n",
      "3366\n",
      "3369\n",
      "3372\n",
      "3373\n",
      "3374\n",
      "3377\n",
      "3399\n",
      "3414\n",
      "3422\n",
      "3430\n",
      "3435\n",
      "3436\n",
      "3441\n",
      "3442\n",
      "3446\n",
      "3453\n",
      "3458\n",
      "3464\n",
      "3469\n",
      "3488\n",
      "3506\n",
      "3508\n",
      "3531\n",
      "3543\n",
      "3576\n",
      "3580\n",
      "3585\n",
      "3598\n",
      "3600\n",
      "3601\n",
      "3618\n",
      "3619\n",
      "3634\n",
      "3637\n",
      "3638\n",
      "3644\n",
      "3650\n",
      "3672\n",
      "3681\n",
      "3692\n",
      "3695\n",
      "3700\n",
      "3709\n",
      "3723\n",
      "3733\n",
      "3744\n",
      "3746\n",
      "3748\n",
      "3750\n",
      "3762\n",
      "3771\n",
      "3787\n",
      "3808\n",
      "3817\n",
      "3819\n",
      "3823\n",
      "3829\n",
      "3833\n",
      "3841\n",
      "3850\n",
      "3865\n",
      "3867\n",
      "3869\n",
      "3884\n",
      "3892\n",
      "3895\n",
      "3896\n",
      "3898\n",
      "3935\n",
      "3948\n",
      "3955\n",
      "3956\n",
      "3968\n",
      "3973\n",
      "4000\n",
      "4003\n",
      "4007\n",
      "4008\n",
      "4022\n",
      "4024\n",
      "4029\n",
      "4030\n",
      "4034\n",
      "4041\n",
      "4074\n",
      "4076\n",
      "4079\n",
      "4087\n",
      "4091\n",
      "4112\n",
      "4123\n",
      "4128\n",
      "4130\n",
      "4132\n",
      "4137\n",
      "4142\n",
      "4144\n",
      "4147\n",
      "4153\n",
      "4165\n",
      "4171\n",
      "4178\n",
      "4182\n",
      "4187\n",
      "4191\n",
      "4194\n",
      "4201\n",
      "4225\n",
      "4228\n",
      "4237\n",
      "4272\n",
      "4273\n",
      "4275\n",
      "4291\n",
      "4297\n",
      "4298\n",
      "4300\n",
      "4307\n",
      "4311\n",
      "4327\n",
      "4329\n",
      "4354\n",
      "4361\n",
      "4364\n",
      "4365\n",
      "4378\n",
      "4386\n",
      "4396\n",
      "4402\n",
      "4405\n",
      "4416\n",
      "4423\n",
      "4430\n",
      "4440\n"
     ]
    }
   ],
   "source": [
    "for i in range(Y_pred.size):\n",
    "    if(Y_pred[i]==1):\n",
    "          print(i)"
   ]
  },
  {
   "cell_type": "code",
   "execution_count": 78,
   "id": "e91d5ba6",
   "metadata": {},
   "outputs": [
    {
     "data": {
      "text/plain": [
       "array([  48,    4,   13,   12,    4,    0, 2472,   70,   39], dtype=int64)"
      ]
     },
     "execution_count": 78,
     "metadata": {},
     "output_type": "execute_result"
    }
   ],
   "source": [
    "X_test[25]"
   ]
  },
  {
   "cell_type": "code",
   "execution_count": null,
   "id": "8a618127",
   "metadata": {},
   "outputs": [],
   "source": []
  },
  {
   "cell_type": "code",
   "execution_count": null,
   "id": "97573c60",
   "metadata": {},
   "outputs": [],
   "source": []
  },
  {
   "cell_type": "code",
   "execution_count": 79,
   "id": "0d353908",
   "metadata": {},
   "outputs": [
    {
     "name": "stdout",
     "output_type": "stream",
     "text": [
      "Enter the age = 48\n",
      "Enter the workclas = 4\n",
      "Enter the educational number = 13\n",
      "Enter the occupation = 12\n",
      "Enter the race = 4\n",
      "Enter the gender = 0\n",
      "Enter the capital-loss = 2472\n",
      "Enter the hours = 70\n",
      "Enter the native = 39\n"
     ]
    }
   ],
   "source": [
    "age=int(input(\"Enter the age = \"))\n",
    "workclass=int(input(\"Enter the workclas = \"))\n",
    "educational_num=int(input(\"Enter the educational number = \"))\n",
    "occupation=int(input(\"Enter the occupation = \"))\n",
    "race=int(input(\"Enter the race = \"))\n",
    "gender=int(input(\"Enter the gender = \"))\n",
    "capital_loss=int(input(\"Enter the capital-loss = \"))\n",
    "hours=int(input(\"Enter the hours = \"))\n",
    "native=int(input(\"Enter the native = \"))\n",
    "\n",
    "X_t=np.array([[age,workclass,educational_num,occupation,race,gender,capital_loss,hours,native]])"
   ]
  },
  {
   "cell_type": "code",
   "execution_count": null,
   "id": "cf435f76",
   "metadata": {},
   "outputs": [],
   "source": []
  },
  {
   "cell_type": "code",
   "execution_count": 81,
   "id": "e344924d",
   "metadata": {},
   "outputs": [
    {
     "name": "stdout",
     "output_type": "stream",
     "text": [
      "[1] \n",
      "\n"
     ]
    }
   ],
   "source": [
    "Y_pre = naivebayes(train, X=X_t, Y=\"income\")\n",
    "\n",
    "print(Y_pre,\"\\n\")"
   ]
  },
  {
   "cell_type": "code",
   "execution_count": null,
   "id": "6c94a60a",
   "metadata": {},
   "outputs": [],
   "source": []
  },
  {
   "cell_type": "code",
   "execution_count": null,
   "id": "6d591710",
   "metadata": {},
   "outputs": [],
   "source": []
  },
  {
   "cell_type": "markdown",
   "id": "7c4ca334",
   "metadata": {},
   "source": [
    "<h1>Result</h1>\n",
    "Thus, Naive Bayes Classifier has been performed on the adult income dataset. "
   ]
  },
  {
   "cell_type": "code",
   "execution_count": null,
   "id": "e63c69b5",
   "metadata": {},
   "outputs": [],
   "source": []
  }
 ],
 "metadata": {
  "kernelspec": {
   "display_name": "Python 3 (ipykernel)",
   "language": "python",
   "name": "python3"
  },
  "language_info": {
   "codemirror_mode": {
    "name": "ipython",
    "version": 3
   },
   "file_extension": ".py",
   "mimetype": "text/x-python",
   "name": "python",
   "nbconvert_exporter": "python",
   "pygments_lexer": "ipython3",
   "version": "3.9.6"
  }
 },
 "nbformat": 4,
 "nbformat_minor": 5
}
